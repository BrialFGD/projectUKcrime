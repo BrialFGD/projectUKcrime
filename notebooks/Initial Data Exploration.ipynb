{
 "cells": [
  {
   "cell_type": "code",
   "execution_count": 3,
   "id": "d722db5a",
   "metadata": {},
   "outputs": [],
   "source": [
    "import pandas as pd \n",
    "import numpy as np\n",
    "import os\n",
    "import glob\n",
    "import folium\n",
    "import folium.plugins\n",
    "import datetime\n",
    "from folium.plugins import HeatMapWithTime\n",
    "import requests"
   ]
  },
  {
   "cell_type": "markdown",
   "id": "c8d7d548",
   "metadata": {
    "heading_collapsed": true
   },
   "source": [
    "# Initial analysis"
   ]
  },
  {
   "cell_type": "code",
   "execution_count": 11,
   "id": "4b7840f1",
   "metadata": {
    "hidden": true
   },
   "outputs": [],
   "source": [
    "path = \"/Users/brialforestier/code/BrialFGD/projectUKcrime/raw_data/2021-05\"\n",
    "filename = \"2021-05-avon-and-somerset-street.csv\""
   ]
  },
  {
   "cell_type": "code",
   "execution_count": 12,
   "id": "698a6736",
   "metadata": {
    "hidden": true
   },
   "outputs": [
    {
     "data": {
      "text/plain": [
       "'/Users/brialforestier/code/BrialFGD/projectUKcrime/raw_data/2021-05/2021-05-avon-and-somerset-street.csv'"
      ]
     },
     "execution_count": 12,
     "metadata": {},
     "output_type": "execute_result"
    }
   ],
   "source": [
    "full_path = path+\"/\"+filename\n",
    "full_path"
   ]
  },
  {
   "cell_type": "code",
   "execution_count": 173,
   "id": "4d8096cf",
   "metadata": {
    "hidden": true
   },
   "outputs": [],
   "source": [
    "df = pd.read_csv(full_path)"
   ]
  },
  {
   "cell_type": "code",
   "execution_count": 125,
   "id": "fb58e705",
   "metadata": {
    "hidden": true
   },
   "outputs": [
    {
     "data": {
      "text/html": [
       "<div>\n",
       "<style scoped>\n",
       "    .dataframe tbody tr th:only-of-type {\n",
       "        vertical-align: middle;\n",
       "    }\n",
       "\n",
       "    .dataframe tbody tr th {\n",
       "        vertical-align: top;\n",
       "    }\n",
       "\n",
       "    .dataframe thead th {\n",
       "        text-align: right;\n",
       "    }\n",
       "</style>\n",
       "<table border=\"1\" class=\"dataframe\">\n",
       "  <thead>\n",
       "    <tr style=\"text-align: right;\">\n",
       "      <th></th>\n",
       "      <th>Crime ID</th>\n",
       "      <th>Month</th>\n",
       "      <th>Reported by</th>\n",
       "      <th>Falls within</th>\n",
       "      <th>Longitude</th>\n",
       "      <th>Latitude</th>\n",
       "      <th>Location</th>\n",
       "      <th>LSOA code</th>\n",
       "      <th>LSOA name</th>\n",
       "      <th>Crime type</th>\n",
       "      <th>Last outcome category</th>\n",
       "      <th>Context</th>\n",
       "    </tr>\n",
       "  </thead>\n",
       "  <tbody>\n",
       "    <tr>\n",
       "      <th>0</th>\n",
       "      <td>NaN</td>\n",
       "      <td>2021-05</td>\n",
       "      <td>Avon and Somerset Constabulary</td>\n",
       "      <td>Avon and Somerset Constabulary</td>\n",
       "      <td>-2.494870</td>\n",
       "      <td>51.422276</td>\n",
       "      <td>On or near Conference/Exhibition Centre</td>\n",
       "      <td>E01014399</td>\n",
       "      <td>Bath and North East Somerset 001A</td>\n",
       "      <td>Anti-social behaviour</td>\n",
       "      <td>NaN</td>\n",
       "      <td>NaN</td>\n",
       "    </tr>\n",
       "    <tr>\n",
       "      <th>1</th>\n",
       "      <td>4d223210a924499f387156a1ef04bb09024b62bbe807c6...</td>\n",
       "      <td>2021-05</td>\n",
       "      <td>Avon and Somerset Constabulary</td>\n",
       "      <td>Avon and Somerset Constabulary</td>\n",
       "      <td>-2.515816</td>\n",
       "      <td>51.408717</td>\n",
       "      <td>On or near Caroline Close</td>\n",
       "      <td>E01014399</td>\n",
       "      <td>Bath and North East Somerset 001A</td>\n",
       "      <td>Burglary</td>\n",
       "      <td>Under investigation</td>\n",
       "      <td>NaN</td>\n",
       "    </tr>\n",
       "    <tr>\n",
       "      <th>2</th>\n",
       "      <td>5f7d695d4c96d9c018618bfc72ff0157c9ff31e8452638...</td>\n",
       "      <td>2021-05</td>\n",
       "      <td>Avon and Somerset Constabulary</td>\n",
       "      <td>Avon and Somerset Constabulary</td>\n",
       "      <td>-2.513343</td>\n",
       "      <td>51.408772</td>\n",
       "      <td>On or near Lincoln Close</td>\n",
       "      <td>E01014399</td>\n",
       "      <td>Bath and North East Somerset 001A</td>\n",
       "      <td>Burglary</td>\n",
       "      <td>Under investigation</td>\n",
       "      <td>NaN</td>\n",
       "    </tr>\n",
       "    <tr>\n",
       "      <th>3</th>\n",
       "      <td>940708e1bc177f15670ebb12c8d4c0b2ae5bb89d9ee18f...</td>\n",
       "      <td>2021-05</td>\n",
       "      <td>Avon and Somerset Constabulary</td>\n",
       "      <td>Avon and Somerset Constabulary</td>\n",
       "      <td>-2.495055</td>\n",
       "      <td>51.422132</td>\n",
       "      <td>On or near Cross Street</td>\n",
       "      <td>E01014399</td>\n",
       "      <td>Bath and North East Somerset 001A</td>\n",
       "      <td>Criminal damage and arson</td>\n",
       "      <td>Under investigation</td>\n",
       "      <td>NaN</td>\n",
       "    </tr>\n",
       "    <tr>\n",
       "      <th>4</th>\n",
       "      <td>379ea276b5df46854b4f887d930b5f543499606fe08b29...</td>\n",
       "      <td>2021-05</td>\n",
       "      <td>Avon and Somerset Constabulary</td>\n",
       "      <td>Avon and Somerset Constabulary</td>\n",
       "      <td>-2.515072</td>\n",
       "      <td>51.419357</td>\n",
       "      <td>On or near Stockwood Hill</td>\n",
       "      <td>E01014399</td>\n",
       "      <td>Bath and North East Somerset 001A</td>\n",
       "      <td>Other theft</td>\n",
       "      <td>Under investigation</td>\n",
       "      <td>NaN</td>\n",
       "    </tr>\n",
       "  </tbody>\n",
       "</table>\n",
       "</div>"
      ],
      "text/plain": [
       "                                            Crime ID    Month  \\\n",
       "0                                                NaN  2021-05   \n",
       "1  4d223210a924499f387156a1ef04bb09024b62bbe807c6...  2021-05   \n",
       "2  5f7d695d4c96d9c018618bfc72ff0157c9ff31e8452638...  2021-05   \n",
       "3  940708e1bc177f15670ebb12c8d4c0b2ae5bb89d9ee18f...  2021-05   \n",
       "4  379ea276b5df46854b4f887d930b5f543499606fe08b29...  2021-05   \n",
       "\n",
       "                      Reported by                    Falls within  Longitude  \\\n",
       "0  Avon and Somerset Constabulary  Avon and Somerset Constabulary  -2.494870   \n",
       "1  Avon and Somerset Constabulary  Avon and Somerset Constabulary  -2.515816   \n",
       "2  Avon and Somerset Constabulary  Avon and Somerset Constabulary  -2.513343   \n",
       "3  Avon and Somerset Constabulary  Avon and Somerset Constabulary  -2.495055   \n",
       "4  Avon and Somerset Constabulary  Avon and Somerset Constabulary  -2.515072   \n",
       "\n",
       "    Latitude                                 Location  LSOA code  \\\n",
       "0  51.422276  On or near Conference/Exhibition Centre  E01014399   \n",
       "1  51.408717                On or near Caroline Close  E01014399   \n",
       "2  51.408772                 On or near Lincoln Close  E01014399   \n",
       "3  51.422132                  On or near Cross Street  E01014399   \n",
       "4  51.419357                On or near Stockwood Hill  E01014399   \n",
       "\n",
       "                           LSOA name                 Crime type  \\\n",
       "0  Bath and North East Somerset 001A      Anti-social behaviour   \n",
       "1  Bath and North East Somerset 001A                   Burglary   \n",
       "2  Bath and North East Somerset 001A                   Burglary   \n",
       "3  Bath and North East Somerset 001A  Criminal damage and arson   \n",
       "4  Bath and North East Somerset 001A                Other theft   \n",
       "\n",
       "  Last outcome category  Context  \n",
       "0                   NaN      NaN  \n",
       "1   Under investigation      NaN  \n",
       "2   Under investigation      NaN  \n",
       "3   Under investigation      NaN  \n",
       "4   Under investigation      NaN  "
      ]
     },
     "execution_count": 125,
     "metadata": {},
     "output_type": "execute_result"
    }
   ],
   "source": [
    "df.head()"
   ]
  },
  {
   "cell_type": "code",
   "execution_count": 19,
   "id": "16896e72",
   "metadata": {
    "hidden": true
   },
   "outputs": [
    {
     "data": {
      "text/plain": [
       "count                                                 11188\n",
       "unique                                                11126\n",
       "top       d007771cd6442b3e9452a4d68ecfc3d68fb793daac14fa...\n",
       "freq                                                      2\n",
       "Name: Crime ID, dtype: object"
      ]
     },
     "execution_count": 19,
     "metadata": {},
     "output_type": "execute_result"
    }
   ],
   "source": [
    "df['Crime ID'].describe()"
   ]
  },
  {
   "cell_type": "code",
   "execution_count": 20,
   "id": "07645122",
   "metadata": {
    "hidden": true
   },
   "outputs": [
    {
     "data": {
      "text/plain": [
       "count       14046\n",
       "unique          1\n",
       "top       2021-05\n",
       "freq        14046\n",
       "Name: Month, dtype: object"
      ]
     },
     "execution_count": 20,
     "metadata": {},
     "output_type": "execute_result"
    }
   ],
   "source": [
    "df['Month'].describe()"
   ]
  },
  {
   "cell_type": "code",
   "execution_count": 18,
   "id": "7c2b3155",
   "metadata": {
    "hidden": true
   },
   "outputs": [
    {
     "data": {
      "text/plain": [
       "Crime ID                 11188\n",
       "Month                    14046\n",
       "Reported by              14046\n",
       "Falls within             14046\n",
       "Longitude                13147\n",
       "Latitude                 13147\n",
       "Location                 14046\n",
       "LSOA code                13147\n",
       "LSOA name                13147\n",
       "Crime type               14046\n",
       "Last outcome category    11188\n",
       "Context                      0\n",
       "dtype: int64"
      ]
     },
     "execution_count": 18,
     "metadata": {},
     "output_type": "execute_result"
    }
   ],
   "source": [
    "df.count()"
   ]
  },
  {
   "cell_type": "code",
   "execution_count": 21,
   "id": "a04dc80b",
   "metadata": {
    "hidden": true
   },
   "outputs": [
    {
     "data": {
      "text/plain": [
       "count                            14046\n",
       "unique                              14\n",
       "top       Violence and sexual offences\n",
       "freq                              4692\n",
       "Name: Crime type, dtype: object"
      ]
     },
     "execution_count": 21,
     "metadata": {},
     "output_type": "execute_result"
    }
   ],
   "source": [
    "df['Crime type'].describe()"
   ]
  },
  {
   "cell_type": "code",
   "execution_count": 23,
   "id": "a8ded059",
   "metadata": {
    "hidden": true
   },
   "outputs": [
    {
     "data": {
      "text/plain": [
       "Violence and sexual offences    4692\n",
       "Anti-social behaviour           2858\n",
       "Public order                    1762\n",
       "Criminal damage and arson       1157\n",
       "Vehicle crime                    827\n",
       "Other theft                      783\n",
       "Shoplifting                      585\n",
       "Burglary                         528\n",
       "Drugs                            208\n",
       "Other crime                      204\n",
       "Bicycle theft                    167\n",
       "Robbery                          128\n",
       "Theft from the person             81\n",
       "Possession of weapons             66\n",
       "Name: Crime type, dtype: int64"
      ]
     },
     "execution_count": 23,
     "metadata": {},
     "output_type": "execute_result"
    }
   ],
   "source": [
    "df['Crime type'].value_counts()"
   ]
  },
  {
   "cell_type": "code",
   "execution_count": 24,
   "id": "80bb8a69",
   "metadata": {
    "hidden": true
   },
   "outputs": [
    {
     "data": {
      "text/plain": [
       "Under investigation                                    8459\n",
       "Unable to prosecute suspect                            2012\n",
       "Awaiting court outcome                                  233\n",
       "Formal action is not in the public interest             106\n",
       "Further investigation is not in the public interest     105\n",
       "Investigation complete; no suspect identified            97\n",
       "Local resolution                                         68\n",
       "Offender given a caution                                 48\n",
       "Further action is not in the public interest             35\n",
       "Action to be taken by another organisation               23\n",
       "Suspect charged as part of another case                   2\n",
       "Name: Last outcome category, dtype: int64"
      ]
     },
     "execution_count": 24,
     "metadata": {},
     "output_type": "execute_result"
    }
   ],
   "source": [
    "df['Last outcome category'].value_counts()"
   ]
  },
  {
   "cell_type": "code",
   "execution_count": 25,
   "id": "21d2d957",
   "metadata": {
    "hidden": true
   },
   "outputs": [
    {
     "data": {
      "text/plain": [
       "Series([], Name: Context, dtype: int64)"
      ]
     },
     "execution_count": 25,
     "metadata": {},
     "output_type": "execute_result"
    }
   ],
   "source": [
    "df['Context'].value_counts()"
   ]
  },
  {
   "cell_type": "markdown",
   "id": "98a84cbf",
   "metadata": {
    "heading_collapsed": true
   },
   "source": [
    "# Data pull trials"
   ]
  },
  {
   "cell_type": "code",
   "execution_count": 88,
   "id": "ffcbd691",
   "metadata": {
    "hidden": true
   },
   "outputs": [],
   "source": [
    "area_list = [dic['id'].replace('-',' ') for dic in requests.get(\"https://data.police.uk/api/forces\").json()]"
   ]
  },
  {
   "cell_type": "code",
   "execution_count": 104,
   "id": "9aa3e5bd",
   "metadata": {
    "hidden": true
   },
   "outputs": [
    {
     "data": {
      "text/plain": [
       "'cheshire'"
      ]
     },
     "execution_count": 104,
     "metadata": {},
     "output_type": "execute_result"
    }
   ],
   "source": [
    "area_list[3]"
   ]
  },
  {
   "cell_type": "code",
   "execution_count": 105,
   "id": "c90bf503",
   "metadata": {
    "hidden": true
   },
   "outputs": [],
   "source": [
    "nbh_list = [dic['name'].replace('-',' ') for dic in requests.get(f\"https://data.police.uk/api/{area_list[3]}/neighbourhoods\").json()]"
   ]
  },
  {
   "cell_type": "code",
   "execution_count": 106,
   "id": "db0e456b",
   "metadata": {
    "hidden": true
   },
   "outputs": [
    {
     "data": {
      "text/plain": [
       "['Chester City',\n",
       " 'Boughton',\n",
       " 'Garden Quarter',\n",
       " 'Dodleston and Huntington &amp; Farndon',\n",
       " 'Great Boughton',\n",
       " 'Handbridge Park',\n",
       " 'Hoole',\n",
       " 'Newton',\n",
       " 'Lache',\n",
       " 'Blacon',\n",
       " 'Saughall and Mollington &amp; Elton',\n",
       " 'Upton',\n",
       " 'Chester Villages',\n",
       " 'Frodsham',\n",
       " 'Helsby',\n",
       " 'Kingsley &amp; Gowy',\n",
       " 'Tarvin and Kelsall',\n",
       " 'Tattenhall &amp; Malpas',\n",
       " 'Crewe South',\n",
       " 'Shavington and Rope',\n",
       " 'Wistaston and Willaston',\n",
       " 'Crewe Central',\n",
       " 'Crewe St Barnabas',\n",
       " 'Crewe West',\n",
       " 'Crewe East',\n",
       " 'Crewe North',\n",
       " 'Leighton',\n",
       " 'Haslington',\n",
       " 'Alsager',\n",
       " 'Audlem &amp; Wybunbury',\n",
       " 'Bunbury &amp; Wrenbury',\n",
       " 'Nantwich North and West',\n",
       " 'Nantwich South and Stapeley',\n",
       " 'Odd Rode',\n",
       " 'Sandbach Elworth &amp; Brereton Rural',\n",
       " 'Dane Valley',\n",
       " 'Middlewich',\n",
       " 'Sandbach Ettiley Heath and Wheelock &amp; Heath and East',\n",
       " 'Sandbach Town',\n",
       " 'Congleton East',\n",
       " 'Gawsworth &amp; Chelford',\n",
       " 'Congleton West',\n",
       " 'Macclesfield Hurdsfield',\n",
       " 'Macclesfield Tytherington',\n",
       " 'Bollington',\n",
       " 'Prestbury &amp; Alderley Edge',\n",
       " 'Disley',\n",
       " 'Poynton East and Pott Shrigley',\n",
       " 'Poynton West and Adlington',\n",
       " 'High Legh &amp; Mobberley',\n",
       " 'Knutsford',\n",
       " 'Handforth',\n",
       " 'Wilmslow Dean Row &amp; Lacey Green',\n",
       " 'Wilmslow East',\n",
       " 'Wilmslow West and Chorley',\n",
       " 'Macclesfield Central',\n",
       " 'Macclesfield East &amp; Sutton',\n",
       " 'Macclesfield South',\n",
       " 'Broken Cross and Upton',\n",
       " 'Macclesfield West and Ivy',\n",
       " 'Warrington Town Centre',\n",
       " 'Fairfield and Howley',\n",
       " 'Latchford East',\n",
       " 'Latchford West',\n",
       " 'Bewsey and Whitecross',\n",
       " 'Birchwood',\n",
       " 'Culcheth, Glazebury and Croft',\n",
       " 'Poulton South',\n",
       " 'Rixton and Woolston',\n",
       " 'Burtonwood and Winwick',\n",
       " 'Great Sankey North',\n",
       " 'Great Sankey South',\n",
       " 'Penketh and Cuerdley',\n",
       " 'Westbrook',\n",
       " 'Whittle Hall',\n",
       " 'Appleton (Warrington)',\n",
       " 'Hatton, Stretton and Walton',\n",
       " 'Grappenhall and Thelwall',\n",
       " 'Stockton Heath',\n",
       " 'Lymm',\n",
       " 'Orford',\n",
       " 'Poplars and Hulme',\n",
       " 'Poulton North',\n",
       " 'Appleton (Widnes)',\n",
       " 'Kingsway',\n",
       " 'Riverside',\n",
       " 'Broadheath',\n",
       " 'Hough Green',\n",
       " 'Ditton &amp; Hale',\n",
       " 'Farnworth',\n",
       " 'Birchfield',\n",
       " 'Halton View',\n",
       " 'Ellesmere Port Town',\n",
       " 'Whitby',\n",
       " 'Strawberry &amp; Ledsham and Manor',\n",
       " 'Rossmore',\n",
       " 'Little Neston and Burton',\n",
       " 'Neston &amp; Parkgate',\n",
       " 'Willaston and Thornton &amp; Netherpool',\n",
       " \"St Paul's\",\n",
       " 'Sutton',\n",
       " 'Grange (Ellesmere Port)',\n",
       " 'Grange (Runcorn)',\n",
       " 'Halton Brook',\n",
       " 'Heath &amp; Beechwood',\n",
       " 'Mersey',\n",
       " 'Daresbury &amp; Windmill Hill',\n",
       " 'Halton Castle',\n",
       " 'Halton Lea',\n",
       " 'Norton South',\n",
       " 'Norton North',\n",
       " 'Marbury',\n",
       " 'Winnington and Castle',\n",
       " 'Weaver and Cuddington',\n",
       " 'Winsford Over and Verdin',\n",
       " 'Winsford Wharton',\n",
       " 'Winsford Swanlow and Dene',\n",
       " 'Tarporley',\n",
       " 'Witton and Rudheath',\n",
       " 'Davenham and Moulton',\n",
       " 'Shakerley',\n",
       " 'Hartford and Greenbank']"
      ]
     },
     "execution_count": 106,
     "metadata": {},
     "output_type": "execute_result"
    }
   ],
   "source": [
    "nbh_list"
   ]
  },
  {
   "cell_type": "code",
   "execution_count": 31,
   "id": "b9884ed2",
   "metadata": {
    "hidden": true
   },
   "outputs": [],
   "source": [
    "crime_list = [dic['name'] for dic in requests.get(\"https://data.police.uk/api/crime-categories?\").json()][1:-1]"
   ]
  },
  {
   "cell_type": "code",
   "execution_count": 32,
   "id": "70001f8c",
   "metadata": {
    "hidden": true
   },
   "outputs": [
    {
     "data": {
      "text/plain": [
       "['Anti-social behaviour',\n",
       " 'Bicycle theft',\n",
       " 'Burglary',\n",
       " 'Criminal damage and arson',\n",
       " 'Drugs',\n",
       " 'Other theft',\n",
       " 'Possession of weapons',\n",
       " 'Public order',\n",
       " 'Robbery',\n",
       " 'Shoplifting',\n",
       " 'Theft from the person',\n",
       " 'Vehicle crime',\n",
       " 'Violence and sexual offences']"
      ]
     },
     "execution_count": 32,
     "metadata": {},
     "output_type": "execute_result"
    }
   ],
   "source": [
    "crime_list"
   ]
  },
  {
   "cell_type": "markdown",
   "id": "34a8c0ad",
   "metadata": {
    "heading_collapsed": true
   },
   "source": [
    "# Locate a user by address exploration"
   ]
  },
  {
   "cell_type": "code",
   "execution_count": 156,
   "id": "6781c520",
   "metadata": {
    "hidden": true
   },
   "outputs": [],
   "source": [
    "pu = 'stockwood hill,somerset , united kingdom'"
   ]
  },
  {
   "cell_type": "code",
   "execution_count": 157,
   "id": "2ff04050",
   "metadata": {
    "hidden": true
   },
   "outputs": [],
   "source": [
    "response = requests.get(f\"https://nominatim.openstreetmap.org/search?q={pu}&format=json\").json()[0]"
   ]
  },
  {
   "cell_type": "code",
   "execution_count": 158,
   "id": "6e16728a",
   "metadata": {
    "hidden": true
   },
   "outputs": [
    {
     "data": {
      "text/plain": [
       "{'place_id': 113879897,\n",
       " 'licence': 'Data © OpenStreetMap contributors, ODbL 1.0. https://osm.org/copyright',\n",
       " 'osm_type': 'way',\n",
       " 'osm_id': 107428434,\n",
       " 'boundingbox': ['51.418391', '51.4204517', '-2.5177195', '-2.5125093'],\n",
       " 'lat': '51.4193189',\n",
       " 'lon': '-2.5151124',\n",
       " 'display_name': 'Stockwood Hill, Keynsham, Bath and North East Somerset, South West England, England, BS31, United Kingdom',\n",
       " 'class': 'highway',\n",
       " 'type': 'unclassified',\n",
       " 'importance': 0.6}"
      ]
     },
     "execution_count": 158,
     "metadata": {},
     "output_type": "execute_result"
    }
   ],
   "source": [
    "response"
   ]
  },
  {
   "cell_type": "code",
   "execution_count": 159,
   "id": "9d12a6da",
   "metadata": {
    "hidden": true
   },
   "outputs": [],
   "source": [
    "pu_lat = float(response['lat'])\n",
    "pu_lon = float(response['lon'])\n",
    "pu_full_add = response['display_name']"
   ]
  },
  {
   "cell_type": "code",
   "execution_count": 142,
   "id": "b912c78a",
   "metadata": {
    "hidden": true
   },
   "outputs": [
    {
     "data": {
      "text/plain": [
       "float"
      ]
     },
     "execution_count": 142,
     "metadata": {},
     "output_type": "execute_result"
    }
   ],
   "source": [
    "type(pu_lon)"
   ]
  },
  {
   "cell_type": "code",
   "execution_count": 143,
   "id": "8c91f1ac",
   "metadata": {
    "hidden": true
   },
   "outputs": [
    {
     "data": {
      "text/plain": [
       "numpy.float64"
      ]
     },
     "execution_count": 143,
     "metadata": {},
     "output_type": "execute_result"
    }
   ],
   "source": [
    "type(df['Latitude'][2])"
   ]
  },
  {
   "cell_type": "code",
   "execution_count": 144,
   "id": "bf7d5a96",
   "metadata": {
    "hidden": true
   },
   "outputs": [
    {
     "data": {
      "text/plain": [
       "51.4193328"
      ]
     },
     "execution_count": 144,
     "metadata": {},
     "output_type": "execute_result"
    }
   ],
   "source": [
    "lat = df['Latitude'].sub(pu_lat).abs().min()+pu_lat\n",
    "lat"
   ]
  },
  {
   "cell_type": "code",
   "execution_count": 145,
   "id": "147969a3",
   "metadata": {
    "hidden": true
   },
   "outputs": [
    {
     "data": {
      "text/plain": [
       "5191"
      ]
     },
     "execution_count": 145,
     "metadata": {},
     "output_type": "execute_result"
    }
   ],
   "source": [
    "lat_index = df['Latitude'].sub(pu_lat).abs().idxmin()\n",
    "lat_index"
   ]
  },
  {
   "cell_type": "code",
   "execution_count": 97,
   "id": "cbaf1067",
   "metadata": {
    "hidden": true
   },
   "outputs": [
    {
     "data": {
      "text/plain": [
       "'Bristol 046C'"
      ]
     },
     "execution_count": 97,
     "metadata": {},
     "output_type": "execute_result"
    }
   ],
   "source": [
    "lsoa = df.iloc[lat_index+1]['LSOA name']\n",
    "lsoa"
   ]
  },
  {
   "cell_type": "code",
   "execution_count": 146,
   "id": "6545cba3",
   "metadata": {
    "hidden": true
   },
   "outputs": [],
   "source": [
    "from math import sin,cos, atan2, sqrt\n",
    "\n",
    "def lat_long_distance(lat1, long1, lat2, long2):\n",
    "    R = 6373.0\n",
    "    dlon = long2 - long1\n",
    "    dlat = lat2 - lat1\n",
    "    a = sin(dlat / 2)**2 + cos(lat1) * cos(lat2) * sin(dlon / 2)**2\n",
    "    c = 2 * atan2(sqrt(a), sqrt(1 - a))\n",
    "    distance = R * c\n",
    "    return R * c"
   ]
  },
  {
   "cell_type": "code",
   "execution_count": 147,
   "id": "c5fbc513",
   "metadata": {
    "hidden": true
   },
   "outputs": [
    {
     "data": {
      "text/html": [
       "<div>\n",
       "<style scoped>\n",
       "    .dataframe tbody tr th:only-of-type {\n",
       "        vertical-align: middle;\n",
       "    }\n",
       "\n",
       "    .dataframe tbody tr th {\n",
       "        vertical-align: top;\n",
       "    }\n",
       "\n",
       "    .dataframe thead th {\n",
       "        text-align: right;\n",
       "    }\n",
       "</style>\n",
       "<table border=\"1\" class=\"dataframe\">\n",
       "  <thead>\n",
       "    <tr style=\"text-align: right;\">\n",
       "      <th></th>\n",
       "      <th>Crime ID</th>\n",
       "      <th>Month</th>\n",
       "      <th>Reported by</th>\n",
       "      <th>Falls within</th>\n",
       "      <th>Longitude</th>\n",
       "      <th>Latitude</th>\n",
       "      <th>Location</th>\n",
       "      <th>LSOA code</th>\n",
       "      <th>LSOA name</th>\n",
       "      <th>Crime type</th>\n",
       "      <th>Last outcome category</th>\n",
       "      <th>Context</th>\n",
       "      <th>distance</th>\n",
       "    </tr>\n",
       "  </thead>\n",
       "  <tbody>\n",
       "    <tr>\n",
       "      <th>0</th>\n",
       "      <td>NaN</td>\n",
       "      <td>2021-05</td>\n",
       "      <td>Avon and Somerset Constabulary</td>\n",
       "      <td>Avon and Somerset Constabulary</td>\n",
       "      <td>-2.49487</td>\n",
       "      <td>51.422276</td>\n",
       "      <td>On or near Conference/Exhibition Centre</td>\n",
       "      <td>E01014399</td>\n",
       "      <td>Bath and North East Somerset 001A</td>\n",
       "      <td>Anti-social behaviour</td>\n",
       "      <td>NaN</td>\n",
       "      <td>NaN</td>\n",
       "      <td>11633.490638</td>\n",
       "    </tr>\n",
       "  </tbody>\n",
       "</table>\n",
       "</div>"
      ],
      "text/plain": [
       "  Crime ID    Month                     Reported by  \\\n",
       "0      NaN  2021-05  Avon and Somerset Constabulary   \n",
       "\n",
       "                     Falls within  Longitude   Latitude  \\\n",
       "0  Avon and Somerset Constabulary   -2.49487  51.422276   \n",
       "\n",
       "                                  Location  LSOA code  \\\n",
       "0  On or near Conference/Exhibition Centre  E01014399   \n",
       "\n",
       "                           LSOA name             Crime type  \\\n",
       "0  Bath and North East Somerset 001A  Anti-social behaviour   \n",
       "\n",
       "  Last outcome category  Context      distance  \n",
       "0                   NaN      NaN  11633.490638  "
      ]
     },
     "execution_count": 147,
     "metadata": {},
     "output_type": "execute_result"
    }
   ],
   "source": [
    "df.head(1)"
   ]
  },
  {
   "cell_type": "code",
   "execution_count": 126,
   "id": "aa273b09",
   "metadata": {
    "hidden": true
   },
   "outputs": [],
   "source": [
    "df['distance'] = df.apply(lambda x: lat_long_distance(x['Latitude'], x['Longitude'], lat2=pu_lat, long2=pu_lon),axis=1)"
   ]
  },
  {
   "cell_type": "code",
   "execution_count": 130,
   "id": "3d7af9d7",
   "metadata": {
    "hidden": true
   },
   "outputs": [
    {
     "data": {
      "text/plain": [
       "13145"
      ]
     },
     "execution_count": 130,
     "metadata": {},
     "output_type": "execute_result"
    }
   ],
   "source": [
    "df[['Longitude']].idxmin()[0]"
   ]
  },
  {
   "cell_type": "code",
   "execution_count": 175,
   "id": "b4b55682",
   "metadata": {
    "hidden": true
   },
   "outputs": [],
   "source": [
    "def get_LSOA_city_region(df,long,lat):\n",
    "    df['distance'] = df[['Longitude','Latitude']].apply(lambda x: hs_distance(x[1], x[0], lat2=lat, long2=long),axis=1)\n",
    "    indx = df[['distance']].idxmin()[0]    \n",
    "    lsoa = df.iloc[indx]['LSOA name']\n",
    "    city = lsoa[:-5]\n",
    "    region = df.iloc[indx]['Reported by']\n",
    "    return df, lsoa, city, region"
   ]
  },
  {
   "cell_type": "code",
   "execution_count": 176,
   "id": "40188204",
   "metadata": {
    "hidden": true
   },
   "outputs": [],
   "source": [
    "df, lsoa, city, region = get_LSOA_city_region(df, pu_lon, pu_lat)"
   ]
  },
  {
   "cell_type": "code",
   "execution_count": 177,
   "id": "a4205625",
   "metadata": {
    "hidden": true
   },
   "outputs": [
    {
     "data": {
      "text/plain": [
       "'Bath and North East Somerset 001A'"
      ]
     },
     "execution_count": 177,
     "metadata": {},
     "output_type": "execute_result"
    }
   ],
   "source": [
    "lsoa"
   ]
  },
  {
   "cell_type": "code",
   "execution_count": 178,
   "id": "976b89df",
   "metadata": {
    "hidden": true
   },
   "outputs": [
    {
     "data": {
      "text/plain": [
       "'Bath and North East Somerset'"
      ]
     },
     "execution_count": 178,
     "metadata": {},
     "output_type": "execute_result"
    }
   ],
   "source": [
    "city"
   ]
  },
  {
   "cell_type": "code",
   "execution_count": 179,
   "id": "c3c02c82",
   "metadata": {
    "hidden": true
   },
   "outputs": [
    {
     "data": {
      "text/plain": [
       "'Avon and Somerset Constabulary'"
      ]
     },
     "execution_count": 179,
     "metadata": {},
     "output_type": "execute_result"
    }
   ],
   "source": [
    "region"
   ]
  },
  {
   "cell_type": "code",
   "execution_count": 180,
   "id": "32d7ceec",
   "metadata": {
    "hidden": true
   },
   "outputs": [
    {
     "data": {
      "text/html": [
       "<div>\n",
       "<style scoped>\n",
       "    .dataframe tbody tr th:only-of-type {\n",
       "        vertical-align: middle;\n",
       "    }\n",
       "\n",
       "    .dataframe tbody tr th {\n",
       "        vertical-align: top;\n",
       "    }\n",
       "\n",
       "    .dataframe thead th {\n",
       "        text-align: right;\n",
       "    }\n",
       "</style>\n",
       "<table border=\"1\" class=\"dataframe\">\n",
       "  <thead>\n",
       "    <tr style=\"text-align: right;\">\n",
       "      <th></th>\n",
       "      <th>Crime ID</th>\n",
       "      <th>Month</th>\n",
       "      <th>Reported by</th>\n",
       "      <th>Falls within</th>\n",
       "      <th>Longitude</th>\n",
       "      <th>Latitude</th>\n",
       "      <th>Location</th>\n",
       "      <th>LSOA code</th>\n",
       "      <th>LSOA name</th>\n",
       "      <th>Crime type</th>\n",
       "      <th>Last outcome category</th>\n",
       "      <th>Context</th>\n",
       "      <th>distance</th>\n",
       "    </tr>\n",
       "  </thead>\n",
       "  <tbody>\n",
       "    <tr>\n",
       "      <th>11014</th>\n",
       "      <td>92833294b0636caa6880ebb521509de8d621223b2c4848...</td>\n",
       "      <td>2021-05</td>\n",
       "      <td>Avon and Somerset Constabulary</td>\n",
       "      <td>Avon and Somerset Constabulary</td>\n",
       "      <td>-2.922852</td>\n",
       "      <td>54.361057</td>\n",
       "      <td>On or near Parking Area</td>\n",
       "      <td>E01019397</td>\n",
       "      <td>South Lakeland 002C</td>\n",
       "      <td>Violence and sexual offences</td>\n",
       "      <td>Under investigation</td>\n",
       "      <td>NaN</td>\n",
       "      <td>328.247040</td>\n",
       "    </tr>\n",
       "    <tr>\n",
       "      <th>13146</th>\n",
       "      <td>c807a43e1c36f9ec76be58156a183d9fd9dc90913d3080...</td>\n",
       "      <td>2021-05</td>\n",
       "      <td>Avon and Somerset Constabulary</td>\n",
       "      <td>Avon and Somerset Constabulary</td>\n",
       "      <td>-2.761500</td>\n",
       "      <td>53.875705</td>\n",
       "      <td>On or near Mayflower Grove</td>\n",
       "      <td>E01025547</td>\n",
       "      <td>Wyre 006A</td>\n",
       "      <td>Other theft</td>\n",
       "      <td>Under investigation</td>\n",
       "      <td>NaN</td>\n",
       "      <td>273.642894</td>\n",
       "    </tr>\n",
       "    <tr>\n",
       "      <th>8365</th>\n",
       "      <td>27bc5a75a03afc4284730ab3ea40429c67bf47075e6501...</td>\n",
       "      <td>2021-05</td>\n",
       "      <td>Avon and Somerset Constabulary</td>\n",
       "      <td>Avon and Somerset Constabulary</td>\n",
       "      <td>-2.093778</td>\n",
       "      <td>53.644837</td>\n",
       "      <td>On or near George Street</td>\n",
       "      <td>E01005522</td>\n",
       "      <td>Rochdale 001C</td>\n",
       "      <td>Violence and sexual offences</td>\n",
       "      <td>Under investigation</td>\n",
       "      <td>NaN</td>\n",
       "      <td>249.101114</td>\n",
       "    </tr>\n",
       "    <tr>\n",
       "      <th>6391</th>\n",
       "      <td>f63971471c2f316987a5960e6b0610b360e1e6b202f843...</td>\n",
       "      <td>2021-05</td>\n",
       "      <td>Avon and Somerset Constabulary</td>\n",
       "      <td>Avon and Somerset Constabulary</td>\n",
       "      <td>-2.233560</td>\n",
       "      <td>53.488024</td>\n",
       "      <td>On or near Baptist Street</td>\n",
       "      <td>E01033651</td>\n",
       "      <td>Manchester 054B</td>\n",
       "      <td>Violence and sexual offences</td>\n",
       "      <td>Under investigation</td>\n",
       "      <td>NaN</td>\n",
       "      <td>230.819148</td>\n",
       "    </tr>\n",
       "    <tr>\n",
       "      <th>6392</th>\n",
       "      <td>609e438cce493c7a34e6560b1ab721c819ea197b12c795...</td>\n",
       "      <td>2021-05</td>\n",
       "      <td>Avon and Somerset Constabulary</td>\n",
       "      <td>Avon and Somerset Constabulary</td>\n",
       "      <td>-1.201089</td>\n",
       "      <td>53.144023</td>\n",
       "      <td>On or near Bus/Coach Station</td>\n",
       "      <td>E01028284</td>\n",
       "      <td>Mansfield 008F</td>\n",
       "      <td>Violence and sexual offences</td>\n",
       "      <td>Under investigation</td>\n",
       "      <td>NaN</td>\n",
       "      <td>211.578776</td>\n",
       "    </tr>\n",
       "  </tbody>\n",
       "</table>\n",
       "</div>"
      ],
      "text/plain": [
       "                                                Crime ID    Month  \\\n",
       "11014  92833294b0636caa6880ebb521509de8d621223b2c4848...  2021-05   \n",
       "13146  c807a43e1c36f9ec76be58156a183d9fd9dc90913d3080...  2021-05   \n",
       "8365   27bc5a75a03afc4284730ab3ea40429c67bf47075e6501...  2021-05   \n",
       "6391   f63971471c2f316987a5960e6b0610b360e1e6b202f843...  2021-05   \n",
       "6392   609e438cce493c7a34e6560b1ab721c819ea197b12c795...  2021-05   \n",
       "\n",
       "                          Reported by                    Falls within  \\\n",
       "11014  Avon and Somerset Constabulary  Avon and Somerset Constabulary   \n",
       "13146  Avon and Somerset Constabulary  Avon and Somerset Constabulary   \n",
       "8365   Avon and Somerset Constabulary  Avon and Somerset Constabulary   \n",
       "6391   Avon and Somerset Constabulary  Avon and Somerset Constabulary   \n",
       "6392   Avon and Somerset Constabulary  Avon and Somerset Constabulary   \n",
       "\n",
       "       Longitude   Latitude                      Location  LSOA code  \\\n",
       "11014  -2.922852  54.361057       On or near Parking Area  E01019397   \n",
       "13146  -2.761500  53.875705    On or near Mayflower Grove  E01025547   \n",
       "8365   -2.093778  53.644837      On or near George Street  E01005522   \n",
       "6391   -2.233560  53.488024     On or near Baptist Street  E01033651   \n",
       "6392   -1.201089  53.144023  On or near Bus/Coach Station  E01028284   \n",
       "\n",
       "                 LSOA name                    Crime type  \\\n",
       "11014  South Lakeland 002C  Violence and sexual offences   \n",
       "13146            Wyre 006A                   Other theft   \n",
       "8365         Rochdale 001C  Violence and sexual offences   \n",
       "6391       Manchester 054B  Violence and sexual offences   \n",
       "6392        Mansfield 008F  Violence and sexual offences   \n",
       "\n",
       "      Last outcome category  Context    distance  \n",
       "11014   Under investigation      NaN  328.247040  \n",
       "13146   Under investigation      NaN  273.642894  \n",
       "8365    Under investigation      NaN  249.101114  \n",
       "6391    Under investigation      NaN  230.819148  \n",
       "6392    Under investigation      NaN  211.578776  "
      ]
     },
     "execution_count": 180,
     "metadata": {},
     "output_type": "execute_result"
    }
   ],
   "source": [
    "df_sorted = df.sort_values('distance',ascending = False)\n",
    "df_sorted.head()"
   ]
  },
  {
   "cell_type": "code",
   "execution_count": 168,
   "id": "3dc2d82a",
   "metadata": {
    "hidden": true
   },
   "outputs": [
    {
     "name": "stdout",
     "output_type": "stream",
     "text": [
      "Collecting haversine\n",
      "  Downloading haversine-2.3.1-py2.py3-none-any.whl (5.5 kB)\n",
      "Installing collected packages: haversine\n",
      "Successfully installed haversine-2.3.1\n",
      "\u001b[33mWARNING: You are using pip version 21.1.3; however, version 21.2.1 is available.\n",
      "You should consider upgrading via the '/Users/brialforestier/.pyenv/versions/3.8.6/envs/lewagon/bin/python3.8 -m pip install --upgrade pip' command.\u001b[0m\n"
     ]
    }
   ],
   "source": [
    "!pip install haversine"
   ]
  },
  {
   "cell_type": "code",
   "execution_count": 174,
   "id": "c7698e0c",
   "metadata": {
    "hidden": true
   },
   "outputs": [],
   "source": [
    "import haversine as hs\n",
    "\n",
    "def hs_distance(lat1, long1, lat2, long2):\n",
    "    loc1 = (lat1, long1)\n",
    "    loc2 = (lat2, long2)\n",
    "    return hs.haversine(loc1,loc2)"
   ]
  },
  {
   "cell_type": "code",
   "execution_count": 170,
   "id": "1fda1dab",
   "metadata": {
    "hidden": true
   },
   "outputs": [],
   "source": [
    "df['hs_distance'] = df.apply(lambda x: hs_distance(x['Latitude'], x['Longitude'], lat2=pu_lat, long2=pu_lon),axis=1)"
   ]
  },
  {
   "cell_type": "code",
   "execution_count": 171,
   "id": "80ee29e0",
   "metadata": {
    "hidden": true
   },
   "outputs": [
    {
     "data": {
      "text/html": [
       "<div>\n",
       "<style scoped>\n",
       "    .dataframe tbody tr th:only-of-type {\n",
       "        vertical-align: middle;\n",
       "    }\n",
       "\n",
       "    .dataframe tbody tr th {\n",
       "        vertical-align: top;\n",
       "    }\n",
       "\n",
       "    .dataframe thead th {\n",
       "        text-align: right;\n",
       "    }\n",
       "</style>\n",
       "<table border=\"1\" class=\"dataframe\">\n",
       "  <thead>\n",
       "    <tr style=\"text-align: right;\">\n",
       "      <th></th>\n",
       "      <th>Crime ID</th>\n",
       "      <th>Month</th>\n",
       "      <th>Reported by</th>\n",
       "      <th>Falls within</th>\n",
       "      <th>Longitude</th>\n",
       "      <th>Latitude</th>\n",
       "      <th>Location</th>\n",
       "      <th>LSOA code</th>\n",
       "      <th>LSOA name</th>\n",
       "      <th>Crime type</th>\n",
       "      <th>Last outcome category</th>\n",
       "      <th>Context</th>\n",
       "      <th>distance</th>\n",
       "      <th>hs_distance</th>\n",
       "    </tr>\n",
       "  </thead>\n",
       "  <tbody>\n",
       "    <tr>\n",
       "      <th>0</th>\n",
       "      <td>NaN</td>\n",
       "      <td>2021-05</td>\n",
       "      <td>Avon and Somerset Constabulary</td>\n",
       "      <td>Avon and Somerset Constabulary</td>\n",
       "      <td>-2.494870</td>\n",
       "      <td>51.422276</td>\n",
       "      <td>On or near Conference/Exhibition Centre</td>\n",
       "      <td>E01014399</td>\n",
       "      <td>Bath and North East Somerset 001A</td>\n",
       "      <td>Anti-social behaviour</td>\n",
       "      <td>NaN</td>\n",
       "      <td>NaN</td>\n",
       "      <td>55.374711</td>\n",
       "      <td>1.441624</td>\n",
       "    </tr>\n",
       "    <tr>\n",
       "      <th>1</th>\n",
       "      <td>4d223210a924499f387156a1ef04bb09024b62bbe807c6...</td>\n",
       "      <td>2021-05</td>\n",
       "      <td>Avon and Somerset Constabulary</td>\n",
       "      <td>Avon and Somerset Constabulary</td>\n",
       "      <td>-2.515816</td>\n",
       "      <td>51.408717</td>\n",
       "      <td>On or near Caroline Close</td>\n",
       "      <td>E01014399</td>\n",
       "      <td>Bath and North East Somerset 001A</td>\n",
       "      <td>Burglary</td>\n",
       "      <td>Under investigation</td>\n",
       "      <td>NaN</td>\n",
       "      <td>67.590891</td>\n",
       "      <td>1.179889</td>\n",
       "    </tr>\n",
       "    <tr>\n",
       "      <th>2</th>\n",
       "      <td>5f7d695d4c96d9c018618bfc72ff0157c9ff31e8452638...</td>\n",
       "      <td>2021-05</td>\n",
       "      <td>Avon and Somerset Constabulary</td>\n",
       "      <td>Avon and Somerset Constabulary</td>\n",
       "      <td>-2.513343</td>\n",
       "      <td>51.408772</td>\n",
       "      <td>On or near Lincoln Close</td>\n",
       "      <td>E01014399</td>\n",
       "      <td>Bath and North East Somerset 001A</td>\n",
       "      <td>Burglary</td>\n",
       "      <td>Under investigation</td>\n",
       "      <td>NaN</td>\n",
       "      <td>67.374031</td>\n",
       "      <td>1.179166</td>\n",
       "    </tr>\n",
       "    <tr>\n",
       "      <th>3</th>\n",
       "      <td>940708e1bc177f15670ebb12c8d4c0b2ae5bb89d9ee18f...</td>\n",
       "      <td>2021-05</td>\n",
       "      <td>Avon and Somerset Constabulary</td>\n",
       "      <td>Avon and Somerset Constabulary</td>\n",
       "      <td>-2.495055</td>\n",
       "      <td>51.422132</td>\n",
       "      <td>On or near Cross Street</td>\n",
       "      <td>E01014399</td>\n",
       "      <td>Bath and North East Somerset 001A</td>\n",
       "      <td>Criminal damage and arson</td>\n",
       "      <td>Under investigation</td>\n",
       "      <td>NaN</td>\n",
       "      <td>54.627414</td>\n",
       "      <td>1.425540</td>\n",
       "    </tr>\n",
       "    <tr>\n",
       "      <th>4</th>\n",
       "      <td>379ea276b5df46854b4f887d930b5f543499606fe08b29...</td>\n",
       "      <td>2021-05</td>\n",
       "      <td>Avon and Somerset Constabulary</td>\n",
       "      <td>Avon and Somerset Constabulary</td>\n",
       "      <td>-2.515072</td>\n",
       "      <td>51.419357</td>\n",
       "      <td>On or near Stockwood Hill</td>\n",
       "      <td>E01014399</td>\n",
       "      <td>Bath and North East Somerset 001A</td>\n",
       "      <td>Other theft</td>\n",
       "      <td>Under investigation</td>\n",
       "      <td>NaN</td>\n",
       "      <td>0.264251</td>\n",
       "      <td>0.005079</td>\n",
       "    </tr>\n",
       "  </tbody>\n",
       "</table>\n",
       "</div>"
      ],
      "text/plain": [
       "                                            Crime ID    Month  \\\n",
       "0                                                NaN  2021-05   \n",
       "1  4d223210a924499f387156a1ef04bb09024b62bbe807c6...  2021-05   \n",
       "2  5f7d695d4c96d9c018618bfc72ff0157c9ff31e8452638...  2021-05   \n",
       "3  940708e1bc177f15670ebb12c8d4c0b2ae5bb89d9ee18f...  2021-05   \n",
       "4  379ea276b5df46854b4f887d930b5f543499606fe08b29...  2021-05   \n",
       "\n",
       "                      Reported by                    Falls within  Longitude  \\\n",
       "0  Avon and Somerset Constabulary  Avon and Somerset Constabulary  -2.494870   \n",
       "1  Avon and Somerset Constabulary  Avon and Somerset Constabulary  -2.515816   \n",
       "2  Avon and Somerset Constabulary  Avon and Somerset Constabulary  -2.513343   \n",
       "3  Avon and Somerset Constabulary  Avon and Somerset Constabulary  -2.495055   \n",
       "4  Avon and Somerset Constabulary  Avon and Somerset Constabulary  -2.515072   \n",
       "\n",
       "    Latitude                                 Location  LSOA code  \\\n",
       "0  51.422276  On or near Conference/Exhibition Centre  E01014399   \n",
       "1  51.408717                On or near Caroline Close  E01014399   \n",
       "2  51.408772                 On or near Lincoln Close  E01014399   \n",
       "3  51.422132                  On or near Cross Street  E01014399   \n",
       "4  51.419357                On or near Stockwood Hill  E01014399   \n",
       "\n",
       "                           LSOA name                 Crime type  \\\n",
       "0  Bath and North East Somerset 001A      Anti-social behaviour   \n",
       "1  Bath and North East Somerset 001A                   Burglary   \n",
       "2  Bath and North East Somerset 001A                   Burglary   \n",
       "3  Bath and North East Somerset 001A  Criminal damage and arson   \n",
       "4  Bath and North East Somerset 001A                Other theft   \n",
       "\n",
       "  Last outcome category  Context   distance  hs_distance  \n",
       "0                   NaN      NaN  55.374711     1.441624  \n",
       "1   Under investigation      NaN  67.590891     1.179889  \n",
       "2   Under investigation      NaN  67.374031     1.179166  \n",
       "3   Under investigation      NaN  54.627414     1.425540  \n",
       "4   Under investigation      NaN   0.264251     0.005079  "
      ]
     },
     "execution_count": 171,
     "metadata": {},
     "output_type": "execute_result"
    }
   ],
   "source": [
    "df.head()"
   ]
  },
  {
   "cell_type": "markdown",
   "id": "8d1fe242",
   "metadata": {},
   "source": [
    "# Merge all data csv and clean the data"
   ]
  },
  {
   "cell_type": "code",
   "execution_count": 4,
   "id": "993286ed",
   "metadata": {},
   "outputs": [],
   "source": [
    "import pandas as pd \n",
    "import numpy as np\n",
    "import os\n",
    "import glob"
   ]
  },
  {
   "cell_type": "code",
   "execution_count": 215,
   "id": "1a597493",
   "metadata": {},
   "outputs": [],
   "source": [
    "file_path = '../raw_data/**/*'"
   ]
  },
  {
   "cell_type": "markdown",
   "id": "41c20a57",
   "metadata": {
    "heading_collapsed": true
   },
   "source": [
    "## get all raw data files by months and all police regions"
   ]
  },
  {
   "cell_type": "code",
   "execution_count": 224,
   "id": "d4928729",
   "metadata": {
    "hidden": true
   },
   "outputs": [],
   "source": [
    "import glob\n",
    "files_list = glob.glob('../raw_data/**/*street.csv', recursive = True)"
   ]
  },
  {
   "cell_type": "code",
   "execution_count": 225,
   "id": "427d9b42",
   "metadata": {
    "hidden": true
   },
   "outputs": [],
   "source": [
    "li = []\n",
    "\n",
    "for file in files_list:\n",
    "    data = pd.read_csv(file, index_col=None, header=0)\n",
    "    li.append(data)\n",
    "\n",
    "merged = pd.concat(li, axis=0, ignore_index=True)"
   ]
  },
  {
   "cell_type": "code",
   "execution_count": 226,
   "id": "dd8b667e",
   "metadata": {
    "hidden": true
   },
   "outputs": [],
   "source": [
    "#save massive merged df to a csv.\n",
    "merged.to_csv('merged.csv')"
   ]
  },
  {
   "cell_type": "code",
   "execution_count": null,
   "id": "b877179c",
   "metadata": {
    "hidden": true
   },
   "outputs": [],
   "source": [
    "merged = pd.read_csv('merged.csv')"
   ]
  },
  {
   "cell_type": "code",
   "execution_count": 227,
   "id": "dac7c895",
   "metadata": {
    "hidden": true
   },
   "outputs": [
    {
     "data": {
      "text/html": [
       "<div>\n",
       "<style scoped>\n",
       "    .dataframe tbody tr th:only-of-type {\n",
       "        vertical-align: middle;\n",
       "    }\n",
       "\n",
       "    .dataframe tbody tr th {\n",
       "        vertical-align: top;\n",
       "    }\n",
       "\n",
       "    .dataframe thead th {\n",
       "        text-align: right;\n",
       "    }\n",
       "</style>\n",
       "<table border=\"1\" class=\"dataframe\">\n",
       "  <thead>\n",
       "    <tr style=\"text-align: right;\">\n",
       "      <th></th>\n",
       "      <th>Crime ID</th>\n",
       "      <th>Month</th>\n",
       "      <th>Reported by</th>\n",
       "      <th>Falls within</th>\n",
       "      <th>Longitude</th>\n",
       "      <th>Latitude</th>\n",
       "      <th>Location</th>\n",
       "      <th>LSOA code</th>\n",
       "      <th>LSOA name</th>\n",
       "      <th>Crime type</th>\n",
       "      <th>Last outcome category</th>\n",
       "      <th>Context</th>\n",
       "    </tr>\n",
       "  </thead>\n",
       "  <tbody>\n",
       "    <tr>\n",
       "      <th>0</th>\n",
       "      <td>c7000c41002f19263d4adec66b911f1c3f5e7eeb1302a3...</td>\n",
       "      <td>2020-01</td>\n",
       "      <td>West Yorkshire Police</td>\n",
       "      <td>West Yorkshire Police</td>\n",
       "      <td>-1.570572</td>\n",
       "      <td>53.607792</td>\n",
       "      <td>On or near Park/Open Space</td>\n",
       "      <td>E01007418</td>\n",
       "      <td>Barnsley 016A</td>\n",
       "      <td>Other theft</td>\n",
       "      <td>Status update unavailable</td>\n",
       "      <td>NaN</td>\n",
       "    </tr>\n",
       "    <tr>\n",
       "      <th>1</th>\n",
       "      <td>b8bc1b6cf423a9431734982fffb11f803cf82140702cc7...</td>\n",
       "      <td>2020-01</td>\n",
       "      <td>West Yorkshire Police</td>\n",
       "      <td>West Yorkshire Police</td>\n",
       "      <td>-1.670108</td>\n",
       "      <td>53.553629</td>\n",
       "      <td>On or near Huddersfield Road</td>\n",
       "      <td>E01007426</td>\n",
       "      <td>Barnsley 027D</td>\n",
       "      <td>Robbery</td>\n",
       "      <td>Investigation complete; no suspect identified</td>\n",
       "      <td>NaN</td>\n",
       "    </tr>\n",
       "    <tr>\n",
       "      <th>2</th>\n",
       "      <td>8c69cefea36edafe5fa3f992ccc31d3cfd0c9af9a81429...</td>\n",
       "      <td>2020-01</td>\n",
       "      <td>West Yorkshire Police</td>\n",
       "      <td>West Yorkshire Police</td>\n",
       "      <td>-1.879031</td>\n",
       "      <td>53.943807</td>\n",
       "      <td>On or near Cross End Fold</td>\n",
       "      <td>E01010646</td>\n",
       "      <td>Bradford 001A</td>\n",
       "      <td>Bicycle theft</td>\n",
       "      <td>Investigation complete; no suspect identified</td>\n",
       "      <td>NaN</td>\n",
       "    </tr>\n",
       "    <tr>\n",
       "      <th>3</th>\n",
       "      <td>7236a8fb307214df61ca7a9b93bd309c0524f9bee58d89...</td>\n",
       "      <td>2020-01</td>\n",
       "      <td>West Yorkshire Police</td>\n",
       "      <td>West Yorkshire Police</td>\n",
       "      <td>-1.882746</td>\n",
       "      <td>53.933807</td>\n",
       "      <td>On or near Cocking Lane</td>\n",
       "      <td>E01010646</td>\n",
       "      <td>Bradford 001A</td>\n",
       "      <td>Burglary</td>\n",
       "      <td>Investigation complete; no suspect identified</td>\n",
       "      <td>NaN</td>\n",
       "    </tr>\n",
       "    <tr>\n",
       "      <th>4</th>\n",
       "      <td>92803cebdfde14ad870899c45c6bee398331f33a053bf1...</td>\n",
       "      <td>2020-01</td>\n",
       "      <td>West Yorkshire Police</td>\n",
       "      <td>West Yorkshire Police</td>\n",
       "      <td>-1.881467</td>\n",
       "      <td>53.944510</td>\n",
       "      <td>On or near Kilners Croft</td>\n",
       "      <td>E01010646</td>\n",
       "      <td>Bradford 001A</td>\n",
       "      <td>Criminal damage and arson</td>\n",
       "      <td>Investigation complete; no suspect identified</td>\n",
       "      <td>NaN</td>\n",
       "    </tr>\n",
       "  </tbody>\n",
       "</table>\n",
       "</div>"
      ],
      "text/plain": [
       "                                            Crime ID    Month  \\\n",
       "0  c7000c41002f19263d4adec66b911f1c3f5e7eeb1302a3...  2020-01   \n",
       "1  b8bc1b6cf423a9431734982fffb11f803cf82140702cc7...  2020-01   \n",
       "2  8c69cefea36edafe5fa3f992ccc31d3cfd0c9af9a81429...  2020-01   \n",
       "3  7236a8fb307214df61ca7a9b93bd309c0524f9bee58d89...  2020-01   \n",
       "4  92803cebdfde14ad870899c45c6bee398331f33a053bf1...  2020-01   \n",
       "\n",
       "             Reported by           Falls within  Longitude   Latitude  \\\n",
       "0  West Yorkshire Police  West Yorkshire Police  -1.570572  53.607792   \n",
       "1  West Yorkshire Police  West Yorkshire Police  -1.670108  53.553629   \n",
       "2  West Yorkshire Police  West Yorkshire Police  -1.879031  53.943807   \n",
       "3  West Yorkshire Police  West Yorkshire Police  -1.882746  53.933807   \n",
       "4  West Yorkshire Police  West Yorkshire Police  -1.881467  53.944510   \n",
       "\n",
       "                       Location  LSOA code      LSOA name  \\\n",
       "0    On or near Park/Open Space  E01007418  Barnsley 016A   \n",
       "1  On or near Huddersfield Road  E01007426  Barnsley 027D   \n",
       "2     On or near Cross End Fold  E01010646  Bradford 001A   \n",
       "3       On or near Cocking Lane  E01010646  Bradford 001A   \n",
       "4      On or near Kilners Croft  E01010646  Bradford 001A   \n",
       "\n",
       "                  Crime type                          Last outcome category  \\\n",
       "0                Other theft                      Status update unavailable   \n",
       "1                    Robbery  Investigation complete; no suspect identified   \n",
       "2              Bicycle theft  Investigation complete; no suspect identified   \n",
       "3                   Burglary  Investigation complete; no suspect identified   \n",
       "4  Criminal damage and arson  Investigation complete; no suspect identified   \n",
       "\n",
       "   Context  \n",
       "0      NaN  \n",
       "1      NaN  \n",
       "2      NaN  \n",
       "3      NaN  \n",
       "4      NaN  "
      ]
     },
     "execution_count": 227,
     "metadata": {},
     "output_type": "execute_result"
    }
   ],
   "source": [
    "merged.head()"
   ]
  },
  {
   "cell_type": "code",
   "execution_count": 235,
   "id": "20f616bc",
   "metadata": {
    "hidden": true
   },
   "outputs": [
    {
     "data": {
      "text/plain": [
       "(19300718, 12)"
      ]
     },
     "execution_count": 235,
     "metadata": {},
     "output_type": "execute_result"
    }
   ],
   "source": [
    "merged.shape"
   ]
  },
  {
   "cell_type": "markdown",
   "id": "fe470810",
   "metadata": {},
   "source": [
    "## Cleaning the Merged Data Frame"
   ]
  },
  {
   "cell_type": "code",
   "execution_count": 236,
   "id": "74b570f9",
   "metadata": {},
   "outputs": [],
   "source": [
    "merged = merged[merged['Longitude'].notna()]"
   ]
  },
  {
   "cell_type": "code",
   "execution_count": 237,
   "id": "1e33601b",
   "metadata": {},
   "outputs": [
    {
     "data": {
      "text/plain": [
       "(18919352, 12)"
      ]
     },
     "execution_count": 237,
     "metadata": {},
     "output_type": "execute_result"
    }
   ],
   "source": [
    "merged.shape"
   ]
  },
  {
   "cell_type": "code",
   "execution_count": 238,
   "id": "8a7d1934",
   "metadata": {},
   "outputs": [],
   "source": [
    "merged = merged[merged['Latitude'].notna()]"
   ]
  },
  {
   "cell_type": "code",
   "execution_count": 239,
   "id": "a9c92a78",
   "metadata": {},
   "outputs": [
    {
     "data": {
      "text/plain": [
       "(18919352, 12)"
      ]
     },
     "execution_count": 239,
     "metadata": {},
     "output_type": "execute_result"
    }
   ],
   "source": [
    "merged.shape"
   ]
  },
  {
   "cell_type": "code",
   "execution_count": 240,
   "id": "dbd3ead2",
   "metadata": {},
   "outputs": [],
   "source": [
    "merged = merged[merged['Location'].notna()]"
   ]
  },
  {
   "cell_type": "code",
   "execution_count": 241,
   "id": "7b74d4fb",
   "metadata": {},
   "outputs": [
    {
     "data": {
      "text/plain": [
       "(18919352, 12)"
      ]
     },
     "execution_count": 241,
     "metadata": {},
     "output_type": "execute_result"
    }
   ],
   "source": [
    "merged.shape"
   ]
  },
  {
   "cell_type": "code",
   "execution_count": 246,
   "id": "60da4ea9",
   "metadata": {},
   "outputs": [
    {
     "data": {
      "text/plain": [
       "480390"
      ]
     },
     "execution_count": 246,
     "metadata": {},
     "output_type": "execute_result"
    }
   ],
   "source": [
    "merged['LSOA code'].isna().sum()"
   ]
  },
  {
   "cell_type": "code",
   "execution_count": 248,
   "id": "05000cbe",
   "metadata": {},
   "outputs": [],
   "source": [
    "merged = merged[merged['LSOA code'].notna()]"
   ]
  },
  {
   "cell_type": "code",
   "execution_count": 249,
   "id": "2c27e64d",
   "metadata": {},
   "outputs": [
    {
     "data": {
      "text/plain": [
       "(18438962, 12)"
      ]
     },
     "execution_count": 249,
     "metadata": {},
     "output_type": "execute_result"
    }
   ],
   "source": [
    "merged.shape"
   ]
  },
  {
   "cell_type": "code",
   "execution_count": 250,
   "id": "6058f8c6",
   "metadata": {},
   "outputs": [
    {
     "data": {
      "text/plain": [
       "18438962"
      ]
     },
     "execution_count": 250,
     "metadata": {},
     "output_type": "execute_result"
    }
   ],
   "source": [
    "18919352-480390"
   ]
  },
  {
   "cell_type": "code",
   "execution_count": 247,
   "id": "b30e596d",
   "metadata": {},
   "outputs": [
    {
     "data": {
      "text/plain": [
       "0"
      ]
     },
     "execution_count": 247,
     "metadata": {},
     "output_type": "execute_result"
    }
   ],
   "source": [
    "merged['Crime type'].isna().sum()"
   ]
  },
  {
   "cell_type": "code",
   "execution_count": 244,
   "id": "b99567a5",
   "metadata": {},
   "outputs": [
    {
     "data": {
      "text/plain": [
       "<bound method NDFrame.describe of 0                            Other theft\n",
       "1                                Robbery\n",
       "2                          Bicycle theft\n",
       "3                               Burglary\n",
       "4              Criminal damage and arson\n",
       "                        ...             \n",
       "19300713                   Vehicle crime\n",
       "19300714       Criminal damage and arson\n",
       "19300715    Violence and sexual offences\n",
       "19300716    Violence and sexual offences\n",
       "19300717    Violence and sexual offences\n",
       "Name: Crime type, Length: 18919352, dtype: object>"
      ]
     },
     "execution_count": 244,
     "metadata": {},
     "output_type": "execute_result"
    }
   ],
   "source": [
    "merged['Crime type'].describe"
   ]
  },
  {
   "cell_type": "code",
   "execution_count": 251,
   "id": "43269eac",
   "metadata": {
    "scrolled": true
   },
   "outputs": [
    {
     "name": "stderr",
     "output_type": "stream",
     "text": [
      "<ipython-input-251-b9154e67a62f>:1: SettingWithCopyWarning: \n",
      "A value is trying to be set on a copy of a slice from a DataFrame.\n",
      "Try using .loc[row_indexer,col_indexer] = value instead\n",
      "\n",
      "See the caveats in the documentation: https://pandas.pydata.org/pandas-docs/stable/user_guide/indexing.html#returning-a-view-versus-a-copy\n",
      "  merged['other_id']=merged.apply(lambda x: str(x['Longitude'])+str(x['Latitude'])+x['LSOA code']+x['Crime type'], axis=1)\n"
     ]
    }
   ],
   "source": [
    "merged['other_id']=merged.apply(lambda x: str(x['Longitude'])+str(x['Latitude'])+x['LSOA code']+x['Crime type'], axis=1)"
   ]
  },
  {
   "cell_type": "code",
   "execution_count": 252,
   "id": "16d11597",
   "metadata": {},
   "outputs": [
    {
     "data": {
      "text/html": [
       "<div>\n",
       "<style scoped>\n",
       "    .dataframe tbody tr th:only-of-type {\n",
       "        vertical-align: middle;\n",
       "    }\n",
       "\n",
       "    .dataframe tbody tr th {\n",
       "        vertical-align: top;\n",
       "    }\n",
       "\n",
       "    .dataframe thead th {\n",
       "        text-align: right;\n",
       "    }\n",
       "</style>\n",
       "<table border=\"1\" class=\"dataframe\">\n",
       "  <thead>\n",
       "    <tr style=\"text-align: right;\">\n",
       "      <th></th>\n",
       "      <th>Crime ID</th>\n",
       "      <th>Month</th>\n",
       "      <th>Reported by</th>\n",
       "      <th>Falls within</th>\n",
       "      <th>Longitude</th>\n",
       "      <th>Latitude</th>\n",
       "      <th>Location</th>\n",
       "      <th>LSOA code</th>\n",
       "      <th>LSOA name</th>\n",
       "      <th>Crime type</th>\n",
       "      <th>Last outcome category</th>\n",
       "      <th>Context</th>\n",
       "      <th>other_id</th>\n",
       "    </tr>\n",
       "  </thead>\n",
       "  <tbody>\n",
       "    <tr>\n",
       "      <th>0</th>\n",
       "      <td>c7000c41002f19263d4adec66b911f1c3f5e7eeb1302a3...</td>\n",
       "      <td>2020-01</td>\n",
       "      <td>West Yorkshire Police</td>\n",
       "      <td>West Yorkshire Police</td>\n",
       "      <td>-1.570572</td>\n",
       "      <td>53.607792</td>\n",
       "      <td>On or near Park/Open Space</td>\n",
       "      <td>E01007418</td>\n",
       "      <td>Barnsley 016A</td>\n",
       "      <td>Other theft</td>\n",
       "      <td>Status update unavailable</td>\n",
       "      <td>NaN</td>\n",
       "      <td>-1.57057253.607792E01007418Other theft</td>\n",
       "    </tr>\n",
       "    <tr>\n",
       "      <th>1</th>\n",
       "      <td>b8bc1b6cf423a9431734982fffb11f803cf82140702cc7...</td>\n",
       "      <td>2020-01</td>\n",
       "      <td>West Yorkshire Police</td>\n",
       "      <td>West Yorkshire Police</td>\n",
       "      <td>-1.670108</td>\n",
       "      <td>53.553629</td>\n",
       "      <td>On or near Huddersfield Road</td>\n",
       "      <td>E01007426</td>\n",
       "      <td>Barnsley 027D</td>\n",
       "      <td>Robbery</td>\n",
       "      <td>Investigation complete; no suspect identified</td>\n",
       "      <td>NaN</td>\n",
       "      <td>-1.67010853.553629E01007426Robbery</td>\n",
       "    </tr>\n",
       "    <tr>\n",
       "      <th>2</th>\n",
       "      <td>8c69cefea36edafe5fa3f992ccc31d3cfd0c9af9a81429...</td>\n",
       "      <td>2020-01</td>\n",
       "      <td>West Yorkshire Police</td>\n",
       "      <td>West Yorkshire Police</td>\n",
       "      <td>-1.879031</td>\n",
       "      <td>53.943807</td>\n",
       "      <td>On or near Cross End Fold</td>\n",
       "      <td>E01010646</td>\n",
       "      <td>Bradford 001A</td>\n",
       "      <td>Bicycle theft</td>\n",
       "      <td>Investigation complete; no suspect identified</td>\n",
       "      <td>NaN</td>\n",
       "      <td>-1.87903153.943807E01010646Bicycle theft</td>\n",
       "    </tr>\n",
       "    <tr>\n",
       "      <th>3</th>\n",
       "      <td>7236a8fb307214df61ca7a9b93bd309c0524f9bee58d89...</td>\n",
       "      <td>2020-01</td>\n",
       "      <td>West Yorkshire Police</td>\n",
       "      <td>West Yorkshire Police</td>\n",
       "      <td>-1.882746</td>\n",
       "      <td>53.933807</td>\n",
       "      <td>On or near Cocking Lane</td>\n",
       "      <td>E01010646</td>\n",
       "      <td>Bradford 001A</td>\n",
       "      <td>Burglary</td>\n",
       "      <td>Investigation complete; no suspect identified</td>\n",
       "      <td>NaN</td>\n",
       "      <td>-1.88274653.933807E01010646Burglary</td>\n",
       "    </tr>\n",
       "    <tr>\n",
       "      <th>4</th>\n",
       "      <td>92803cebdfde14ad870899c45c6bee398331f33a053bf1...</td>\n",
       "      <td>2020-01</td>\n",
       "      <td>West Yorkshire Police</td>\n",
       "      <td>West Yorkshire Police</td>\n",
       "      <td>-1.881467</td>\n",
       "      <td>53.944510</td>\n",
       "      <td>On or near Kilners Croft</td>\n",
       "      <td>E01010646</td>\n",
       "      <td>Bradford 001A</td>\n",
       "      <td>Criminal damage and arson</td>\n",
       "      <td>Investigation complete; no suspect identified</td>\n",
       "      <td>NaN</td>\n",
       "      <td>-1.88146753.94451E01010646Criminal damage and ...</td>\n",
       "    </tr>\n",
       "  </tbody>\n",
       "</table>\n",
       "</div>"
      ],
      "text/plain": [
       "                                            Crime ID    Month  \\\n",
       "0  c7000c41002f19263d4adec66b911f1c3f5e7eeb1302a3...  2020-01   \n",
       "1  b8bc1b6cf423a9431734982fffb11f803cf82140702cc7...  2020-01   \n",
       "2  8c69cefea36edafe5fa3f992ccc31d3cfd0c9af9a81429...  2020-01   \n",
       "3  7236a8fb307214df61ca7a9b93bd309c0524f9bee58d89...  2020-01   \n",
       "4  92803cebdfde14ad870899c45c6bee398331f33a053bf1...  2020-01   \n",
       "\n",
       "             Reported by           Falls within  Longitude   Latitude  \\\n",
       "0  West Yorkshire Police  West Yorkshire Police  -1.570572  53.607792   \n",
       "1  West Yorkshire Police  West Yorkshire Police  -1.670108  53.553629   \n",
       "2  West Yorkshire Police  West Yorkshire Police  -1.879031  53.943807   \n",
       "3  West Yorkshire Police  West Yorkshire Police  -1.882746  53.933807   \n",
       "4  West Yorkshire Police  West Yorkshire Police  -1.881467  53.944510   \n",
       "\n",
       "                       Location  LSOA code      LSOA name  \\\n",
       "0    On or near Park/Open Space  E01007418  Barnsley 016A   \n",
       "1  On or near Huddersfield Road  E01007426  Barnsley 027D   \n",
       "2     On or near Cross End Fold  E01010646  Bradford 001A   \n",
       "3       On or near Cocking Lane  E01010646  Bradford 001A   \n",
       "4      On or near Kilners Croft  E01010646  Bradford 001A   \n",
       "\n",
       "                  Crime type                          Last outcome category  \\\n",
       "0                Other theft                      Status update unavailable   \n",
       "1                    Robbery  Investigation complete; no suspect identified   \n",
       "2              Bicycle theft  Investigation complete; no suspect identified   \n",
       "3                   Burglary  Investigation complete; no suspect identified   \n",
       "4  Criminal damage and arson  Investigation complete; no suspect identified   \n",
       "\n",
       "   Context                                           other_id  \n",
       "0      NaN             -1.57057253.607792E01007418Other theft  \n",
       "1      NaN                 -1.67010853.553629E01007426Robbery  \n",
       "2      NaN           -1.87903153.943807E01010646Bicycle theft  \n",
       "3      NaN                -1.88274653.933807E01010646Burglary  \n",
       "4      NaN  -1.88146753.94451E01010646Criminal damage and ...  "
      ]
     },
     "execution_count": 252,
     "metadata": {},
     "output_type": "execute_result"
    }
   ],
   "source": [
    "merged.head()"
   ]
  },
  {
   "cell_type": "code",
   "execution_count": 253,
   "id": "ce12ce65",
   "metadata": {},
   "outputs": [
    {
     "name": "stderr",
     "output_type": "stream",
     "text": [
      "<ipython-input-253-18fd7a408ccd>:1: SettingWithCopyWarning: \n",
      "A value is trying to be set on a copy of a slice from a DataFrame\n",
      "\n",
      "See the caveats in the documentation: https://pandas.pydata.org/pandas-docs/stable/user_guide/indexing.html#returning-a-view-versus-a-copy\n",
      "  merged.sort_values(['Reported by','Month','LSOA code'], axis=0, ascending=True, inplace=True, kind='quicksort', na_position='last')\n"
     ]
    }
   ],
   "source": [
    "merged.sort_values(['Reported by','Month','LSOA code'], axis=0, ascending=True, inplace=True, kind='quicksort', na_position='last')"
   ]
  },
  {
   "cell_type": "code",
   "execution_count": 254,
   "id": "7a9d08f4",
   "metadata": {},
   "outputs": [],
   "source": [
    "cleaned_df = merged.drop_duplicates('other_id', keep='first')"
   ]
  },
  {
   "cell_type": "code",
   "execution_count": 6,
   "id": "49c92c69",
   "metadata": {},
   "outputs": [
    {
     "ename": "NameError",
     "evalue": "name 'cleaned_df' is not defined",
     "output_type": "error",
     "traceback": [
      "\u001b[0;31m---------------------------------------------------------------------------\u001b[0m",
      "\u001b[0;31mNameError\u001b[0m                                 Traceback (most recent call last)",
      "\u001b[0;32m<ipython-input-6-7f65cd7d94e8>\u001b[0m in \u001b[0;36m<module>\u001b[0;34m\u001b[0m\n\u001b[1;32m      1\u001b[0m \u001b[0;31m#save cleaned df to a csv.\u001b[0m\u001b[0;34m\u001b[0m\u001b[0;34m\u001b[0m\u001b[0;34m\u001b[0m\u001b[0m\n\u001b[0;32m----> 2\u001b[0;31m \u001b[0mcleaned_df\u001b[0m\u001b[0;34m.\u001b[0m\u001b[0mto_csv\u001b[0m\u001b[0;34m(\u001b[0m\u001b[0;34m'../raw_data/cleaned_police_data.csv'\u001b[0m\u001b[0;34m)\u001b[0m\u001b[0;34m\u001b[0m\u001b[0;34m\u001b[0m\u001b[0m\n\u001b[0m",
      "\u001b[0;31mNameError\u001b[0m: name 'cleaned_df' is not defined"
     ]
    }
   ],
   "source": [
    "#save cleaned df to a csv.\n",
    "cleaned_df.to_csv('cleaned_police_data.csv')"
   ]
  },
  {
   "cell_type": "code",
   "execution_count": 7,
   "id": "fdac0955",
   "metadata": {},
   "outputs": [],
   "source": [
    "cleaned_df = pd.read_csv('../raw_data/cleaned_police_data.csv')"
   ]
  },
  {
   "cell_type": "code",
   "execution_count": 8,
   "id": "7bbdab2e",
   "metadata": {},
   "outputs": [
    {
     "data": {
      "text/plain": [
       "(3779090, 14)"
      ]
     },
     "execution_count": 8,
     "metadata": {},
     "output_type": "execute_result"
    }
   ],
   "source": [
    "cleaned_df.shape"
   ]
  },
  {
   "cell_type": "code",
   "execution_count": 9,
   "id": "eae087a2",
   "metadata": {},
   "outputs": [],
   "source": [
    "cleaned_df['Latitude'] = cleaned_df['Latitude'].astype('float64')"
   ]
  },
  {
   "cell_type": "code",
   "execution_count": 10,
   "id": "9752ed3a",
   "metadata": {},
   "outputs": [],
   "source": [
    "cleaned_df['Longitude'] = cleaned_df['Longitude'].astype('float64')"
   ]
  },
  {
   "cell_type": "code",
   "execution_count": 62,
   "id": "5690f212",
   "metadata": {},
   "outputs": [
    {
     "data": {
      "text/plain": [
       "City of London 001F          2306\n",
       "Westminster 013E             1114\n",
       "Leeds 111B                   1088\n",
       "Calderdale 008E               998\n",
       "Wolverhampton 020F            969\n",
       "                             ... \n",
       "Greenwich 001B                 10\n",
       "Gateshead 023C                 10\n",
       "Manchester 013F                 8\n",
       "Cardiff 017A                    8\n",
       "Central Bedfordshire 023B       6\n",
       "Name: LSOA name, Length: 34749, dtype: int64"
      ]
     },
     "execution_count": 62,
     "metadata": {},
     "output_type": "execute_result"
    }
   ],
   "source": [
    "cleaned_df['LSOA name'].value_counts()"
   ]
  },
  {
   "cell_type": "markdown",
   "id": "3af2b339",
   "metadata": {},
   "source": [
    "# Extract LSOA code lat/lon and corresponding Police Region"
   ]
  },
  {
   "cell_type": "code",
   "execution_count": null,
   "id": "8256592c",
   "metadata": {},
   "outputs": [],
   "source": [
    "locations_df = cleaned_df.groupby(\n",
    "   ['LSOA code','LSOA name','Reported by'],group_keys=False\n",
    ").agg(\n",
    "    {\n",
    "         'other_id':\"count\",    # count of \n",
    "         'Location':\"nunique\",    # count of \n",
    "         'Longitude': \"mean\",  # get mean of long in a LSOA\n",
    "         'Latitude': \"mean\",  # get mean of lat in a LSOA\n",
    "        \n",
    "    }\n",
    ")"
   ]
  },
  {
   "cell_type": "code",
   "execution_count": 49,
   "id": "cacb501b",
   "metadata": {},
   "outputs": [
    {
     "data": {
      "text/html": [
       "<div>\n",
       "<style scoped>\n",
       "    .dataframe tbody tr th:only-of-type {\n",
       "        vertical-align: middle;\n",
       "    }\n",
       "\n",
       "    .dataframe tbody tr th {\n",
       "        vertical-align: top;\n",
       "    }\n",
       "\n",
       "    .dataframe thead th {\n",
       "        text-align: right;\n",
       "    }\n",
       "</style>\n",
       "<table border=\"1\" class=\"dataframe\">\n",
       "  <thead>\n",
       "    <tr style=\"text-align: right;\">\n",
       "      <th></th>\n",
       "      <th></th>\n",
       "      <th></th>\n",
       "      <th>other_id</th>\n",
       "      <th>Location</th>\n",
       "      <th>Longitude</th>\n",
       "      <th>Latitude</th>\n",
       "    </tr>\n",
       "    <tr>\n",
       "      <th>LSOA code</th>\n",
       "      <th>LSOA name</th>\n",
       "      <th>Reported by</th>\n",
       "      <th></th>\n",
       "      <th></th>\n",
       "      <th></th>\n",
       "      <th></th>\n",
       "    </tr>\n",
       "  </thead>\n",
       "  <tbody>\n",
       "    <tr>\n",
       "      <th rowspan=\"3\" valign=\"top\">E01000001</th>\n",
       "      <th rowspan=\"3\" valign=\"top\">City of London 001A</th>\n",
       "      <th>British Transport Police</th>\n",
       "      <td>6</td>\n",
       "      <td>1</td>\n",
       "      <td>-0.097262</td>\n",
       "      <td>51.520200</td>\n",
       "    </tr>\n",
       "    <tr>\n",
       "      <th>City of London Police</th>\n",
       "      <td>134</td>\n",
       "      <td>15</td>\n",
       "      <td>-0.097336</td>\n",
       "      <td>51.518251</td>\n",
       "    </tr>\n",
       "    <tr>\n",
       "      <th>Metropolitan Police Service</th>\n",
       "      <td>5</td>\n",
       "      <td>2</td>\n",
       "      <td>-0.097379</td>\n",
       "      <td>51.521314</td>\n",
       "    </tr>\n",
       "    <tr>\n",
       "      <th rowspan=\"2\" valign=\"top\">E01000002</th>\n",
       "      <th rowspan=\"2\" valign=\"top\">City of London 001B</th>\n",
       "      <th>British Transport Police</th>\n",
       "      <td>8</td>\n",
       "      <td>1</td>\n",
       "      <td>-0.089030</td>\n",
       "      <td>51.518400</td>\n",
       "    </tr>\n",
       "    <tr>\n",
       "      <th>City of London Police</th>\n",
       "      <td>174</td>\n",
       "      <td>20</td>\n",
       "      <td>-0.092946</td>\n",
       "      <td>51.518353</td>\n",
       "    </tr>\n",
       "    <tr>\n",
       "      <th>...</th>\n",
       "      <th>...</th>\n",
       "      <th>...</th>\n",
       "      <td>...</td>\n",
       "      <td>...</td>\n",
       "      <td>...</td>\n",
       "      <td>...</td>\n",
       "    </tr>\n",
       "    <tr>\n",
       "      <th rowspan=\"2\" valign=\"top\">W01001957</th>\n",
       "      <th rowspan=\"2\" valign=\"top\">Swansea 025G</th>\n",
       "      <th>Gwent Police</th>\n",
       "      <td>1</td>\n",
       "      <td>1</td>\n",
       "      <td>-3.949578</td>\n",
       "      <td>51.615686</td>\n",
       "    </tr>\n",
       "    <tr>\n",
       "      <th>South Wales Police</th>\n",
       "      <td>109</td>\n",
       "      <td>16</td>\n",
       "      <td>-3.946339</td>\n",
       "      <td>51.615874</td>\n",
       "    </tr>\n",
       "    <tr>\n",
       "      <th rowspan=\"3\" valign=\"top\">W01001958</th>\n",
       "      <th rowspan=\"3\" valign=\"top\">Swansea 025H</th>\n",
       "      <th>Dyfed-Powys Police</th>\n",
       "      <td>2</td>\n",
       "      <td>1</td>\n",
       "      <td>-3.936054</td>\n",
       "      <td>51.618311</td>\n",
       "    </tr>\n",
       "    <tr>\n",
       "      <th>Gwent Police</th>\n",
       "      <td>1</td>\n",
       "      <td>1</td>\n",
       "      <td>-3.930516</td>\n",
       "      <td>51.615461</td>\n",
       "    </tr>\n",
       "    <tr>\n",
       "      <th>South Wales Police</th>\n",
       "      <td>123</td>\n",
       "      <td>16</td>\n",
       "      <td>-3.934711</td>\n",
       "      <td>51.617423</td>\n",
       "    </tr>\n",
       "  </tbody>\n",
       "</table>\n",
       "<p>52167 rows × 4 columns</p>\n",
       "</div>"
      ],
      "text/plain": [
       "                                                           other_id  Location  \\\n",
       "LSOA code LSOA name           Reported by                                       \n",
       "E01000001 City of London 001A British Transport Police            6         1   \n",
       "                              City of London Police             134        15   \n",
       "                              Metropolitan Police Service         5         2   \n",
       "E01000002 City of London 001B British Transport Police            8         1   \n",
       "                              City of London Police             174        20   \n",
       "...                                                             ...       ...   \n",
       "W01001957 Swansea 025G        Gwent Police                        1         1   \n",
       "                              South Wales Police                109        16   \n",
       "W01001958 Swansea 025H        Dyfed-Powys Police                  2         1   \n",
       "                              Gwent Police                        1         1   \n",
       "                              South Wales Police                123        16   \n",
       "\n",
       "                                                           Longitude  \\\n",
       "LSOA code LSOA name           Reported by                              \n",
       "E01000001 City of London 001A British Transport Police     -0.097262   \n",
       "                              City of London Police        -0.097336   \n",
       "                              Metropolitan Police Service  -0.097379   \n",
       "E01000002 City of London 001B British Transport Police     -0.089030   \n",
       "                              City of London Police        -0.092946   \n",
       "...                                                              ...   \n",
       "W01001957 Swansea 025G        Gwent Police                 -3.949578   \n",
       "                              South Wales Police           -3.946339   \n",
       "W01001958 Swansea 025H        Dyfed-Powys Police           -3.936054   \n",
       "                              Gwent Police                 -3.930516   \n",
       "                              South Wales Police           -3.934711   \n",
       "\n",
       "                                                            Latitude  \n",
       "LSOA code LSOA name           Reported by                             \n",
       "E01000001 City of London 001A British Transport Police     51.520200  \n",
       "                              City of London Police        51.518251  \n",
       "                              Metropolitan Police Service  51.521314  \n",
       "E01000002 City of London 001B British Transport Police     51.518400  \n",
       "                              City of London Police        51.518353  \n",
       "...                                                              ...  \n",
       "W01001957 Swansea 025G        Gwent Police                 51.615686  \n",
       "                              South Wales Police           51.615874  \n",
       "W01001958 Swansea 025H        Dyfed-Powys Police           51.618311  \n",
       "                              Gwent Police                 51.615461  \n",
       "                              South Wales Police           51.617423  \n",
       "\n",
       "[52167 rows x 4 columns]"
      ]
     },
     "execution_count": 49,
     "metadata": {},
     "output_type": "execute_result"
    }
   ],
   "source": [
    "locations_df"
   ]
  },
  {
   "cell_type": "code",
   "execution_count": 56,
   "id": "c69be980",
   "metadata": {},
   "outputs": [
    {
     "data": {
      "text/plain": [
       "(52167, 4)"
      ]
     },
     "execution_count": 56,
     "metadata": {},
     "output_type": "execute_result"
    }
   ],
   "source": [
    "locations_df.shape"
   ]
  },
  {
   "cell_type": "code",
   "execution_count": 63,
   "id": "260c0f70",
   "metadata": {},
   "outputs": [],
   "source": [
    "new_df = locations_df.reset_index()"
   ]
  },
  {
   "cell_type": "code",
   "execution_count": 64,
   "id": "cd2c00b0",
   "metadata": {},
   "outputs": [
    {
     "data": {
      "text/html": [
       "<div>\n",
       "<style scoped>\n",
       "    .dataframe tbody tr th:only-of-type {\n",
       "        vertical-align: middle;\n",
       "    }\n",
       "\n",
       "    .dataframe tbody tr th {\n",
       "        vertical-align: top;\n",
       "    }\n",
       "\n",
       "    .dataframe thead th {\n",
       "        text-align: right;\n",
       "    }\n",
       "</style>\n",
       "<table border=\"1\" class=\"dataframe\">\n",
       "  <thead>\n",
       "    <tr style=\"text-align: right;\">\n",
       "      <th></th>\n",
       "      <th>LSOA code</th>\n",
       "      <th>LSOA name</th>\n",
       "      <th>Reported by</th>\n",
       "      <th>other_id</th>\n",
       "      <th>Location</th>\n",
       "      <th>Longitude</th>\n",
       "      <th>Latitude</th>\n",
       "    </tr>\n",
       "  </thead>\n",
       "  <tbody>\n",
       "    <tr>\n",
       "      <th>0</th>\n",
       "      <td>E01000001</td>\n",
       "      <td>City of London 001A</td>\n",
       "      <td>British Transport Police</td>\n",
       "      <td>6</td>\n",
       "      <td>1</td>\n",
       "      <td>-0.097262</td>\n",
       "      <td>51.520200</td>\n",
       "    </tr>\n",
       "    <tr>\n",
       "      <th>1</th>\n",
       "      <td>E01000001</td>\n",
       "      <td>City of London 001A</td>\n",
       "      <td>City of London Police</td>\n",
       "      <td>134</td>\n",
       "      <td>15</td>\n",
       "      <td>-0.097336</td>\n",
       "      <td>51.518251</td>\n",
       "    </tr>\n",
       "    <tr>\n",
       "      <th>2</th>\n",
       "      <td>E01000001</td>\n",
       "      <td>City of London 001A</td>\n",
       "      <td>Metropolitan Police Service</td>\n",
       "      <td>5</td>\n",
       "      <td>2</td>\n",
       "      <td>-0.097379</td>\n",
       "      <td>51.521314</td>\n",
       "    </tr>\n",
       "    <tr>\n",
       "      <th>3</th>\n",
       "      <td>E01000002</td>\n",
       "      <td>City of London 001B</td>\n",
       "      <td>British Transport Police</td>\n",
       "      <td>8</td>\n",
       "      <td>1</td>\n",
       "      <td>-0.089030</td>\n",
       "      <td>51.518400</td>\n",
       "    </tr>\n",
       "    <tr>\n",
       "      <th>4</th>\n",
       "      <td>E01000002</td>\n",
       "      <td>City of London 001B</td>\n",
       "      <td>City of London Police</td>\n",
       "      <td>174</td>\n",
       "      <td>20</td>\n",
       "      <td>-0.092946</td>\n",
       "      <td>51.518353</td>\n",
       "    </tr>\n",
       "  </tbody>\n",
       "</table>\n",
       "</div>"
      ],
      "text/plain": [
       "   LSOA code            LSOA name                  Reported by  other_id  \\\n",
       "0  E01000001  City of London 001A     British Transport Police         6   \n",
       "1  E01000001  City of London 001A        City of London Police       134   \n",
       "2  E01000001  City of London 001A  Metropolitan Police Service         5   \n",
       "3  E01000002  City of London 001B     British Transport Police         8   \n",
       "4  E01000002  City of London 001B        City of London Police       174   \n",
       "\n",
       "   Location  Longitude   Latitude  \n",
       "0         1  -0.097262  51.520200  \n",
       "1        15  -0.097336  51.518251  \n",
       "2         2  -0.097379  51.521314  \n",
       "3         1  -0.089030  51.518400  \n",
       "4        20  -0.092946  51.518353  "
      ]
     },
     "execution_count": 64,
     "metadata": {},
     "output_type": "execute_result"
    }
   ],
   "source": [
    "new_df.head()"
   ]
  },
  {
   "cell_type": "code",
   "execution_count": 98,
   "id": "e82994d7",
   "metadata": {},
   "outputs": [],
   "source": [
    "lsao_df = new_df[new_df.groupby(['LSOA name'])['other_id'].transform(max) == new_df['other_id']]"
   ]
  },
  {
   "cell_type": "code",
   "execution_count": 99,
   "id": "0e7779c1",
   "metadata": {},
   "outputs": [
    {
     "data": {
      "text/html": [
       "<div>\n",
       "<style scoped>\n",
       "    .dataframe tbody tr th:only-of-type {\n",
       "        vertical-align: middle;\n",
       "    }\n",
       "\n",
       "    .dataframe tbody tr th {\n",
       "        vertical-align: top;\n",
       "    }\n",
       "\n",
       "    .dataframe thead th {\n",
       "        text-align: right;\n",
       "    }\n",
       "</style>\n",
       "<table border=\"1\" class=\"dataframe\">\n",
       "  <thead>\n",
       "    <tr style=\"text-align: right;\">\n",
       "      <th></th>\n",
       "      <th>LSOA code</th>\n",
       "      <th>LSOA name</th>\n",
       "      <th>Reported by</th>\n",
       "      <th>other_id</th>\n",
       "      <th>Location</th>\n",
       "      <th>Longitude</th>\n",
       "      <th>Latitude</th>\n",
       "    </tr>\n",
       "  </thead>\n",
       "  <tbody>\n",
       "    <tr>\n",
       "      <th>1</th>\n",
       "      <td>E01000001</td>\n",
       "      <td>City of London 001A</td>\n",
       "      <td>City of London Police</td>\n",
       "      <td>134</td>\n",
       "      <td>15</td>\n",
       "      <td>-0.097336</td>\n",
       "      <td>51.518251</td>\n",
       "    </tr>\n",
       "    <tr>\n",
       "      <th>4</th>\n",
       "      <td>E01000002</td>\n",
       "      <td>City of London 001B</td>\n",
       "      <td>City of London Police</td>\n",
       "      <td>174</td>\n",
       "      <td>20</td>\n",
       "      <td>-0.092946</td>\n",
       "      <td>51.518353</td>\n",
       "    </tr>\n",
       "    <tr>\n",
       "      <th>7</th>\n",
       "      <td>E01000003</td>\n",
       "      <td>City of London 001C</td>\n",
       "      <td>City of London Police</td>\n",
       "      <td>41</td>\n",
       "      <td>7</td>\n",
       "      <td>-0.095099</td>\n",
       "      <td>51.521301</td>\n",
       "    </tr>\n",
       "    <tr>\n",
       "      <th>10</th>\n",
       "      <td>E01000005</td>\n",
       "      <td>City of London 001E</td>\n",
       "      <td>City of London Police</td>\n",
       "      <td>317</td>\n",
       "      <td>29</td>\n",
       "      <td>-0.075878</td>\n",
       "      <td>51.513443</td>\n",
       "    </tr>\n",
       "    <tr>\n",
       "      <th>13</th>\n",
       "      <td>E01000006</td>\n",
       "      <td>Barking and Dagenham 016A</td>\n",
       "      <td>Metropolitan Police Service</td>\n",
       "      <td>55</td>\n",
       "      <td>7</td>\n",
       "      <td>0.087690</td>\n",
       "      <td>51.539150</td>\n",
       "    </tr>\n",
       "  </tbody>\n",
       "</table>\n",
       "</div>"
      ],
      "text/plain": [
       "    LSOA code                  LSOA name                  Reported by  \\\n",
       "1   E01000001        City of London 001A        City of London Police   \n",
       "4   E01000002        City of London 001B        City of London Police   \n",
       "7   E01000003        City of London 001C        City of London Police   \n",
       "10  E01000005        City of London 001E        City of London Police   \n",
       "13  E01000006  Barking and Dagenham 016A  Metropolitan Police Service   \n",
       "\n",
       "    other_id  Location  Longitude   Latitude  \n",
       "1        134        15  -0.097336  51.518251  \n",
       "4        174        20  -0.092946  51.518353  \n",
       "7         41         7  -0.095099  51.521301  \n",
       "10       317        29  -0.075878  51.513443  \n",
       "13        55         7   0.087690  51.539150  "
      ]
     },
     "execution_count": 99,
     "metadata": {},
     "output_type": "execute_result"
    }
   ],
   "source": [
    "lsao_df.head()"
   ]
  },
  {
   "cell_type": "code",
   "execution_count": 100,
   "id": "735fe24a",
   "metadata": {
    "scrolled": false
   },
   "outputs": [
    {
     "data": {
      "text/plain": [
       "(34749, 7)"
      ]
     },
     "execution_count": 100,
     "metadata": {},
     "output_type": "execute_result"
    }
   ],
   "source": [
    "lsao_df.shape"
   ]
  },
  {
   "cell_type": "code",
   "execution_count": 66,
   "id": "1f78e08b",
   "metadata": {},
   "outputs": [
    {
     "name": "stderr",
     "output_type": "stream",
     "text": [
      "/Users/brialforestier/.pyenv/versions/3.8.6/envs/lewagon/lib/python3.8/site-packages/IPython/core/interactiveshell.py:3169: DtypeWarning: Columns (27,28,29,30,32) have mixed types.Specify dtype option on import or set low_memory=False.\n",
      "  has_raised = await self.run_ast_nodes(code_ast.body, cell_name,\n"
     ]
    }
   ],
   "source": [
    "population_df = pd.read_csv('../raw_data/population_data.csv')"
   ]
  },
  {
   "cell_type": "code",
   "execution_count": 101,
   "id": "9ff9ae21",
   "metadata": {},
   "outputs": [
    {
     "data": {
      "text/html": [
       "<div>\n",
       "<style scoped>\n",
       "    .dataframe tbody tr th:only-of-type {\n",
       "        vertical-align: middle;\n",
       "    }\n",
       "\n",
       "    .dataframe tbody tr th {\n",
       "        vertical-align: top;\n",
       "    }\n",
       "\n",
       "    .dataframe thead th {\n",
       "        text-align: right;\n",
       "    }\n",
       "</style>\n",
       "<table border=\"1\" class=\"dataframe\">\n",
       "  <thead>\n",
       "    <tr style=\"text-align: right;\">\n",
       "      <th></th>\n",
       "      <th>LSOA code</th>\n",
       "      <th>population</th>\n",
       "    </tr>\n",
       "  </thead>\n",
       "  <tbody>\n",
       "    <tr>\n",
       "      <th>0</th>\n",
       "      <td>E01011949</td>\n",
       "      <td>1,954</td>\n",
       "    </tr>\n",
       "    <tr>\n",
       "      <th>1</th>\n",
       "      <td>E01011950</td>\n",
       "      <td>1,257</td>\n",
       "    </tr>\n",
       "    <tr>\n",
       "      <th>2</th>\n",
       "      <td>E01011951</td>\n",
       "      <td>1,209</td>\n",
       "    </tr>\n",
       "    <tr>\n",
       "      <th>3</th>\n",
       "      <td>E01011952</td>\n",
       "      <td>1,740</td>\n",
       "    </tr>\n",
       "    <tr>\n",
       "      <th>4</th>\n",
       "      <td>E01011953</td>\n",
       "      <td>2,033</td>\n",
       "    </tr>\n",
       "    <tr>\n",
       "      <th>5</th>\n",
       "      <td>E01011954</td>\n",
       "      <td>2,210</td>\n",
       "    </tr>\n",
       "    <tr>\n",
       "      <th>6</th>\n",
       "      <td>E01011955</td>\n",
       "      <td>1,361</td>\n",
       "    </tr>\n",
       "    <tr>\n",
       "      <th>7</th>\n",
       "      <td>E01011957</td>\n",
       "      <td>1,299</td>\n",
       "    </tr>\n",
       "    <tr>\n",
       "      <th>8</th>\n",
       "      <td>E01011959</td>\n",
       "      <td>2,516</td>\n",
       "    </tr>\n",
       "    <tr>\n",
       "      <th>9</th>\n",
       "      <td>E01011960</td>\n",
       "      <td>1,303</td>\n",
       "    </tr>\n",
       "  </tbody>\n",
       "</table>\n",
       "</div>"
      ],
      "text/plain": [
       "   LSOA code population\n",
       "0  E01011949      1,954\n",
       "1  E01011950      1,257\n",
       "2  E01011951      1,209\n",
       "3  E01011952      1,740\n",
       "4  E01011953      2,033\n",
       "5  E01011954      2,210\n",
       "6  E01011955      1,361\n",
       "7  E01011957      1,299\n",
       "8  E01011959      2,516\n",
       "9  E01011960      1,303"
      ]
     },
     "execution_count": 101,
     "metadata": {},
     "output_type": "execute_result"
    }
   ],
   "source": [
    "population_df.head(10)"
   ]
  },
  {
   "cell_type": "code",
   "execution_count": 68,
   "id": "5d609461",
   "metadata": {},
   "outputs": [
    {
     "data": {
      "text/plain": [
       "(34753, 98)"
      ]
     },
     "execution_count": 68,
     "metadata": {},
     "output_type": "execute_result"
    }
   ],
   "source": [
    "population_df.shape"
   ]
  },
  {
   "cell_type": "code",
   "execution_count": 82,
   "id": "2b62c8c3",
   "metadata": {},
   "outputs": [],
   "source": [
    "population_df = population_df[['LSOA code','population']]"
   ]
  },
  {
   "cell_type": "code",
   "execution_count": 76,
   "id": "63edf6d4",
   "metadata": {},
   "outputs": [],
   "source": [
    "population_df.columns = ['LSOA code','population']"
   ]
  },
  {
   "cell_type": "code",
   "execution_count": 83,
   "id": "ea52a5b9",
   "metadata": {},
   "outputs": [
    {
     "data": {
      "text/html": [
       "<div>\n",
       "<style scoped>\n",
       "    .dataframe tbody tr th:only-of-type {\n",
       "        vertical-align: middle;\n",
       "    }\n",
       "\n",
       "    .dataframe tbody tr th {\n",
       "        vertical-align: top;\n",
       "    }\n",
       "\n",
       "    .dataframe thead th {\n",
       "        text-align: right;\n",
       "    }\n",
       "</style>\n",
       "<table border=\"1\" class=\"dataframe\">\n",
       "  <thead>\n",
       "    <tr style=\"text-align: right;\">\n",
       "      <th></th>\n",
       "      <th>LSOA code</th>\n",
       "      <th>population</th>\n",
       "    </tr>\n",
       "  </thead>\n",
       "  <tbody>\n",
       "    <tr>\n",
       "      <th>0</th>\n",
       "      <td>E01011949</td>\n",
       "      <td>1,954</td>\n",
       "    </tr>\n",
       "    <tr>\n",
       "      <th>1</th>\n",
       "      <td>E01011950</td>\n",
       "      <td>1,257</td>\n",
       "    </tr>\n",
       "    <tr>\n",
       "      <th>2</th>\n",
       "      <td>E01011951</td>\n",
       "      <td>1,209</td>\n",
       "    </tr>\n",
       "    <tr>\n",
       "      <th>3</th>\n",
       "      <td>E01011952</td>\n",
       "      <td>1,740</td>\n",
       "    </tr>\n",
       "    <tr>\n",
       "      <th>4</th>\n",
       "      <td>E01011953</td>\n",
       "      <td>2,033</td>\n",
       "    </tr>\n",
       "  </tbody>\n",
       "</table>\n",
       "</div>"
      ],
      "text/plain": [
       "   LSOA code population\n",
       "0  E01011949      1,954\n",
       "1  E01011950      1,257\n",
       "2  E01011951      1,209\n",
       "3  E01011952      1,740\n",
       "4  E01011953      2,033"
      ]
     },
     "execution_count": 83,
     "metadata": {},
     "output_type": "execute_result"
    }
   ],
   "source": [
    "population_df.head()"
   ]
  },
  {
   "cell_type": "code",
   "execution_count": 102,
   "id": "33c60465",
   "metadata": {},
   "outputs": [],
   "source": [
    "lsao_df = lsao_df.merge(population_df,on='LSOA code')"
   ]
  },
  {
   "cell_type": "code",
   "execution_count": 92,
   "id": "6578e73f",
   "metadata": {},
   "outputs": [],
   "source": [
    "#save lsoa_df to a csv.\n",
    "lsao_df.to_csv('lsoa_data.csv')"
   ]
  },
  {
   "cell_type": "code",
   "execution_count": 103,
   "id": "dc194cc8",
   "metadata": {},
   "outputs": [
    {
     "data": {
      "text/html": [
       "<div>\n",
       "<style scoped>\n",
       "    .dataframe tbody tr th:only-of-type {\n",
       "        vertical-align: middle;\n",
       "    }\n",
       "\n",
       "    .dataframe tbody tr th {\n",
       "        vertical-align: top;\n",
       "    }\n",
       "\n",
       "    .dataframe thead th {\n",
       "        text-align: right;\n",
       "    }\n",
       "</style>\n",
       "<table border=\"1\" class=\"dataframe\">\n",
       "  <thead>\n",
       "    <tr style=\"text-align: right;\">\n",
       "      <th></th>\n",
       "      <th>LSOA code</th>\n",
       "      <th>LSOA name</th>\n",
       "      <th>Reported by</th>\n",
       "      <th>other_id</th>\n",
       "      <th>Location</th>\n",
       "      <th>Longitude</th>\n",
       "      <th>Latitude</th>\n",
       "      <th>population</th>\n",
       "    </tr>\n",
       "  </thead>\n",
       "  <tbody>\n",
       "    <tr>\n",
       "      <th>0</th>\n",
       "      <td>E01000001</td>\n",
       "      <td>City of London 001A</td>\n",
       "      <td>City of London Police</td>\n",
       "      <td>134</td>\n",
       "      <td>15</td>\n",
       "      <td>-0.097336</td>\n",
       "      <td>51.518251</td>\n",
       "      <td>1,636</td>\n",
       "    </tr>\n",
       "    <tr>\n",
       "      <th>1</th>\n",
       "      <td>E01000002</td>\n",
       "      <td>City of London 001B</td>\n",
       "      <td>City of London Police</td>\n",
       "      <td>174</td>\n",
       "      <td>20</td>\n",
       "      <td>-0.092946</td>\n",
       "      <td>51.518353</td>\n",
       "      <td>1,558</td>\n",
       "    </tr>\n",
       "    <tr>\n",
       "      <th>2</th>\n",
       "      <td>E01000003</td>\n",
       "      <td>City of London 001C</td>\n",
       "      <td>City of London Police</td>\n",
       "      <td>41</td>\n",
       "      <td>7</td>\n",
       "      <td>-0.095099</td>\n",
       "      <td>51.521301</td>\n",
       "      <td>1,786</td>\n",
       "    </tr>\n",
       "    <tr>\n",
       "      <th>3</th>\n",
       "      <td>E01000005</td>\n",
       "      <td>City of London 001E</td>\n",
       "      <td>City of London Police</td>\n",
       "      <td>317</td>\n",
       "      <td>29</td>\n",
       "      <td>-0.075878</td>\n",
       "      <td>51.513443</td>\n",
       "      <td>1,888</td>\n",
       "    </tr>\n",
       "    <tr>\n",
       "      <th>4</th>\n",
       "      <td>E01000006</td>\n",
       "      <td>Barking and Dagenham 016A</td>\n",
       "      <td>Metropolitan Police Service</td>\n",
       "      <td>55</td>\n",
       "      <td>7</td>\n",
       "      <td>0.087690</td>\n",
       "      <td>51.539150</td>\n",
       "      <td>2,094</td>\n",
       "    </tr>\n",
       "  </tbody>\n",
       "</table>\n",
       "</div>"
      ],
      "text/plain": [
       "   LSOA code                  LSOA name                  Reported by  \\\n",
       "0  E01000001        City of London 001A        City of London Police   \n",
       "1  E01000002        City of London 001B        City of London Police   \n",
       "2  E01000003        City of London 001C        City of London Police   \n",
       "3  E01000005        City of London 001E        City of London Police   \n",
       "4  E01000006  Barking and Dagenham 016A  Metropolitan Police Service   \n",
       "\n",
       "   other_id  Location  Longitude   Latitude population  \n",
       "0       134        15  -0.097336  51.518251      1,636  \n",
       "1       174        20  -0.092946  51.518353      1,558  \n",
       "2        41         7  -0.095099  51.521301      1,786  \n",
       "3       317        29  -0.075878  51.513443      1,888  \n",
       "4        55         7   0.087690  51.539150      2,094  "
      ]
     },
     "execution_count": 103,
     "metadata": {},
     "output_type": "execute_result"
    }
   ],
   "source": [
    "lsao_df.head()"
   ]
  },
  {
   "cell_type": "code",
   "execution_count": 104,
   "id": "8914a5d2",
   "metadata": {},
   "outputs": [
    {
     "data": {
      "text/plain": [
       "(34749, 8)"
      ]
     },
     "execution_count": 104,
     "metadata": {},
     "output_type": "execute_result"
    }
   ],
   "source": [
    "lsao_df.shape"
   ]
  },
  {
   "cell_type": "code",
   "execution_count": 105,
   "id": "46808edd",
   "metadata": {},
   "outputs": [],
   "source": [
    "lsao_df = lsao_df[['LSOA code','LSOA name','Reported by','Longitude','Latitude','population']]"
   ]
  },
  {
   "cell_type": "code",
   "execution_count": 106,
   "id": "e6b0b5e2",
   "metadata": {},
   "outputs": [],
   "source": [
    "lsao_df.columns = ['lsoa','lsoa_name','force','lon','lat','pop']"
   ]
  },
  {
   "cell_type": "code",
   "execution_count": 107,
   "id": "1e57b534",
   "metadata": {},
   "outputs": [],
   "source": [
    "lsao_df.to_pickle('../raw_data/lsoa_data.pkl')"
   ]
  },
  {
   "cell_type": "code",
   "execution_count": 108,
   "id": "27a83c15",
   "metadata": {},
   "outputs": [
    {
     "data": {
      "text/html": [
       "<div>\n",
       "<style scoped>\n",
       "    .dataframe tbody tr th:only-of-type {\n",
       "        vertical-align: middle;\n",
       "    }\n",
       "\n",
       "    .dataframe tbody tr th {\n",
       "        vertical-align: top;\n",
       "    }\n",
       "\n",
       "    .dataframe thead th {\n",
       "        text-align: right;\n",
       "    }\n",
       "</style>\n",
       "<table border=\"1\" class=\"dataframe\">\n",
       "  <thead>\n",
       "    <tr style=\"text-align: right;\">\n",
       "      <th></th>\n",
       "      <th>lsoa</th>\n",
       "      <th>lsoa_name</th>\n",
       "      <th>force</th>\n",
       "      <th>lon</th>\n",
       "      <th>lat</th>\n",
       "      <th>pop</th>\n",
       "    </tr>\n",
       "  </thead>\n",
       "  <tbody>\n",
       "    <tr>\n",
       "      <th>0</th>\n",
       "      <td>E01000001</td>\n",
       "      <td>City of London 001A</td>\n",
       "      <td>City of London Police</td>\n",
       "      <td>-0.097336</td>\n",
       "      <td>51.518251</td>\n",
       "      <td>1,636</td>\n",
       "    </tr>\n",
       "    <tr>\n",
       "      <th>1</th>\n",
       "      <td>E01000002</td>\n",
       "      <td>City of London 001B</td>\n",
       "      <td>City of London Police</td>\n",
       "      <td>-0.092946</td>\n",
       "      <td>51.518353</td>\n",
       "      <td>1,558</td>\n",
       "    </tr>\n",
       "    <tr>\n",
       "      <th>2</th>\n",
       "      <td>E01000003</td>\n",
       "      <td>City of London 001C</td>\n",
       "      <td>City of London Police</td>\n",
       "      <td>-0.095099</td>\n",
       "      <td>51.521301</td>\n",
       "      <td>1,786</td>\n",
       "    </tr>\n",
       "    <tr>\n",
       "      <th>3</th>\n",
       "      <td>E01000005</td>\n",
       "      <td>City of London 001E</td>\n",
       "      <td>City of London Police</td>\n",
       "      <td>-0.075878</td>\n",
       "      <td>51.513443</td>\n",
       "      <td>1,888</td>\n",
       "    </tr>\n",
       "    <tr>\n",
       "      <th>4</th>\n",
       "      <td>E01000006</td>\n",
       "      <td>Barking and Dagenham 016A</td>\n",
       "      <td>Metropolitan Police Service</td>\n",
       "      <td>0.087690</td>\n",
       "      <td>51.539150</td>\n",
       "      <td>2,094</td>\n",
       "    </tr>\n",
       "  </tbody>\n",
       "</table>\n",
       "</div>"
      ],
      "text/plain": [
       "        lsoa                  lsoa_name                        force  \\\n",
       "0  E01000001        City of London 001A        City of London Police   \n",
       "1  E01000002        City of London 001B        City of London Police   \n",
       "2  E01000003        City of London 001C        City of London Police   \n",
       "3  E01000005        City of London 001E        City of London Police   \n",
       "4  E01000006  Barking and Dagenham 016A  Metropolitan Police Service   \n",
       "\n",
       "        lon        lat    pop  \n",
       "0 -0.097336  51.518251  1,636  \n",
       "1 -0.092946  51.518353  1,558  \n",
       "2 -0.095099  51.521301  1,786  \n",
       "3 -0.075878  51.513443  1,888  \n",
       "4  0.087690  51.539150  2,094  "
      ]
     },
     "execution_count": 108,
     "metadata": {},
     "output_type": "execute_result"
    }
   ],
   "source": [
    "lsao_df.head()"
   ]
  },
  {
   "cell_type": "code",
   "execution_count": 109,
   "id": "0be0ad2e",
   "metadata": {},
   "outputs": [],
   "source": [
    "lsao_df['city']=lsao_df['lsoa_name'].apply(lambda x: x[:-5])"
   ]
  },
  {
   "cell_type": "code",
   "execution_count": 110,
   "id": "fbfc2b4f",
   "metadata": {},
   "outputs": [
    {
     "data": {
      "text/html": [
       "<div>\n",
       "<style scoped>\n",
       "    .dataframe tbody tr th:only-of-type {\n",
       "        vertical-align: middle;\n",
       "    }\n",
       "\n",
       "    .dataframe tbody tr th {\n",
       "        vertical-align: top;\n",
       "    }\n",
       "\n",
       "    .dataframe thead th {\n",
       "        text-align: right;\n",
       "    }\n",
       "</style>\n",
       "<table border=\"1\" class=\"dataframe\">\n",
       "  <thead>\n",
       "    <tr style=\"text-align: right;\">\n",
       "      <th></th>\n",
       "      <th>lsoa</th>\n",
       "      <th>lsoa_name</th>\n",
       "      <th>force</th>\n",
       "      <th>lon</th>\n",
       "      <th>lat</th>\n",
       "      <th>pop</th>\n",
       "      <th>city</th>\n",
       "    </tr>\n",
       "  </thead>\n",
       "  <tbody>\n",
       "    <tr>\n",
       "      <th>0</th>\n",
       "      <td>E01000001</td>\n",
       "      <td>City of London 001A</td>\n",
       "      <td>City of London Police</td>\n",
       "      <td>-0.097336</td>\n",
       "      <td>51.518251</td>\n",
       "      <td>1,636</td>\n",
       "      <td>City of London</td>\n",
       "    </tr>\n",
       "    <tr>\n",
       "      <th>1</th>\n",
       "      <td>E01000002</td>\n",
       "      <td>City of London 001B</td>\n",
       "      <td>City of London Police</td>\n",
       "      <td>-0.092946</td>\n",
       "      <td>51.518353</td>\n",
       "      <td>1,558</td>\n",
       "      <td>City of London</td>\n",
       "    </tr>\n",
       "    <tr>\n",
       "      <th>2</th>\n",
       "      <td>E01000003</td>\n",
       "      <td>City of London 001C</td>\n",
       "      <td>City of London Police</td>\n",
       "      <td>-0.095099</td>\n",
       "      <td>51.521301</td>\n",
       "      <td>1,786</td>\n",
       "      <td>City of London</td>\n",
       "    </tr>\n",
       "    <tr>\n",
       "      <th>3</th>\n",
       "      <td>E01000005</td>\n",
       "      <td>City of London 001E</td>\n",
       "      <td>City of London Police</td>\n",
       "      <td>-0.075878</td>\n",
       "      <td>51.513443</td>\n",
       "      <td>1,888</td>\n",
       "      <td>City of London</td>\n",
       "    </tr>\n",
       "    <tr>\n",
       "      <th>4</th>\n",
       "      <td>E01000006</td>\n",
       "      <td>Barking and Dagenham 016A</td>\n",
       "      <td>Metropolitan Police Service</td>\n",
       "      <td>0.087690</td>\n",
       "      <td>51.539150</td>\n",
       "      <td>2,094</td>\n",
       "      <td>Barking and Dagenham</td>\n",
       "    </tr>\n",
       "  </tbody>\n",
       "</table>\n",
       "</div>"
      ],
      "text/plain": [
       "        lsoa                  lsoa_name                        force  \\\n",
       "0  E01000001        City of London 001A        City of London Police   \n",
       "1  E01000002        City of London 001B        City of London Police   \n",
       "2  E01000003        City of London 001C        City of London Police   \n",
       "3  E01000005        City of London 001E        City of London Police   \n",
       "4  E01000006  Barking and Dagenham 016A  Metropolitan Police Service   \n",
       "\n",
       "        lon        lat    pop                  city  \n",
       "0 -0.097336  51.518251  1,636        City of London  \n",
       "1 -0.092946  51.518353  1,558        City of London  \n",
       "2 -0.095099  51.521301  1,786        City of London  \n",
       "3 -0.075878  51.513443  1,888        City of London  \n",
       "4  0.087690  51.539150  2,094  Barking and Dagenham  "
      ]
     },
     "execution_count": 110,
     "metadata": {},
     "output_type": "execute_result"
    }
   ],
   "source": [
    "lsao_df.head()"
   ]
  },
  {
   "cell_type": "code",
   "execution_count": 111,
   "id": "a66d5516",
   "metadata": {},
   "outputs": [],
   "source": [
    "lsao_df.to_pickle('../raw_data/lsoa_data.pkl')"
   ]
  },
  {
   "cell_type": "code",
   "execution_count": null,
   "id": "e69d25dd",
   "metadata": {},
   "outputs": [],
   "source": []
  }
 ],
 "metadata": {
  "kernelspec": {
   "display_name": "Python 3",
   "language": "python",
   "name": "python3"
  },
  "language_info": {
   "codemirror_mode": {
    "name": "ipython",
    "version": 3
   },
   "file_extension": ".py",
   "mimetype": "text/x-python",
   "name": "python",
   "nbconvert_exporter": "python",
   "pygments_lexer": "ipython3",
   "version": "3.8.6"
  },
  "toc": {
   "base_numbering": 1,
   "nav_menu": {},
   "number_sections": true,
   "sideBar": true,
   "skip_h1_title": false,
   "title_cell": "Table of Contents",
   "title_sidebar": "Contents",
   "toc_cell": false,
   "toc_position": {},
   "toc_section_display": true,
   "toc_window_display": false
  }
 },
 "nbformat": 4,
 "nbformat_minor": 5
}
