{
 "cells": [
  {
   "cell_type": "markdown",
   "id": "bdcbabeb",
   "metadata": {},
   "source": [
    "### Imports"
   ]
  },
  {
   "cell_type": "code",
   "execution_count": 1,
   "id": "910e534c",
   "metadata": {},
   "outputs": [],
   "source": [
    "import pandas as pd \n",
    "import numpy as np\n",
    "import os\n",
    "import glob\n",
    "import folium\n",
    "import folium.plugins\n",
    "import datetime\n",
    "from folium.plugins import HeatMapWithTime\n",
    "import statistics\n",
    "import requests\n",
    "import matplotlib.pyplot as plt\n",
    "import seaborn as sns\n",
    "import datetime"
   ]
  },
  {
   "cell_type": "markdown",
   "id": "fe177e81",
   "metadata": {},
   "source": [
    "### Area and crime list for user convenience"
   ]
  },
  {
   "cell_type": "code",
   "execution_count": 2,
   "id": "a728eca9",
   "metadata": {},
   "outputs": [],
   "source": [
    "police_force_area_list = [dic['id'].replace('-',' ') for dic in requests.get(\"https://data.police.uk/api/forces\").json()]"
   ]
  },
  {
   "cell_type": "code",
   "execution_count": 3,
   "id": "1aba4bef",
   "metadata": {},
   "outputs": [],
   "source": [
    "crime_list = [dic['name'] for dic in requests.get(\"https://data.police.uk/api/crime-categories?\").json()][1:-1]"
   ]
  },
  {
   "cell_type": "markdown",
   "id": "9f9b56ec",
   "metadata": {},
   "source": [
    "### Functions for finding files and creating DF"
   ]
  },
  {
   "cell_type": "code",
   "execution_count": 4,
   "id": "bc09bbfe",
   "metadata": {},
   "outputs": [],
   "source": [
    "def find_area_files(area): \n",
    "    area = area.replace(\" \",\"-\")\n",
    "    files = glob.glob(f'/Users/andrewsmith/Desktop/Crime_Data_project/data/all_data/**/*{area}-street.csv',recursive = True)\n",
    "    return files"
   ]
  },
  {
   "cell_type": "code",
   "execution_count": 5,
   "id": "ce8f1660",
   "metadata": {},
   "outputs": [],
   "source": [
    "def find_all_files():\n",
    "    files = glob.glob(f'/Users/andrewsmith/Desktop/Crime_Data_project/data/all_data/**/*-street.csv',recursive = True)\n",
    "    return files"
   ]
  },
  {
   "cell_type": "code",
   "execution_count": 6,
   "id": "893947fc",
   "metadata": {},
   "outputs": [],
   "source": [
    "def create_complete_df():\n",
    "    dfs = []\n",
    "    for file in find_all_files(): \n",
    "        dfs.append(pd.read_csv(file))\n",
    "    complete_df = pd.DataFrame()\n",
    "    for i in range(len(dfs)): \n",
    "        complete_df = pd.concat([complete_df,dfs[i]]) \n",
    "    return complete_df"
   ]
  },
  {
   "cell_type": "code",
   "execution_count": 7,
   "id": "7445f2ce",
   "metadata": {},
   "outputs": [],
   "source": [
    "def create_area_df(area):\n",
    "    dfs = []\n",
    "    for file in find_area_files(area): \n",
    "        dfs.append(pd.read_csv(file))\n",
    "    area_df = pd.DataFrame()\n",
    "    for i in range(len(dfs)): \n",
    "        area_df = pd.concat([area_df,dfs[i]]) \n",
    "    return area_df\n",
    "        "
   ]
  },
  {
   "cell_type": "markdown",
   "id": "6a653ed0",
   "metadata": {},
   "source": [
    "### Function for creating a heatmap from user specified area and crime"
   ]
  },
  {
   "cell_type": "code",
   "execution_count": null,
   "id": "5d1f9861",
   "metadata": {},
   "outputs": [],
   "source": [
    "def area_heat_map(crime_type,area):\n",
    "    crime_type = crime_type.capitalize()\n",
    "    area_df = create_area_df(area)\n",
    "    individual_crime_df = area_df[area_df[\"Crime type\"]==crime_type][['Longitude','Latitude']]\n",
    "    individual_crime_df=individual_crime_df.dropna()\n",
    "    lat_list = individual_crime_df['Latitude'].tolist()\n",
    "    long_list = individual_crime_df['Longitude'].tolist()\n",
    "    individual_crime_coordinates = set(zip(lat_list,long_list))\n",
    "    map_centre = (statistics.mean(lat_list), statistics.mean(long_list))\n",
    "    \n",
    "    base_map = folium.Map(location=map_centre, zoom_start=10)\n",
    "    \n",
    "    title_html = '''\n",
    "             <h3 align=\"center\" style=\"font-size:20px\"><b>{title} in {location} from 6/2018 to 5/2021</b></h3>\n",
    "             '''.format(title=crime_type.title(),location=area.title())\n",
    "    base_map.get_root().html.add_child(folium.Element(title_html))\n",
    "    \n",
    "                                       \n",
    "    folium.plugins.HeatMap(individual_crime_coordinates,overlay=True,min_opacity=0.01).add_to(base_map)\n",
    "    display(base_map)"
   ]
  },
  {
   "cell_type": "code",
   "execution_count": null,
   "id": "f1efb02c",
   "metadata": {},
   "outputs": [],
   "source": [
    "def all_areas_heat_map(crime_type):\n",
    "    crime_type = crime_type.capitalize()\n",
    "    complete_df = create_complete_df()\n",
    "    individual_crime_df = complete_df[complete_df[\"Crime type\"]==crime_type][['Longitude','Latitude']]\n",
    "    individual_crime_df=individual_crime_df.dropna()\n",
    "    lat_list = individual_crime_df['Latitude'].tolist()\n",
    "    long_list = individual_crime_df['Longitude'].tolist()\n",
    "    individual_crime_coordinates = set(zip(lat_list,long_list))\n",
    "    map_centre = (statistics.mean(lat_list), statistics.mean(long_list))\n",
    "    \n",
    "    base_map = folium.Map(location=map_centre, zoom_start=10)\n",
    "    \n",
    "    title_html = '''\n",
    "             <h3 align=\"center\" style=\"font-size:20px\"><b>{title} in England and Wales from 6/2018 to 5/2021</b></h3>\n",
    "             '''.format(title=crime_type.title(),location=area.title())\n",
    "    base_map.get_root().html.add_child(folium.Element(title_html))\n",
    "    \n",
    "                                       \n",
    "    folium.plugins.HeatMap(individual_crime_coordinates,overlay=True,min_opacity=0.01).add_to(base_map)\n",
    "    display(base_map)"
   ]
  },
  {
   "cell_type": "code",
   "execution_count": null,
   "id": "55c1c584",
   "metadata": {},
   "outputs": [],
   "source": [
    "heat_map('drugs','greater manchester')"
   ]
  },
  {
   "cell_type": "markdown",
   "id": "81a17199",
   "metadata": {},
   "source": [
    "### Function for creating a heatmap with time features from user specified area and crime"
   ]
  },
  {
   "cell_type": "code",
   "execution_count": null,
   "id": "dc356d3d",
   "metadata": {},
   "outputs": [],
   "source": [
    "def heat_map_time(crime_type,area):\n",
    "    crime_type = crime_type.capitalize()\n",
    "    area_df = create_area_df(area)\n",
    "    crime_area_df= area_df[area_df[\"Crime type\"]==crime_type][['Longitude','Latitude','Month']]\n",
    "    date_index = list(crime_area_df['Month'].sort_values().unique())\n",
    "    crime_area_df[\"Time\"] = crime_area_df[\"Month\"].map(lambda x:x.replace('-',''))\n",
    "    crime_area_df[\"Time\"] = crime_area_df[\"Time\"].map(lambda x:int(x))\n",
    "    crime_area_df = crime_area_df[[\"Longitude\",\"Latitude\",\"Time\"]]\n",
    "    crime_area_df = crime_area_df.dropna()\n",
    "    date_list = list(crime_area_df[\"Time\"].unique())\n",
    "    \n",
    "   \n",
    "    lat_long_list = []\n",
    "    for i in date_list:\n",
    "        temp=[]\n",
    "        for index,instance in crime_area_df[crime_area_df['Time'] == i].iterrows():\n",
    "            temp.append([instance['Latitude'],instance['Longitude']])\n",
    "        lat_long_list.append(temp)\n",
    "    \n",
    "    map_centre = (statistics.mean(crime_area_df['Latitude'].tolist()),statistics.mean(crime_area_df['Longitude'].tolist()))\n",
    "    base_map = folium.Map(location=map_centre, zoom_start=10)\n",
    "    HeatMapWithTime(lat_long_list,auto_play=True,position='bottomright',min_opacity=0.1,index=date_index).add_to(base_map)\n",
    "    display(base_map)"
   ]
  },
  {
   "cell_type": "code",
   "execution_count": null,
   "id": "c2780665",
   "metadata": {},
   "outputs": [],
   "source": [
    "heat_map_time('drugs','north yorkshire')"
   ]
  },
  {
   "cell_type": "markdown",
   "id": "b053d0e5",
   "metadata": {},
   "source": [
    "# Methods for finding crime rates over time (using only West Yorkshire Data)"
   ]
  },
  {
   "cell_type": "markdown",
   "id": "6196e742",
   "metadata": {},
   "source": [
    "### Function for getting the population data in a usable format"
   ]
  },
  {
   "cell_type": "code",
   "execution_count": 8,
   "id": "0159d0fd",
   "metadata": {},
   "outputs": [],
   "source": [
    "### Lower layer Super Output Area population estimates is the dataset used\n",
    "def population_df():\n",
    "    population_df = pd.read_csv('/Users/andrewsmith/Desktop/Crime_Data_project/data/population_data/population_data.csv',low_memory=False)\n",
    "    population_df[\"All Ages\"] = population_df[\"All Ages\"].map(lambda x:x.replace(\",\",\"\"))\n",
    "    population_df[\"All Ages\"] = population_df[\"All Ages\"].map(lambda x:int(x))\n",
    "    return population_df"
   ]
  },
  {
   "cell_type": "markdown",
   "id": "d5d98f0f",
   "metadata": {},
   "source": [
    "### Function for getting the population of a given police region "
   ]
  },
  {
   "cell_type": "code",
   "execution_count": 9,
   "id": "437c9132",
   "metadata": {},
   "outputs": [],
   "source": [
    "### Crime in England and Wales: Police Force Area data tables is the dataset used\n",
    "def police_force_area_population(region):\n",
    "    police_force_area_df = pd.read_csv('/Users/andrewsmith/Desktop/Crime_Data_project/data/population_data/police_area_data_pops_only.csv')\n",
    "    police_force_area_df = police_force_area_df.drop([0,1]).reset_index(drop=True)\n",
    "    police_force_area_df.columns = [\"Area\",\"Population\"]\n",
    "    police_force_area_df[\"Population\"] = police_force_area_df[\"Population\"].map(lambda x:x.replace(\"\\t\",\"\"))\n",
    "    police_force_area_df[\"Population\"] = police_force_area_df[\"Population\"].map(lambda x:x.replace(\",\",\"\"))\n",
    "    police_force_area_df[\"Population\"] = police_force_area_df[\"Population\"].map(lambda x:int(x))\n",
    "    police_force_area_df[\"Area\"] = police_force_area_df[\"Area\"].map(lambda x:''.join([i for i in x if not i.isdigit()]))\n",
    "    police_force_area_df[\"Area\"] = police_force_area_df[\"Area\"].map(lambda x:x.lower())\n",
    "    return int(police_force_area_df[police_force_area_df[\"Area\"]==region][\"Population\"])\n"
   ]
  },
  {
   "cell_type": "code",
   "execution_count": null,
   "id": "6c751e47",
   "metadata": {},
   "outputs": [],
   "source": [
    "police_force_area_population('west yorkshire')"
   ]
  },
  {
   "cell_type": "markdown",
   "id": "69102503",
   "metadata": {},
   "source": [
    "### Modified function that creates an additional column as a unique crime identifer"
   ]
  },
  {
   "cell_type": "code",
   "execution_count": 10,
   "id": "f35cf069",
   "metadata": {},
   "outputs": [],
   "source": [
    "def create_unique_crime_identifier(area_df): \n",
    "    area_df[\"alt ID\"] = str((area_df[\"Latitude\"],area_df[\"Longitude\"]))+area_df[\"Crime type\"]\n",
    "    return area_df"
   ]
  },
  {
   "cell_type": "markdown",
   "id": "dbd1355e",
   "metadata": {},
   "source": [
    "### Modified function that creates an area data frame with alt ID duplicates removed and other crime removed"
   ]
  },
  {
   "cell_type": "code",
   "execution_count": 11,
   "id": "da5887d6",
   "metadata": {},
   "outputs": [],
   "source": [
    "def create_area_df_mod(area):\n",
    "    dfs = []\n",
    "    for file in find_area_files(area): \n",
    "        dfs.append(pd.read_csv(file))\n",
    "    area_df = pd.DataFrame()\n",
    "    for i in range(len(dfs)): \n",
    "        area_df = pd.concat([area_df,dfs[i]]) \n",
    "    area_df = create_unique_crime_identifier(area_df)\n",
    "    area_df.drop_duplicates(subset=['alt ID'])\n",
    "    area_df = area_df[area_df[\"Crime type\"] != \"Other crime\"]\n",
    "    return area_df"
   ]
  },
  {
   "cell_type": "code",
   "execution_count": 12,
   "id": "2b11a392",
   "metadata": {},
   "outputs": [],
   "source": [
    "def get_area_crime_count(area,crime):\n",
    "    area_df = create_area_df_mod(area)\n",
    "    crime_type_count_area = area_df[area_df[\"Crime type\"] == crime][[\"alt ID\",\"Month\"]].groupby(by = \"Month\").count()\n",
    "    return crime_type_count_area\n",
    "    "
   ]
  },
  {
   "cell_type": "markdown",
   "id": "988ab40c",
   "metadata": {},
   "source": [
    "### Function that allows user to input their town/city and returns a dataframe showing all crime for their town"
   ]
  },
  {
   "cell_type": "code",
   "execution_count": 13,
   "id": "7b984714",
   "metadata": {},
   "outputs": [],
   "source": [
    "def create_town_df(town):\n",
    "    west_york_df = create_area_df_mod('west yorkshire')\n",
    "    town_df = west_york_df[west_york_df['LSOA name'].astype(str).str.contains(town)]\n",
    "    return town_df"
   ]
  },
  {
   "cell_type": "markdown",
   "id": "4f4bb3c9",
   "metadata": {},
   "source": [
    "### Creating a function that outputs the total crime count for each crime type in a given month"
   ]
  },
  {
   "cell_type": "code",
   "execution_count": 14,
   "id": "f0841982",
   "metadata": {},
   "outputs": [],
   "source": [
    "def get_crime_count(town,crime):\n",
    "        town_df = create_town_df(town)\n",
    "        crime_type_count = town_df[town_df[\"Crime type\"] == crime][[\"alt ID\",\"Month\"]].groupby(by = \"Month\").count()\n",
    "        return crime_type_count\n",
    "    "
   ]
  },
  {
   "cell_type": "markdown",
   "id": "5bc8e65e",
   "metadata": {},
   "source": [
    "### Creating a function that outputs the population of a given town"
   ]
  },
  {
   "cell_type": "code",
   "execution_count": 15,
   "id": "5c786284",
   "metadata": {},
   "outputs": [],
   "source": [
    "def town_population_estimate(town): \n",
    "    pop_df = population_df()\n",
    "    town_population = pop_df[pop_df[\"LA name (2020 boundaries)\"] == town][\"All Ages\"].sum()\n",
    "    return town_population\n",
    "    "
   ]
  },
  {
   "cell_type": "code",
   "execution_count": null,
   "id": "88f64305",
   "metadata": {},
   "outputs": [],
   "source": [
    "town_population_estimate(\"Bradford\")"
   ]
  },
  {
   "cell_type": "markdown",
   "id": "d8201f71",
   "metadata": {},
   "source": [
    "### Creating a function that outputs the population crime rate for a user specified police area and crime"
   ]
  },
  {
   "cell_type": "code",
   "execution_count": 16,
   "id": "c5c15185",
   "metadata": {},
   "outputs": [],
   "source": [
    "def get_area_crime_rate(area,crime):\n",
    "    area_df = get_area_crime_count(area,crime)\n",
    "    area_pop = police_force_area_population(area)\n",
    "    return area_df[\"alt ID\"].map(lambda x: x/area_pop*1000)\n",
    "    "
   ]
  },
  {
   "cell_type": "markdown",
   "id": "780b0cf3",
   "metadata": {},
   "source": [
    "### Creating a function that outputs the population crime rate for a user specified crime and town"
   ]
  },
  {
   "cell_type": "code",
   "execution_count": 17,
   "id": "a8b4ce7e",
   "metadata": {},
   "outputs": [],
   "source": [
    "def get_crime_rate(town,crime):\n",
    "    town_df = get_crime_count(town,crime)\n",
    "    town_pop = town_population_estimate(town)\n",
    "    return town_df[\"alt ID\"].map(lambda x: x/town_pop*1000)\n",
    "   "
   ]
  },
  {
   "cell_type": "code",
   "execution_count": 18,
   "id": "314ef63e",
   "metadata": {},
   "outputs": [],
   "source": [
    "def plot_crime_rate(town,crime):\n",
    "    crime_rate = get_crime_rate(town,crime)\n",
    "    plt.figure(figsize=(15,5))\n",
    "    plt.xticks(rotation = 90)\n",
    "    plt.plot(crime_rate)\n",
    "    plt.show;\n"
   ]
  },
  {
   "cell_type": "code",
   "execution_count": 24,
   "id": "4bc342e1",
   "metadata": {},
   "outputs": [],
   "source": [
    "def plot_crime_rate_alt(town,crime):\n",
    "    crime_rate = get_crime_rate(town,crime)\n",
    "    area_crime_rate = get_area_crime_rate('west yorkshire',crime)\n",
    "    plt.figure(figsize=(18,5))\n",
    "    sns.set_theme(style=\"darkgrid\")\n",
    "    sns.lineplot(data=crime_rate,label=f'{town}')\n",
    "    sns.lineplot(data=area_crime_rate,label='West Yorkshire')\n",
    "    plt.ylabel(\"Crime Rate\")\n",
    "    plt.xlabel(\"\")\n",
    "    plt.xticks(rotation = 45)\n"
   ]
  },
  {
   "cell_type": "code",
   "execution_count": 49,
   "id": "a0ed0d6a",
   "metadata": {
    "scrolled": true
   },
   "outputs": [
    {
     "data": {
      "image/png": "[encoded data removed]",
      "text/plain": [
       "<Figure size 1296x360 with 1 Axes>"
      ]
     },
     "metadata": {},
     "output_type": "display_data"
    }
   ],
   "source": [
    "plot_crime_rate_alt(\"Leeds\",\"Bicycle theft\")"
   ]
  },
  {
   "cell_type": "code",
   "execution_count": null,
   "id": "ec20d23f",
   "metadata": {},
   "outputs": [],
   "source": [
    "plot_crime_rate_alt(\"Leeds\",\"Drugs\")"
   ]
  },
  {
   "cell_type": "markdown",
   "id": "9338fe3c",
   "metadata": {},
   "source": [
    "### Creating a function that outputs the crime rate for a user specified crime and towns"
   ]
  },
  {
   "cell_type": "code",
   "execution_count": null,
   "id": "a9e3e594",
   "metadata": {},
   "outputs": [],
   "source": [
    "def plot_crime_rate_comparison(town_1,town_2,crime):\n",
    "    crime_rate_1 = get_crime_rate(town_1,crime)\n",
    "    crime_rate_2 = get_crime_rate(town_2,crime)\n",
    "    plt.figure(figsize=(18,5))\n",
    "    sns.set_theme(style=\"darkgrid\")\n",
    "    sns.lineplot(data=crime_rate_1)\n",
    "    sns.lineplot(data=crime_rate_2)\n",
    "    plt.ylabel(\"Crime Rate\")\n",
    "    plt.xlabel(\"\")\n",
    "    plt.xticks(rotation = 45)"
   ]
  },
  {
   "cell_type": "code",
   "execution_count": null,
   "id": "2cd6ccbe",
   "metadata": {},
   "outputs": [],
   "source": [
    "plot_crime_rate_comparison(\"Leeds\",\"Bradford\",\"Bicycle theft\")"
   ]
  },
  {
   "cell_type": "markdown",
   "id": "7bcaa346",
   "metadata": {},
   "source": [
    "### Testing"
   ]
  },
  {
   "cell_type": "code",
   "execution_count": 35,
   "id": "2b8fc102",
   "metadata": {},
   "outputs": [],
   "source": [
    "area_df = create_area_df_mod('west yorkshire')"
   ]
  },
  {
   "cell_type": "code",
   "execution_count": 43,
   "id": "930cb88c",
   "metadata": {},
   "outputs": [],
   "source": [
    "area_df['LSOA name']=area_df['LSOA name'].map(lambda x:''.join([i for i in x if not i.isdigit()]))"
   ]
  },
  {
   "cell_type": "code",
   "execution_count": 45,
   "id": "bd6d2511",
   "metadata": {},
   "outputs": [],
   "source": [
    "area_df['LSOA name']=area_df['LSOA name'].map(lambda x:x[:-1])"
   ]
  },
  {
   "cell_type": "code",
   "execution_count": 47,
   "id": "a82ceaed",
   "metadata": {},
   "outputs": [
    {
     "data": {
      "text/plain": [
       "Leeds                        334917\n",
       "Bradford                     237856\n",
       "Kirklees                     150032\n",
       "Wakefield                    135111\n",
       "Calderdale                    78994\n",
       "na                            26155\n",
       "Harrogate                       148\n",
       "Selby                            76\n",
       "Oldham                           62\n",
       "Barnsley                         42\n",
       "County Durham                    38\n",
       "Craven                           28\n",
       "Hambleton                         9\n",
       "Doncaster                         5\n",
       "East Riding of Yorkshire          4\n",
       "Rossendale                        4\n",
       "York                              2\n",
       "Rochdale                          2\n",
       "Sheffield                         2\n",
       "Burnley                           1\n",
       "North Lincolnshire                1\n",
       "Richmondshire                     1\n",
       "Ryedale                           1\n",
       "Preston                           1\n",
       "Scarborough                       1\n",
       "Name: LSOA name, dtype: int64"
      ]
     },
     "execution_count": 47,
     "metadata": {},
     "output_type": "execute_result"
    }
   ],
   "source": [
    "area_df['LSOA name'].value_counts()"
   ]
  },
  {
   "cell_type": "code",
   "execution_count": null,
   "id": "12053681",
   "metadata": {},
   "outputs": [],
   "source": []
  }
 ],
 "metadata": {
  "kernelspec": {
   "display_name": "Python 3",
   "language": "python",
   "name": "python3"
  },
  "language_info": {
   "codemirror_mode": {
    "name": "ipython",
    "version": 3
   },
   "file_extension": ".py",
   "mimetype": "text/x-python",
   "name": "python",
   "nbconvert_exporter": "python",
   "pygments_lexer": "ipython3",
   "version": "3.8.6"
  }
 },
 "nbformat": 4,
 "nbformat_minor": 5
}
