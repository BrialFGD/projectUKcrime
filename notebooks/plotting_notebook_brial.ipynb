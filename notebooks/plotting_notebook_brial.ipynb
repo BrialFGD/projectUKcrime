{
 "cells": [
  {
   "cell_type": "code",
   "execution_count": 2,
   "id": "0a742160",
   "metadata": {},
   "outputs": [],
   "source": [
    "import pandas as pd"
   ]
  },
  {
   "cell_type": "code",
   "execution_count": 79,
   "id": "a4de1271",
   "metadata": {},
   "outputs": [],
   "source": [
    "lsoa_df_reduced = pd.read_pickle('../raw_data/lsoa_data.pkl')[['force','file_name']].drop_duplicates()"
   ]
  },
  {
   "cell_type": "code",
   "execution_count": 139,
   "id": "a700afcc",
   "metadata": {},
   "outputs": [
    {
     "data": {
      "text/html": [
       "<div>\n",
       "<style scoped>\n",
       "    .dataframe tbody tr th:only-of-type {\n",
       "        vertical-align: middle;\n",
       "    }\n",
       "\n",
       "    .dataframe tbody tr th {\n",
       "        vertical-align: top;\n",
       "    }\n",
       "\n",
       "    .dataframe thead th {\n",
       "        text-align: right;\n",
       "    }\n",
       "</style>\n",
       "<table border=\"1\" class=\"dataframe\">\n",
       "  <thead>\n",
       "    <tr style=\"text-align: right;\">\n",
       "      <th></th>\n",
       "      <th>level_0</th>\n",
       "      <th>index</th>\n",
       "      <th>force</th>\n",
       "      <th>file_name</th>\n",
       "    </tr>\n",
       "  </thead>\n",
       "  <tbody>\n",
       "    <tr>\n",
       "      <th>0</th>\n",
       "      <td>0</td>\n",
       "      <td>0</td>\n",
       "      <td>City of London Police</td>\n",
       "      <td>city_of_london_police</td>\n",
       "    </tr>\n",
       "    <tr>\n",
       "      <th>1</th>\n",
       "      <td>1</td>\n",
       "      <td>4</td>\n",
       "      <td>Metropolitan Police Service</td>\n",
       "      <td>metropolitan_police_service</td>\n",
       "    </tr>\n",
       "    <tr>\n",
       "      <th>2</th>\n",
       "      <td>2</td>\n",
       "      <td>4640</td>\n",
       "      <td>Greater Manchester Police</td>\n",
       "      <td>greater_manchester_police</td>\n",
       "    </tr>\n",
       "    <tr>\n",
       "      <th>3</th>\n",
       "      <td>3</td>\n",
       "      <td>6249</td>\n",
       "      <td>Merseyside Police</td>\n",
       "      <td>merseyside_police</td>\n",
       "    </tr>\n",
       "    <tr>\n",
       "      <th>4</th>\n",
       "      <td>4</td>\n",
       "      <td>7122</td>\n",
       "      <td>South Yorkshire Police</td>\n",
       "      <td>south_yorkshire_police</td>\n",
       "    </tr>\n",
       "  </tbody>\n",
       "</table>\n",
       "</div>"
      ],
      "text/plain": [
       "   level_0  index                        force                    file_name\n",
       "0        0      0        City of London Police        city_of_london_police\n",
       "1        1      4  Metropolitan Police Service  metropolitan_police_service\n",
       "2        2   4640    Greater Manchester Police    greater_manchester_police\n",
       "3        3   6249            Merseyside Police            merseyside_police\n",
       "4        4   7122       South Yorkshire Police       south_yorkshire_police"
      ]
     },
     "execution_count": 139,
     "metadata": {},
     "output_type": "execute_result"
    }
   ],
   "source": [
    "lsoa_df_reduced = lsoa_df_reduced.reset_index()\n",
    "lsoa_df_reduced.head()"
   ]
  },
  {
   "cell_type": "code",
   "execution_count": 145,
   "id": "4ea3bf36",
   "metadata": {},
   "outputs": [],
   "source": [
    "test1 = 'Greater Manchester Police'"
   ]
  },
  {
   "cell_type": "code",
   "execution_count": 146,
   "id": "7b480d0f",
   "metadata": {},
   "outputs": [],
   "source": [
    "index = lsoa_df[lsoa_df['force']==test1].index.values[0]"
   ]
  },
  {
   "cell_type": "code",
   "execution_count": 147,
   "id": "3f6a2294",
   "metadata": {},
   "outputs": [
    {
     "data": {
      "text/plain": [
       "4640"
      ]
     },
     "execution_count": 147,
     "metadata": {},
     "output_type": "execute_result"
    }
   ],
   "source": [
    "index"
   ]
  },
  {
   "cell_type": "code",
   "execution_count": 148,
   "id": "642f6529",
   "metadata": {},
   "outputs": [],
   "source": [
    "file_name = lsoa_df.iloc[index]['file_name']"
   ]
  },
  {
   "cell_type": "code",
   "execution_count": 149,
   "id": "1e77336d",
   "metadata": {},
   "outputs": [
    {
     "data": {
      "text/plain": [
       "'greater_manchester_police'"
      ]
     },
     "execution_count": 149,
     "metadata": {},
     "output_type": "execute_result"
    }
   ],
   "source": [
    "file_name"
   ]
  },
  {
   "cell_type": "code",
   "execution_count": 150,
   "id": "bb29b96a",
   "metadata": {},
   "outputs": [],
   "source": [
    "raw_data_filepath = '../raw_data/'"
   ]
  },
  {
   "cell_type": "code",
   "execution_count": 151,
   "id": "b08d29c1",
   "metadata": {},
   "outputs": [
    {
     "data": {
      "text/plain": [
       "'../raw_data/forces_pkl/greater_manchester_police.pkl'"
      ]
     },
     "execution_count": 151,
     "metadata": {},
     "output_type": "execute_result"
    }
   ],
   "source": [
    " area_path = raw_data_filepath+'forces_pkl/'+file_name+'.pkl'\n",
    " area_path   "
   ]
  },
  {
   "cell_type": "code",
   "execution_count": 152,
   "id": "06059786",
   "metadata": {},
   "outputs": [],
   "source": [
    "force_df1 = pd.read_pickle(area_path)"
   ]
  },
  {
   "cell_type": "code",
   "execution_count": 153,
   "id": "3de91088",
   "metadata": {},
   "outputs": [
    {
     "data": {
      "text/html": [
       "<div>\n",
       "<style scoped>\n",
       "    .dataframe tbody tr th:only-of-type {\n",
       "        vertical-align: middle;\n",
       "    }\n",
       "\n",
       "    .dataframe tbody tr th {\n",
       "        vertical-align: top;\n",
       "    }\n",
       "\n",
       "    .dataframe thead th {\n",
       "        text-align: right;\n",
       "    }\n",
       "</style>\n",
       "<table border=\"1\" class=\"dataframe\">\n",
       "  <thead>\n",
       "    <tr style=\"text-align: right;\">\n",
       "      <th></th>\n",
       "      <th>Month</th>\n",
       "      <th>Falls within</th>\n",
       "      <th>Longitude</th>\n",
       "      <th>Latitude</th>\n",
       "      <th>LSOA code</th>\n",
       "      <th>LSOA name</th>\n",
       "      <th>Crime type</th>\n",
       "      <th>Last outcome category</th>\n",
       "    </tr>\n",
       "  </thead>\n",
       "  <tbody>\n",
       "    <tr>\n",
       "      <th>0</th>\n",
       "      <td>2018-06</td>\n",
       "      <td>Greater Manchester Police</td>\n",
       "      <td>-2.432473</td>\n",
       "      <td>53.599681</td>\n",
       "      <td>E01004766</td>\n",
       "      <td>Bolton 005A</td>\n",
       "      <td>Anti-social behaviour</td>\n",
       "      <td>NaN</td>\n",
       "    </tr>\n",
       "    <tr>\n",
       "      <th>1</th>\n",
       "      <td>2018-06</td>\n",
       "      <td>Greater Manchester Police</td>\n",
       "      <td>-2.434820</td>\n",
       "      <td>53.600077</td>\n",
       "      <td>E01004766</td>\n",
       "      <td>Bolton 005A</td>\n",
       "      <td>Anti-social behaviour</td>\n",
       "      <td>NaN</td>\n",
       "    </tr>\n",
       "    <tr>\n",
       "      <th>2</th>\n",
       "      <td>2018-06</td>\n",
       "      <td>Greater Manchester Police</td>\n",
       "      <td>-2.444791</td>\n",
       "      <td>53.601343</td>\n",
       "      <td>E01004766</td>\n",
       "      <td>Bolton 005A</td>\n",
       "      <td>Bicycle theft</td>\n",
       "      <td>Investigation complete; no suspect identified</td>\n",
       "    </tr>\n",
       "    <tr>\n",
       "      <th>3</th>\n",
       "      <td>2018-06</td>\n",
       "      <td>Greater Manchester Police</td>\n",
       "      <td>-2.443144</td>\n",
       "      <td>53.598491</td>\n",
       "      <td>E01004766</td>\n",
       "      <td>Bolton 005A</td>\n",
       "      <td>Burglary</td>\n",
       "      <td>Unable to prosecute suspect</td>\n",
       "    </tr>\n",
       "    <tr>\n",
       "      <th>4</th>\n",
       "      <td>2018-06</td>\n",
       "      <td>Greater Manchester Police</td>\n",
       "      <td>-2.440893</td>\n",
       "      <td>53.598535</td>\n",
       "      <td>E01004766</td>\n",
       "      <td>Bolton 005A</td>\n",
       "      <td>Burglary</td>\n",
       "      <td>Investigation complete; no suspect identified</td>\n",
       "    </tr>\n",
       "  </tbody>\n",
       "</table>\n",
       "</div>"
      ],
      "text/plain": [
       "     Month               Falls within  Longitude   Latitude  LSOA code  \\\n",
       "0  2018-06  Greater Manchester Police  -2.432473  53.599681  E01004766   \n",
       "1  2018-06  Greater Manchester Police  -2.434820  53.600077  E01004766   \n",
       "2  2018-06  Greater Manchester Police  -2.444791  53.601343  E01004766   \n",
       "3  2018-06  Greater Manchester Police  -2.443144  53.598491  E01004766   \n",
       "4  2018-06  Greater Manchester Police  -2.440893  53.598535  E01004766   \n",
       "\n",
       "     LSOA name             Crime type  \\\n",
       "0  Bolton 005A  Anti-social behaviour   \n",
       "1  Bolton 005A  Anti-social behaviour   \n",
       "2  Bolton 005A          Bicycle theft   \n",
       "3  Bolton 005A               Burglary   \n",
       "4  Bolton 005A               Burglary   \n",
       "\n",
       "                           Last outcome category  \n",
       "0                                            NaN  \n",
       "1                                            NaN  \n",
       "2  Investigation complete; no suspect identified  \n",
       "3                    Unable to prosecute suspect  \n",
       "4  Investigation complete; no suspect identified  "
      ]
     },
     "execution_count": 153,
     "metadata": {},
     "output_type": "execute_result"
    }
   ],
   "source": [
    "force_df1.head()"
   ]
  },
  {
   "cell_type": "code",
   "execution_count": 29,
   "id": "3db90241",
   "metadata": {},
   "outputs": [],
   "source": [
    "crime_count_df = area_df.groupby(['Month']).agg({'LSOA name':'count'})"
   ]
  },
  {
   "cell_type": "code",
   "execution_count": 32,
   "id": "d5de18f9",
   "metadata": {},
   "outputs": [],
   "source": [
    "crime_count_df.columns = ['crime_count']"
   ]
  },
  {
   "cell_type": "code",
   "execution_count": 33,
   "id": "f4598683",
   "metadata": {},
   "outputs": [
    {
     "data": {
      "text/html": [
       "<div>\n",
       "<style scoped>\n",
       "    .dataframe tbody tr th:only-of-type {\n",
       "        vertical-align: middle;\n",
       "    }\n",
       "\n",
       "    .dataframe tbody tr th {\n",
       "        vertical-align: top;\n",
       "    }\n",
       "\n",
       "    .dataframe thead th {\n",
       "        text-align: right;\n",
       "    }\n",
       "</style>\n",
       "<table border=\"1\" class=\"dataframe\">\n",
       "  <thead>\n",
       "    <tr style=\"text-align: right;\">\n",
       "      <th></th>\n",
       "      <th>crime_count</th>\n",
       "    </tr>\n",
       "    <tr>\n",
       "      <th>Month</th>\n",
       "      <th></th>\n",
       "    </tr>\n",
       "  </thead>\n",
       "  <tbody>\n",
       "    <tr>\n",
       "      <th>2018-06</th>\n",
       "      <td>467</td>\n",
       "    </tr>\n",
       "    <tr>\n",
       "      <th>2018-07</th>\n",
       "      <td>334</td>\n",
       "    </tr>\n",
       "    <tr>\n",
       "      <th>2018-08</th>\n",
       "      <td>222</td>\n",
       "    </tr>\n",
       "    <tr>\n",
       "      <th>2018-09</th>\n",
       "      <td>237</td>\n",
       "    </tr>\n",
       "    <tr>\n",
       "      <th>2018-10</th>\n",
       "      <td>205</td>\n",
       "    </tr>\n",
       "  </tbody>\n",
       "</table>\n",
       "</div>"
      ],
      "text/plain": [
       "         crime_count\n",
       "Month               \n",
       "2018-06          467\n",
       "2018-07          334\n",
       "2018-08          222\n",
       "2018-09          237\n",
       "2018-10          205"
      ]
     },
     "execution_count": 33,
     "metadata": {},
     "output_type": "execute_result"
    }
   ],
   "source": [
    "crime_count_df.head()"
   ]
  },
  {
   "cell_type": "code",
   "execution_count": 154,
   "id": "2c635c74",
   "metadata": {},
   "outputs": [],
   "source": [
    "c_type = 'Burglary'"
   ]
  },
  {
   "cell_type": "code",
   "execution_count": 155,
   "id": "a2a9a0f0",
   "metadata": {},
   "outputs": [],
   "source": [
    "town = 'Bolton'"
   ]
  },
  {
   "cell_type": "code",
   "execution_count": 37,
   "id": "fe277a80",
   "metadata": {},
   "outputs": [],
   "source": [
    "area_df['city']=area_df['LSOA name'].apply(lambda x: x[:-5])"
   ]
  },
  {
   "cell_type": "code",
   "execution_count": 38,
   "id": "e6ff970c",
   "metadata": {},
   "outputs": [
    {
     "data": {
      "text/html": [
       "<div>\n",
       "<style scoped>\n",
       "    .dataframe tbody tr th:only-of-type {\n",
       "        vertical-align: middle;\n",
       "    }\n",
       "\n",
       "    .dataframe tbody tr th {\n",
       "        vertical-align: top;\n",
       "    }\n",
       "\n",
       "    .dataframe thead th {\n",
       "        text-align: right;\n",
       "    }\n",
       "</style>\n",
       "<table border=\"1\" class=\"dataframe\">\n",
       "  <thead>\n",
       "    <tr style=\"text-align: right;\">\n",
       "      <th></th>\n",
       "      <th>Month</th>\n",
       "      <th>Falls within</th>\n",
       "      <th>Longitude</th>\n",
       "      <th>Latitude</th>\n",
       "      <th>LSOA code</th>\n",
       "      <th>LSOA name</th>\n",
       "      <th>Crime type</th>\n",
       "      <th>Last outcome category</th>\n",
       "      <th>city</th>\n",
       "    </tr>\n",
       "  </thead>\n",
       "  <tbody>\n",
       "    <tr>\n",
       "      <th>0</th>\n",
       "      <td>2018-06</td>\n",
       "      <td>City of London Police</td>\n",
       "      <td>-0.095960</td>\n",
       "      <td>51.517534</td>\n",
       "      <td>E01000001</td>\n",
       "      <td>City of London 001A</td>\n",
       "      <td>Anti-social behaviour</td>\n",
       "      <td>NaN</td>\n",
       "      <td>City of London</td>\n",
       "    </tr>\n",
       "    <tr>\n",
       "      <th>1</th>\n",
       "      <td>2018-06</td>\n",
       "      <td>City of London Police</td>\n",
       "      <td>-0.095892</td>\n",
       "      <td>51.516391</td>\n",
       "      <td>E01000001</td>\n",
       "      <td>City of London 001A</td>\n",
       "      <td>Burglary</td>\n",
       "      <td>Unable to prosecute suspect</td>\n",
       "      <td>City of London</td>\n",
       "    </tr>\n",
       "    <tr>\n",
       "      <th>2</th>\n",
       "      <td>2018-06</td>\n",
       "      <td>City of London Police</td>\n",
       "      <td>-0.098642</td>\n",
       "      <td>51.517146</td>\n",
       "      <td>E01000001</td>\n",
       "      <td>City of London 001A</td>\n",
       "      <td>Burglary</td>\n",
       "      <td>Investigation complete; no suspect identified</td>\n",
       "      <td>City of London</td>\n",
       "    </tr>\n",
       "    <tr>\n",
       "      <th>3</th>\n",
       "      <td>2018-06</td>\n",
       "      <td>City of London Police</td>\n",
       "      <td>-0.098572</td>\n",
       "      <td>51.516767</td>\n",
       "      <td>E01000001</td>\n",
       "      <td>City of London 001A</td>\n",
       "      <td>Criminal damage and arson</td>\n",
       "      <td>Status update unavailable</td>\n",
       "      <td>City of London</td>\n",
       "    </tr>\n",
       "    <tr>\n",
       "      <th>4</th>\n",
       "      <td>2018-06</td>\n",
       "      <td>City of London Police</td>\n",
       "      <td>-0.097334</td>\n",
       "      <td>51.521567</td>\n",
       "      <td>E01000001</td>\n",
       "      <td>City of London 001A</td>\n",
       "      <td>Other theft</td>\n",
       "      <td>Investigation complete; no suspect identified</td>\n",
       "      <td>City of London</td>\n",
       "    </tr>\n",
       "  </tbody>\n",
       "</table>\n",
       "</div>"
      ],
      "text/plain": [
       "     Month           Falls within  Longitude   Latitude  LSOA code  \\\n",
       "0  2018-06  City of London Police  -0.095960  51.517534  E01000001   \n",
       "1  2018-06  City of London Police  -0.095892  51.516391  E01000001   \n",
       "2  2018-06  City of London Police  -0.098642  51.517146  E01000001   \n",
       "3  2018-06  City of London Police  -0.098572  51.516767  E01000001   \n",
       "4  2018-06  City of London Police  -0.097334  51.521567  E01000001   \n",
       "\n",
       "             LSOA name                 Crime type  \\\n",
       "0  City of London 001A      Anti-social behaviour   \n",
       "1  City of London 001A                   Burglary   \n",
       "2  City of London 001A                   Burglary   \n",
       "3  City of London 001A  Criminal damage and arson   \n",
       "4  City of London 001A                Other theft   \n",
       "\n",
       "                           Last outcome category            city  \n",
       "0                                            NaN  City of London  \n",
       "1                    Unable to prosecute suspect  City of London  \n",
       "2  Investigation complete; no suspect identified  City of London  \n",
       "3                      Status update unavailable  City of London  \n",
       "4  Investigation complete; no suspect identified  City of London  "
      ]
     },
     "execution_count": 38,
     "metadata": {},
     "output_type": "execute_result"
    }
   ],
   "source": [
    "area_df.head()"
   ]
  },
  {
   "cell_type": "code",
   "execution_count": 39,
   "id": "049c4f6c",
   "metadata": {},
   "outputs": [],
   "source": [
    "area_df = area_df.loc[area_df['Crime type'] == crime]"
   ]
  },
  {
   "cell_type": "code",
   "execution_count": 40,
   "id": "3d3bf8e9",
   "metadata": {},
   "outputs": [
    {
     "data": {
      "text/html": [
       "<div>\n",
       "<style scoped>\n",
       "    .dataframe tbody tr th:only-of-type {\n",
       "        vertical-align: middle;\n",
       "    }\n",
       "\n",
       "    .dataframe tbody tr th {\n",
       "        vertical-align: top;\n",
       "    }\n",
       "\n",
       "    .dataframe thead th {\n",
       "        text-align: right;\n",
       "    }\n",
       "</style>\n",
       "<table border=\"1\" class=\"dataframe\">\n",
       "  <thead>\n",
       "    <tr style=\"text-align: right;\">\n",
       "      <th></th>\n",
       "      <th>Month</th>\n",
       "      <th>Falls within</th>\n",
       "      <th>Longitude</th>\n",
       "      <th>Latitude</th>\n",
       "      <th>LSOA code</th>\n",
       "      <th>LSOA name</th>\n",
       "      <th>Crime type</th>\n",
       "      <th>Last outcome category</th>\n",
       "      <th>city</th>\n",
       "    </tr>\n",
       "  </thead>\n",
       "  <tbody>\n",
       "    <tr>\n",
       "      <th>1</th>\n",
       "      <td>2018-06</td>\n",
       "      <td>City of London Police</td>\n",
       "      <td>-0.095892</td>\n",
       "      <td>51.516391</td>\n",
       "      <td>E01000001</td>\n",
       "      <td>City of London 001A</td>\n",
       "      <td>Burglary</td>\n",
       "      <td>Unable to prosecute suspect</td>\n",
       "      <td>City of London</td>\n",
       "    </tr>\n",
       "    <tr>\n",
       "      <th>2</th>\n",
       "      <td>2018-06</td>\n",
       "      <td>City of London Police</td>\n",
       "      <td>-0.098642</td>\n",
       "      <td>51.517146</td>\n",
       "      <td>E01000001</td>\n",
       "      <td>City of London 001A</td>\n",
       "      <td>Burglary</td>\n",
       "      <td>Investigation complete; no suspect identified</td>\n",
       "      <td>City of London</td>\n",
       "    </tr>\n",
       "    <tr>\n",
       "      <th>51</th>\n",
       "      <td>2018-06</td>\n",
       "      <td>City of London Police</td>\n",
       "      <td>-0.074330</td>\n",
       "      <td>51.513647</td>\n",
       "      <td>E01000005</td>\n",
       "      <td>City of London 001E</td>\n",
       "      <td>Burglary</td>\n",
       "      <td>Investigation complete; no suspect identified</td>\n",
       "      <td>City of London</td>\n",
       "    </tr>\n",
       "    <tr>\n",
       "      <th>52</th>\n",
       "      <td>2018-06</td>\n",
       "      <td>City of London Police</td>\n",
       "      <td>-0.077596</td>\n",
       "      <td>51.515849</td>\n",
       "      <td>E01000005</td>\n",
       "      <td>City of London 001E</td>\n",
       "      <td>Burglary</td>\n",
       "      <td>Investigation complete; no suspect identified</td>\n",
       "      <td>City of London</td>\n",
       "    </tr>\n",
       "    <tr>\n",
       "      <th>53</th>\n",
       "      <td>2018-06</td>\n",
       "      <td>City of London Police</td>\n",
       "      <td>-0.076270</td>\n",
       "      <td>51.515504</td>\n",
       "      <td>E01000005</td>\n",
       "      <td>City of London 001E</td>\n",
       "      <td>Burglary</td>\n",
       "      <td>Investigation complete; no suspect identified</td>\n",
       "      <td>City of London</td>\n",
       "    </tr>\n",
       "  </tbody>\n",
       "</table>\n",
       "</div>"
      ],
      "text/plain": [
       "      Month           Falls within  Longitude   Latitude  LSOA code  \\\n",
       "1   2018-06  City of London Police  -0.095892  51.516391  E01000001   \n",
       "2   2018-06  City of London Police  -0.098642  51.517146  E01000001   \n",
       "51  2018-06  City of London Police  -0.074330  51.513647  E01000005   \n",
       "52  2018-06  City of London Police  -0.077596  51.515849  E01000005   \n",
       "53  2018-06  City of London Police  -0.076270  51.515504  E01000005   \n",
       "\n",
       "              LSOA name Crime type  \\\n",
       "1   City of London 001A   Burglary   \n",
       "2   City of London 001A   Burglary   \n",
       "51  City of London 001E   Burglary   \n",
       "52  City of London 001E   Burglary   \n",
       "53  City of London 001E   Burglary   \n",
       "\n",
       "                            Last outcome category            city  \n",
       "1                     Unable to prosecute suspect  City of London  \n",
       "2   Investigation complete; no suspect identified  City of London  \n",
       "51  Investigation complete; no suspect identified  City of London  \n",
       "52  Investigation complete; no suspect identified  City of London  \n",
       "53  Investigation complete; no suspect identified  City of London  "
      ]
     },
     "execution_count": 40,
     "metadata": {},
     "output_type": "execute_result"
    }
   ],
   "source": [
    "area_df.head()"
   ]
  },
  {
   "cell_type": "code",
   "execution_count": 41,
   "id": "932d7a96",
   "metadata": {},
   "outputs": [
    {
     "data": {
      "text/html": [
       "<div>\n",
       "<style scoped>\n",
       "    .dataframe tbody tr th:only-of-type {\n",
       "        vertical-align: middle;\n",
       "    }\n",
       "\n",
       "    .dataframe tbody tr th {\n",
       "        vertical-align: top;\n",
       "    }\n",
       "\n",
       "    .dataframe thead th {\n",
       "        text-align: right;\n",
       "    }\n",
       "</style>\n",
       "<table border=\"1\" class=\"dataframe\">\n",
       "  <thead>\n",
       "    <tr style=\"text-align: right;\">\n",
       "      <th></th>\n",
       "      <th>crime_count</th>\n",
       "    </tr>\n",
       "    <tr>\n",
       "      <th>Month</th>\n",
       "      <th></th>\n",
       "    </tr>\n",
       "  </thead>\n",
       "  <tbody>\n",
       "    <tr>\n",
       "      <th>2018-06</th>\n",
       "      <td>29</td>\n",
       "    </tr>\n",
       "    <tr>\n",
       "      <th>2018-07</th>\n",
       "      <td>16</td>\n",
       "    </tr>\n",
       "    <tr>\n",
       "      <th>2018-08</th>\n",
       "      <td>20</td>\n",
       "    </tr>\n",
       "    <tr>\n",
       "      <th>2018-09</th>\n",
       "      <td>4</td>\n",
       "    </tr>\n",
       "    <tr>\n",
       "      <th>2018-10</th>\n",
       "      <td>9</td>\n",
       "    </tr>\n",
       "  </tbody>\n",
       "</table>\n",
       "</div>"
      ],
      "text/plain": [
       "         crime_count\n",
       "Month               \n",
       "2018-06           29\n",
       "2018-07           16\n",
       "2018-08           20\n",
       "2018-09            4\n",
       "2018-10            9"
      ]
     },
     "execution_count": 41,
     "metadata": {},
     "output_type": "execute_result"
    }
   ],
   "source": [
    "crime_count_df = area_df.groupby(['Month']).agg({'LSOA name':'count'})\n",
    "crime_count_df.columns = ['crime_count']\n",
    "crime_count_df.head()"
   ]
  },
  {
   "cell_type": "code",
   "execution_count": 43,
   "id": "cef65f36",
   "metadata": {},
   "outputs": [
    {
     "data": {
      "text/html": [
       "<div>\n",
       "<style scoped>\n",
       "    .dataframe tbody tr th:only-of-type {\n",
       "        vertical-align: middle;\n",
       "    }\n",
       "\n",
       "    .dataframe tbody tr th {\n",
       "        vertical-align: top;\n",
       "    }\n",
       "\n",
       "    .dataframe thead th {\n",
       "        text-align: right;\n",
       "    }\n",
       "</style>\n",
       "<table border=\"1\" class=\"dataframe\">\n",
       "  <thead>\n",
       "    <tr style=\"text-align: right;\">\n",
       "      <th></th>\n",
       "      <th>Month</th>\n",
       "      <th>Falls within</th>\n",
       "      <th>Longitude</th>\n",
       "      <th>Latitude</th>\n",
       "      <th>LSOA code</th>\n",
       "      <th>LSOA name</th>\n",
       "      <th>Crime type</th>\n",
       "      <th>Last outcome category</th>\n",
       "      <th>city</th>\n",
       "    </tr>\n",
       "  </thead>\n",
       "  <tbody>\n",
       "    <tr>\n",
       "      <th>0</th>\n",
       "      <td>2018-06</td>\n",
       "      <td>City of London Police</td>\n",
       "      <td>-0.095960</td>\n",
       "      <td>51.517534</td>\n",
       "      <td>E01000001</td>\n",
       "      <td>City of London 001A</td>\n",
       "      <td>Anti-social behaviour</td>\n",
       "      <td>NaN</td>\n",
       "      <td>City of London</td>\n",
       "    </tr>\n",
       "    <tr>\n",
       "      <th>1</th>\n",
       "      <td>2018-06</td>\n",
       "      <td>City of London Police</td>\n",
       "      <td>-0.095892</td>\n",
       "      <td>51.516391</td>\n",
       "      <td>E01000001</td>\n",
       "      <td>City of London 001A</td>\n",
       "      <td>Burglary</td>\n",
       "      <td>Unable to prosecute suspect</td>\n",
       "      <td>City of London</td>\n",
       "    </tr>\n",
       "    <tr>\n",
       "      <th>2</th>\n",
       "      <td>2018-06</td>\n",
       "      <td>City of London Police</td>\n",
       "      <td>-0.098642</td>\n",
       "      <td>51.517146</td>\n",
       "      <td>E01000001</td>\n",
       "      <td>City of London 001A</td>\n",
       "      <td>Burglary</td>\n",
       "      <td>Investigation complete; no suspect identified</td>\n",
       "      <td>City of London</td>\n",
       "    </tr>\n",
       "    <tr>\n",
       "      <th>3</th>\n",
       "      <td>2018-06</td>\n",
       "      <td>City of London Police</td>\n",
       "      <td>-0.098572</td>\n",
       "      <td>51.516767</td>\n",
       "      <td>E01000001</td>\n",
       "      <td>City of London 001A</td>\n",
       "      <td>Criminal damage and arson</td>\n",
       "      <td>Status update unavailable</td>\n",
       "      <td>City of London</td>\n",
       "    </tr>\n",
       "    <tr>\n",
       "      <th>4</th>\n",
       "      <td>2018-06</td>\n",
       "      <td>City of London Police</td>\n",
       "      <td>-0.097334</td>\n",
       "      <td>51.521567</td>\n",
       "      <td>E01000001</td>\n",
       "      <td>City of London 001A</td>\n",
       "      <td>Other theft</td>\n",
       "      <td>Investigation complete; no suspect identified</td>\n",
       "      <td>City of London</td>\n",
       "    </tr>\n",
       "  </tbody>\n",
       "</table>\n",
       "</div>"
      ],
      "text/plain": [
       "     Month           Falls within  Longitude   Latitude  LSOA code  \\\n",
       "0  2018-06  City of London Police  -0.095960  51.517534  E01000001   \n",
       "1  2018-06  City of London Police  -0.095892  51.516391  E01000001   \n",
       "2  2018-06  City of London Police  -0.098642  51.517146  E01000001   \n",
       "3  2018-06  City of London Police  -0.098572  51.516767  E01000001   \n",
       "4  2018-06  City of London Police  -0.097334  51.521567  E01000001   \n",
       "\n",
       "             LSOA name                 Crime type  \\\n",
       "0  City of London 001A      Anti-social behaviour   \n",
       "1  City of London 001A                   Burglary   \n",
       "2  City of London 001A                   Burglary   \n",
       "3  City of London 001A  Criminal damage and arson   \n",
       "4  City of London 001A                Other theft   \n",
       "\n",
       "                           Last outcome category            city  \n",
       "0                                            NaN  City of London  \n",
       "1                    Unable to prosecute suspect  City of London  \n",
       "2  Investigation complete; no suspect identified  City of London  \n",
       "3                      Status update unavailable  City of London  \n",
       "4  Investigation complete; no suspect identified  City of London  "
      ]
     },
     "execution_count": 43,
     "metadata": {},
     "output_type": "execute_result"
    }
   ],
   "source": [
    "force_df['city']=force_df['LSOA name'].apply(lambda x: x[:-5])\n",
    "force_df.head()"
   ]
  },
  {
   "cell_type": "code",
   "execution_count": 108,
   "id": "b8d9c891",
   "metadata": {},
   "outputs": [],
   "source": [
    "def get_crime_count(force_df,city = None, crime = None):\n",
    "    if city != None:\n",
    "        force_df['city']=force_df['LSOA name'].apply(lambda x: x[:-5])\n",
    "        force_df = force_df.loc[force_df['city'] == city]\n",
    "    if crime != None:\n",
    "        force_df = force_df.loc[force_df['Crime type'] == crime]\n",
    "           \n",
    "    crime_count_df = force_df.groupby(['Month']).agg({'LSOA name':'count'})\n",
    "    crime_count_df.columns = ['crime_count']\n",
    "    return crime_count_df "
   ]
  },
  {
   "cell_type": "code",
   "execution_count": 157,
   "id": "6c0db3e9",
   "metadata": {},
   "outputs": [
    {
     "data": {
      "text/html": [
       "<div>\n",
       "<style scoped>\n",
       "    .dataframe tbody tr th:only-of-type {\n",
       "        vertical-align: middle;\n",
       "    }\n",
       "\n",
       "    .dataframe tbody tr th {\n",
       "        vertical-align: top;\n",
       "    }\n",
       "\n",
       "    .dataframe thead th {\n",
       "        text-align: right;\n",
       "    }\n",
       "</style>\n",
       "<table border=\"1\" class=\"dataframe\">\n",
       "  <thead>\n",
       "    <tr style=\"text-align: right;\">\n",
       "      <th></th>\n",
       "      <th>crime_count</th>\n",
       "    </tr>\n",
       "    <tr>\n",
       "      <th>Month</th>\n",
       "      <th></th>\n",
       "    </tr>\n",
       "  </thead>\n",
       "  <tbody>\n",
       "    <tr>\n",
       "      <th>2018-06</th>\n",
       "      <td>25232</td>\n",
       "    </tr>\n",
       "    <tr>\n",
       "      <th>2018-07</th>\n",
       "      <td>19267</td>\n",
       "    </tr>\n",
       "    <tr>\n",
       "      <th>2018-08</th>\n",
       "      <td>14688</td>\n",
       "    </tr>\n",
       "    <tr>\n",
       "      <th>2018-09</th>\n",
       "      <td>12389</td>\n",
       "    </tr>\n",
       "    <tr>\n",
       "      <th>2018-10</th>\n",
       "      <td>11669</td>\n",
       "    </tr>\n",
       "  </tbody>\n",
       "</table>\n",
       "</div>"
      ],
      "text/plain": [
       "         crime_count\n",
       "Month               \n",
       "2018-06        25232\n",
       "2018-07        19267\n",
       "2018-08        14688\n",
       "2018-09        12389\n",
       "2018-10        11669"
      ]
     },
     "execution_count": 157,
     "metadata": {},
     "output_type": "execute_result"
    }
   ],
   "source": [
    "crime_count_df = get_crime_count(force_df1)\n",
    "crime_count_df.head()"
   ]
  },
  {
   "cell_type": "code",
   "execution_count": 158,
   "id": "33b9ea6d",
   "metadata": {},
   "outputs": [
    {
     "data": {
      "text/html": [
       "<div>\n",
       "<style scoped>\n",
       "    .dataframe tbody tr th:only-of-type {\n",
       "        vertical-align: middle;\n",
       "    }\n",
       "\n",
       "    .dataframe tbody tr th {\n",
       "        vertical-align: top;\n",
       "    }\n",
       "\n",
       "    .dataframe thead th {\n",
       "        text-align: right;\n",
       "    }\n",
       "</style>\n",
       "<table border=\"1\" class=\"dataframe\">\n",
       "  <thead>\n",
       "    <tr style=\"text-align: right;\">\n",
       "      <th></th>\n",
       "      <th>crime_count</th>\n",
       "    </tr>\n",
       "    <tr>\n",
       "      <th>Month</th>\n",
       "      <th></th>\n",
       "    </tr>\n",
       "  </thead>\n",
       "  <tbody>\n",
       "  </tbody>\n",
       "</table>\n",
       "</div>"
      ],
      "text/plain": [
       "Empty DataFrame\n",
       "Columns: [crime_count]\n",
       "Index: []"
      ]
     },
     "execution_count": 158,
     "metadata": {},
     "output_type": "execute_result"
    }
   ],
   "source": [
    "crime_count_df = get_crime_count(force_df, city = town)\n",
    "crime_count_df.head()"
   ]
  },
  {
   "cell_type": "code",
   "execution_count": 53,
   "id": "350f0b3d",
   "metadata": {},
   "outputs": [
    {
     "data": {
      "text/html": [
       "<div>\n",
       "<style scoped>\n",
       "    .dataframe tbody tr th:only-of-type {\n",
       "        vertical-align: middle;\n",
       "    }\n",
       "\n",
       "    .dataframe tbody tr th {\n",
       "        vertical-align: top;\n",
       "    }\n",
       "\n",
       "    .dataframe thead th {\n",
       "        text-align: right;\n",
       "    }\n",
       "</style>\n",
       "<table border=\"1\" class=\"dataframe\">\n",
       "  <thead>\n",
       "    <tr style=\"text-align: right;\">\n",
       "      <th></th>\n",
       "      <th>crime_count</th>\n",
       "    </tr>\n",
       "    <tr>\n",
       "      <th>Month</th>\n",
       "      <th></th>\n",
       "    </tr>\n",
       "  </thead>\n",
       "  <tbody>\n",
       "    <tr>\n",
       "      <th>2018-06</th>\n",
       "      <td>29</td>\n",
       "    </tr>\n",
       "    <tr>\n",
       "      <th>2018-07</th>\n",
       "      <td>16</td>\n",
       "    </tr>\n",
       "    <tr>\n",
       "      <th>2018-08</th>\n",
       "      <td>20</td>\n",
       "    </tr>\n",
       "    <tr>\n",
       "      <th>2018-09</th>\n",
       "      <td>4</td>\n",
       "    </tr>\n",
       "    <tr>\n",
       "      <th>2018-10</th>\n",
       "      <td>9</td>\n",
       "    </tr>\n",
       "  </tbody>\n",
       "</table>\n",
       "</div>"
      ],
      "text/plain": [
       "         crime_count\n",
       "Month               \n",
       "2018-06           29\n",
       "2018-07           16\n",
       "2018-08           20\n",
       "2018-09            4\n",
       "2018-10            9"
      ]
     },
     "execution_count": 53,
     "metadata": {},
     "output_type": "execute_result"
    }
   ],
   "source": [
    "crime_count_df = get_crime_count(force_df, crime = c_type)\n",
    "crime_count_df.head()"
   ]
  },
  {
   "cell_type": "code",
   "execution_count": 159,
   "id": "4ce7b996",
   "metadata": {},
   "outputs": [
    {
     "data": {
      "text/html": [
       "<div>\n",
       "<style scoped>\n",
       "    .dataframe tbody tr th:only-of-type {\n",
       "        vertical-align: middle;\n",
       "    }\n",
       "\n",
       "    .dataframe tbody tr th {\n",
       "        vertical-align: top;\n",
       "    }\n",
       "\n",
       "    .dataframe thead th {\n",
       "        text-align: right;\n",
       "    }\n",
       "</style>\n",
       "<table border=\"1\" class=\"dataframe\">\n",
       "  <thead>\n",
       "    <tr style=\"text-align: right;\">\n",
       "      <th></th>\n",
       "      <th>crime_count</th>\n",
       "    </tr>\n",
       "    <tr>\n",
       "      <th>Month</th>\n",
       "      <th></th>\n",
       "    </tr>\n",
       "  </thead>\n",
       "  <tbody>\n",
       "  </tbody>\n",
       "</table>\n",
       "</div>"
      ],
      "text/plain": [
       "Empty DataFrame\n",
       "Columns: [crime_count]\n",
       "Index: []"
      ]
     },
     "execution_count": 159,
     "metadata": {},
     "output_type": "execute_result"
    }
   ],
   "source": [
    "crime_count_df = get_crime_count(force_df, city = town, crime = c_type)\n",
    "crime_count_df.head()"
   ]
  },
  {
   "cell_type": "code",
   "execution_count": 160,
   "id": "257b09a9",
   "metadata": {},
   "outputs": [],
   "source": [
    "def get_lsoa_data():\n",
    "    lsoa_df = pd.read_pickle('../raw_data/lsoa_data.pkl')\n",
    "    return lsoa_df"
   ]
  },
  {
   "cell_type": "code",
   "execution_count": 98,
   "id": "20f0096d",
   "metadata": {},
   "outputs": [],
   "source": [
    "lsoa_df =get_lsoa_data()\n",
    "lsoa_df['pop']=lsoa_df['pop'].apply(lambda x: int(x.replace(\",\",\"\")))\n",
    "lsoa_df['lon']=lsoa_df['lon'].apply(lambda x: float(x))\n",
    "lsoa_df['lat']=lsoa_df['lat'].apply(lambda x: float(x))"
   ]
  },
  {
   "cell_type": "code",
   "execution_count": 101,
   "id": "7d3fb149",
   "metadata": {},
   "outputs": [],
   "source": [
    "lsoa_df.to_pickle('../raw_data/lsoa_data.pkl')"
   ]
  },
  {
   "cell_type": "code",
   "execution_count": 104,
   "id": "486030b0",
   "metadata": {},
   "outputs": [],
   "source": [
    "lsoa_df.to_csv('../raw_data/lsoa_data.csv')"
   ]
  },
  {
   "cell_type": "code",
   "execution_count": 161,
   "id": "3d957b6c",
   "metadata": {},
   "outputs": [],
   "source": [
    "def get_population(force, city = None):\n",
    "    lsoa_df = get_lsoa_data()\n",
    "    lsoa_df = lsoa_df.loc[lsoa_df['force'] == force]\n",
    "    if city != None:\n",
    "        lsoa_df = lsoa_df.loc[lsoa_df['city'] == city]\n",
    "    \n",
    "    return lsoa_df['pop'].sum()"
   ]
  },
  {
   "cell_type": "code",
   "execution_count": 162,
   "id": "8177b645",
   "metadata": {},
   "outputs": [
    {
     "data": {
      "text/plain": [
       "1409020"
      ]
     },
     "execution_count": 162,
     "metadata": {},
     "output_type": "execute_result"
    }
   ],
   "source": [
    "pop = get_population(test)\n",
    "pop"
   ]
  },
  {
   "cell_type": "code",
   "execution_count": 105,
   "id": "f6af5b91",
   "metadata": {},
   "outputs": [
    {
     "data": {
      "text/plain": [
       "584853"
      ]
     },
     "execution_count": 105,
     "metadata": {},
     "output_type": "execute_result"
    }
   ],
   "source": [
    "pop1 = get_population(test,'Sheffield')\n",
    "pop1"
   ]
  },
  {
   "cell_type": "code",
   "execution_count": 129,
   "id": "562bf471",
   "metadata": {},
   "outputs": [
    {
     "data": {
      "text/html": [
       "<div>\n",
       "<style scoped>\n",
       "    .dataframe tbody tr th:only-of-type {\n",
       "        vertical-align: middle;\n",
       "    }\n",
       "\n",
       "    .dataframe tbody tr th {\n",
       "        vertical-align: top;\n",
       "    }\n",
       "\n",
       "    .dataframe thead th {\n",
       "        text-align: right;\n",
       "    }\n",
       "</style>\n",
       "<table border=\"1\" class=\"dataframe\">\n",
       "  <thead>\n",
       "    <tr style=\"text-align: right;\">\n",
       "      <th></th>\n",
       "      <th>crime_count</th>\n",
       "    </tr>\n",
       "    <tr>\n",
       "      <th>Month</th>\n",
       "      <th></th>\n",
       "    </tr>\n",
       "  </thead>\n",
       "  <tbody>\n",
       "    <tr>\n",
       "      <th>2018-06</th>\n",
       "      <td>59906</td>\n",
       "    </tr>\n",
       "    <tr>\n",
       "      <th>2018-07</th>\n",
       "      <td>44459</td>\n",
       "    </tr>\n",
       "    <tr>\n",
       "      <th>2018-08</th>\n",
       "      <td>33053</td>\n",
       "    </tr>\n",
       "    <tr>\n",
       "      <th>2018-09</th>\n",
       "      <td>27771</td>\n",
       "    </tr>\n",
       "    <tr>\n",
       "      <th>2018-10</th>\n",
       "      <td>26054</td>\n",
       "    </tr>\n",
       "  </tbody>\n",
       "</table>\n",
       "</div>"
      ],
      "text/plain": [
       "         crime_count\n",
       "Month               \n",
       "2018-06        59906\n",
       "2018-07        44459\n",
       "2018-08        33053\n",
       "2018-09        27771\n",
       "2018-10        26054"
      ]
     },
     "execution_count": 129,
     "metadata": {},
     "output_type": "execute_result"
    }
   ],
   "source": [
    "crime_count_df1 = get_crime_count(force_df1)\n",
    "crime_count_df1.head()"
   ]
  },
  {
   "cell_type": "code",
   "execution_count": 120,
   "id": "54ce603b",
   "metadata": {},
   "outputs": [],
   "source": [
    "def get_crime_rate(force,force_df,city = None, crime = None):\n",
    "    crime_count_df = get_crime_count(force_df = force_df,city = city, crime = crime)\n",
    "    population = get_population(force = force, city = city)\n",
    "    crime_count_df['crime_rate']=crime_count_df['crime_count'].apply(lambda x: round(x/population*1000,2))\n",
    "    return crime_count_df"
   ]
  },
  {
   "cell_type": "code",
   "execution_count": 127,
   "id": "811caa1e",
   "metadata": {},
   "outputs": [
    {
     "data": {
      "text/html": [
       "<div>\n",
       "<style scoped>\n",
       "    .dataframe tbody tr th:only-of-type {\n",
       "        vertical-align: middle;\n",
       "    }\n",
       "\n",
       "    .dataframe tbody tr th {\n",
       "        vertical-align: top;\n",
       "    }\n",
       "\n",
       "    .dataframe thead th {\n",
       "        text-align: right;\n",
       "    }\n",
       "</style>\n",
       "<table border=\"1\" class=\"dataframe\">\n",
       "  <thead>\n",
       "    <tr style=\"text-align: right;\">\n",
       "      <th></th>\n",
       "      <th>crime_count</th>\n",
       "      <th>crime_rate</th>\n",
       "    </tr>\n",
       "    <tr>\n",
       "      <th>Month</th>\n",
       "      <th></th>\n",
       "      <th></th>\n",
       "    </tr>\n",
       "  </thead>\n",
       "  <tbody>\n",
       "    <tr>\n",
       "      <th>2018-06</th>\n",
       "      <td>59906</td>\n",
       "      <td>42.52</td>\n",
       "    </tr>\n",
       "    <tr>\n",
       "      <th>2018-07</th>\n",
       "      <td>44459</td>\n",
       "      <td>31.55</td>\n",
       "    </tr>\n",
       "    <tr>\n",
       "      <th>2018-08</th>\n",
       "      <td>33053</td>\n",
       "      <td>23.46</td>\n",
       "    </tr>\n",
       "    <tr>\n",
       "      <th>2018-09</th>\n",
       "      <td>27771</td>\n",
       "      <td>19.71</td>\n",
       "    </tr>\n",
       "    <tr>\n",
       "      <th>2018-10</th>\n",
       "      <td>26054</td>\n",
       "      <td>18.49</td>\n",
       "    </tr>\n",
       "  </tbody>\n",
       "</table>\n",
       "</div>"
      ],
      "text/plain": [
       "         crime_count  crime_rate\n",
       "Month                           \n",
       "2018-06        59906       42.52\n",
       "2018-07        44459       31.55\n",
       "2018-08        33053       23.46\n",
       "2018-09        27771       19.71\n",
       "2018-10        26054       18.49"
      ]
     },
     "execution_count": 127,
     "metadata": {},
     "output_type": "execute_result"
    }
   ],
   "source": [
    "crime_count_df1 = get_crime_rate(force1,force_df1)\n",
    "crime_count_df1.head()"
   ]
  },
  {
   "cell_type": "code",
   "execution_count": 124,
   "id": "c38790cb",
   "metadata": {},
   "outputs": [],
   "source": [
    "import matplotlib.pyplot as plt"
   ]
  },
  {
   "cell_type": "code",
   "execution_count": 128,
   "id": "e7c0872a",
   "metadata": {},
   "outputs": [
    {
     "data": {
      "text/plain": [
       "<AxesSubplot:xlabel='Month'>"
      ]
     },
     "execution_count": 128,
     "metadata": {},
     "output_type": "execute_result"
    },
    {
     "data": {
      "image/png": "[encoded data removed]",
      "text/plain": [
       "<Figure size 432x288 with 1 Axes>"
      ]
     },
     "metadata": {
      "needs_background": "light"
     },
     "output_type": "display_data"
    }
   ],
   "source": [
    "crime_count_df1['crime_rate'].plot()"
   ]
  },
  {
   "cell_type": "code",
   "execution_count": 163,
   "id": "636bb3f8",
   "metadata": {},
   "outputs": [],
   "source": [
    "test1 = 'Greater Manchester Police'\n",
    "c_type1 = 'Burglary'\n",
    "town1 = 'Bolton'"
   ]
  },
  {
   "cell_type": "code",
   "execution_count": 164,
   "id": "7d5dc881",
   "metadata": {},
   "outputs": [],
   "source": [
    "def create_area_df(force):\n",
    "    lsoa_df = get_lsoa_data()\n",
    "    lsoa_df = lsoa_df[['force','file_name']].drop_duplicates()\n",
    "    lsoa_df = lsoa_df.reset_index()\n",
    "    indx = lsoa_df[lsoa_df['force']==force].index.values[0]\n",
    "    file_name = lsoa_df.iloc[indx]['file_name']\n",
    "    area_path = raw_data_filepath+file_name+'.pkl'\n",
    "    area_df = pd.read_pickle(area_path)\n",
    "    return area_df"
   ]
  },
  {
   "cell_type": "code",
   "execution_count": 166,
   "id": "7cfcd1ab",
   "metadata": {},
   "outputs": [
    {
     "data": {
      "text/html": [
       "<div>\n",
       "<style scoped>\n",
       "    .dataframe tbody tr th:only-of-type {\n",
       "        vertical-align: middle;\n",
       "    }\n",
       "\n",
       "    .dataframe tbody tr th {\n",
       "        vertical-align: top;\n",
       "    }\n",
       "\n",
       "    .dataframe thead th {\n",
       "        text-align: right;\n",
       "    }\n",
       "</style>\n",
       "<table border=\"1\" class=\"dataframe\">\n",
       "  <thead>\n",
       "    <tr style=\"text-align: right;\">\n",
       "      <th></th>\n",
       "      <th>Month</th>\n",
       "      <th>Falls within</th>\n",
       "      <th>Longitude</th>\n",
       "      <th>Latitude</th>\n",
       "      <th>LSOA code</th>\n",
       "      <th>LSOA name</th>\n",
       "      <th>Crime type</th>\n",
       "      <th>Last outcome category</th>\n",
       "    </tr>\n",
       "  </thead>\n",
       "  <tbody>\n",
       "    <tr>\n",
       "      <th>0</th>\n",
       "      <td>2018-06</td>\n",
       "      <td>Greater Manchester Police</td>\n",
       "      <td>-2.432473</td>\n",
       "      <td>53.599681</td>\n",
       "      <td>E01004766</td>\n",
       "      <td>Bolton 005A</td>\n",
       "      <td>Anti-social behaviour</td>\n",
       "      <td>NaN</td>\n",
       "    </tr>\n",
       "    <tr>\n",
       "      <th>1</th>\n",
       "      <td>2018-06</td>\n",
       "      <td>Greater Manchester Police</td>\n",
       "      <td>-2.434820</td>\n",
       "      <td>53.600077</td>\n",
       "      <td>E01004766</td>\n",
       "      <td>Bolton 005A</td>\n",
       "      <td>Anti-social behaviour</td>\n",
       "      <td>NaN</td>\n",
       "    </tr>\n",
       "    <tr>\n",
       "      <th>2</th>\n",
       "      <td>2018-06</td>\n",
       "      <td>Greater Manchester Police</td>\n",
       "      <td>-2.444791</td>\n",
       "      <td>53.601343</td>\n",
       "      <td>E01004766</td>\n",
       "      <td>Bolton 005A</td>\n",
       "      <td>Bicycle theft</td>\n",
       "      <td>Investigation complete; no suspect identified</td>\n",
       "    </tr>\n",
       "    <tr>\n",
       "      <th>3</th>\n",
       "      <td>2018-06</td>\n",
       "      <td>Greater Manchester Police</td>\n",
       "      <td>-2.443144</td>\n",
       "      <td>53.598491</td>\n",
       "      <td>E01004766</td>\n",
       "      <td>Bolton 005A</td>\n",
       "      <td>Burglary</td>\n",
       "      <td>Unable to prosecute suspect</td>\n",
       "    </tr>\n",
       "    <tr>\n",
       "      <th>4</th>\n",
       "      <td>2018-06</td>\n",
       "      <td>Greater Manchester Police</td>\n",
       "      <td>-2.440893</td>\n",
       "      <td>53.598535</td>\n",
       "      <td>E01004766</td>\n",
       "      <td>Bolton 005A</td>\n",
       "      <td>Burglary</td>\n",
       "      <td>Investigation complete; no suspect identified</td>\n",
       "    </tr>\n",
       "  </tbody>\n",
       "</table>\n",
       "</div>"
      ],
      "text/plain": [
       "     Month               Falls within  Longitude   Latitude  LSOA code  \\\n",
       "0  2018-06  Greater Manchester Police  -2.432473  53.599681  E01004766   \n",
       "1  2018-06  Greater Manchester Police  -2.434820  53.600077  E01004766   \n",
       "2  2018-06  Greater Manchester Police  -2.444791  53.601343  E01004766   \n",
       "3  2018-06  Greater Manchester Police  -2.443144  53.598491  E01004766   \n",
       "4  2018-06  Greater Manchester Police  -2.440893  53.598535  E01004766   \n",
       "\n",
       "     LSOA name             Crime type  \\\n",
       "0  Bolton 005A  Anti-social behaviour   \n",
       "1  Bolton 005A  Anti-social behaviour   \n",
       "2  Bolton 005A          Bicycle theft   \n",
       "3  Bolton 005A               Burglary   \n",
       "4  Bolton 005A               Burglary   \n",
       "\n",
       "                           Last outcome category  \n",
       "0                                            NaN  \n",
       "1                                            NaN  \n",
       "2  Investigation complete; no suspect identified  \n",
       "3                    Unable to prosecute suspect  \n",
       "4  Investigation complete; no suspect identified  "
      ]
     },
     "execution_count": 166,
     "metadata": {},
     "output_type": "execute_result"
    }
   ],
   "source": [
    "greater_man_df = create_area_df(test1)\n",
    "greater_man_df.head()"
   ]
  },
  {
   "cell_type": "code",
   "execution_count": 169,
   "id": "b70d3931",
   "metadata": {},
   "outputs": [
    {
     "data": {
      "text/plain": [
       "2018-06    25232\n",
       "2018-07    19267\n",
       "2018-08    14688\n",
       "2018-09    12389\n",
       "2018-10    11669\n",
       "2018-11    10371\n",
       "2018-12     8976\n",
       "2019-01     8637\n",
       "2019-03     7997\n",
       "2019-02     7579\n",
       "2019-04     7274\n",
       "2019-05     7037\n",
       "2019-06     6153\n",
       "Name: Month, dtype: int64"
      ]
     },
     "execution_count": 169,
     "metadata": {},
     "output_type": "execute_result"
    }
   ],
   "source": [
    "greater_man_df['Month'].value_counts()"
   ]
  },
  {
   "cell_type": "code",
   "execution_count": 168,
   "id": "89c3c9be",
   "metadata": {},
   "outputs": [
    {
     "data": {
      "text/plain": [
       "<AxesSubplot:xlabel='Month'>"
      ]
     },
     "execution_count": 168,
     "metadata": {},
     "output_type": "execute_result"
    },
    {
     "data": {
      "image/png": "[encoded data removed]",
      "text/plain": [
       "<Figure size 432x288 with 1 Axes>"
      ]
     },
     "metadata": {
      "needs_background": "light"
     },
     "output_type": "display_data"
    }
   ],
   "source": [
    "greater_man_crimec_df = get_crime_count(greater_man_df,city = None, crime = None)\n",
    "greater_man_crimec_df.plot()"
   ]
  },
  {
   "cell_type": "code",
   "execution_count": 170,
   "id": "682d5632",
   "metadata": {},
   "outputs": [],
   "source": [
    "clean_police_df = pd.read_csv('../raw_data/cleaned_police_data.csv')"
   ]
  },
  {
   "cell_type": "code",
   "execution_count": 176,
   "id": "11af1cb5",
   "metadata": {},
   "outputs": [
    {
     "data": {
      "text/plain": [
       "<AxesSubplot:>"
      ]
     },
     "execution_count": 176,
     "metadata": {},
     "output_type": "execute_result"
    },
    {
     "data": {
      "image/png": "[encoded data removed]",
      "text/plain": [
       "<Figure size 432x288 with 1 Axes>"
      ]
     },
     "metadata": {
      "needs_background": "light"
     },
     "output_type": "display_data"
    }
   ],
   "source": [
    "clean_police_df['Month'].value_counts().plot()"
   ]
  },
  {
   "cell_type": "code",
   "execution_count": 172,
   "id": "d0225434",
   "metadata": {},
   "outputs": [],
   "source": [
    "merged_df = pd.read_csv('../raw_data/merged.csv')"
   ]
  },
  {
   "cell_type": "code",
   "execution_count": 173,
   "id": "9380d226",
   "metadata": {},
   "outputs": [
    {
     "data": {
      "text/plain": [
       "2018-07    621007\n",
       "2018-06    588297\n",
       "2018-10    582863\n",
       "2018-08    580738\n",
       "2019-07    580514\n",
       "2019-05    578733\n",
       "2020-05    574356\n",
       "2019-03    573744\n",
       "2020-08    573204\n",
       "2019-06    571709\n",
       "2020-07    569649\n",
       "2019-04    560115\n",
       "2020-06    553173\n",
       "2019-08    551373\n",
       "2018-11    548314\n",
       "2018-09    547809\n",
       "2019-10    546455\n",
       "2020-10    540937\n",
       "2020-09    537117\n",
       "2021-03    532171\n",
       "2019-01    531279\n",
       "2020-04    530169\n",
       "2019-09    520832\n",
       "2020-01    515878\n",
       "2019-11    513156\n",
       "2018-12    512189\n",
       "2020-11    509881\n",
       "2019-02    509369\n",
       "2021-05    505779\n",
       "2020-03    495307\n",
       "2021-04    491377\n",
       "2020-02    490071\n",
       "2019-12    487767\n",
       "2020-12    469974\n",
       "2021-01    461151\n",
       "2021-02    444261\n",
       "Name: Month, dtype: int64"
      ]
     },
     "execution_count": 173,
     "metadata": {},
     "output_type": "execute_result"
    }
   ],
   "source": [
    "merged_df['Month'].value_counts()"
   ]
  },
  {
   "cell_type": "code",
   "execution_count": 174,
   "id": "3b8342aa",
   "metadata": {},
   "outputs": [
    {
     "data": {
      "text/html": [
       "<div>\n",
       "<style scoped>\n",
       "    .dataframe tbody tr th:only-of-type {\n",
       "        vertical-align: middle;\n",
       "    }\n",
       "\n",
       "    .dataframe tbody tr th {\n",
       "        vertical-align: top;\n",
       "    }\n",
       "\n",
       "    .dataframe thead th {\n",
       "        text-align: right;\n",
       "    }\n",
       "</style>\n",
       "<table border=\"1\" class=\"dataframe\">\n",
       "  <thead>\n",
       "    <tr style=\"text-align: right;\">\n",
       "      <th></th>\n",
       "      <th>Unnamed: 0</th>\n",
       "      <th>Crime ID</th>\n",
       "      <th>Month</th>\n",
       "      <th>Reported by</th>\n",
       "      <th>Falls within</th>\n",
       "      <th>Longitude</th>\n",
       "      <th>Latitude</th>\n",
       "      <th>Location</th>\n",
       "      <th>LSOA code</th>\n",
       "      <th>LSOA name</th>\n",
       "      <th>Crime type</th>\n",
       "      <th>Last outcome category</th>\n",
       "      <th>Context</th>\n",
       "    </tr>\n",
       "  </thead>\n",
       "  <tbody>\n",
       "    <tr>\n",
       "      <th>0</th>\n",
       "      <td>0</td>\n",
       "      <td>c7000c41002f19263d4adec66b911f1c3f5e7eeb1302a3...</td>\n",
       "      <td>2020-01</td>\n",
       "      <td>West Yorkshire Police</td>\n",
       "      <td>West Yorkshire Police</td>\n",
       "      <td>-1.570572</td>\n",
       "      <td>53.607792</td>\n",
       "      <td>On or near Park/Open Space</td>\n",
       "      <td>E01007418</td>\n",
       "      <td>Barnsley 016A</td>\n",
       "      <td>Other theft</td>\n",
       "      <td>Status update unavailable</td>\n",
       "      <td>NaN</td>\n",
       "    </tr>\n",
       "    <tr>\n",
       "      <th>1</th>\n",
       "      <td>1</td>\n",
       "      <td>b8bc1b6cf423a9431734982fffb11f803cf82140702cc7...</td>\n",
       "      <td>2020-01</td>\n",
       "      <td>West Yorkshire Police</td>\n",
       "      <td>West Yorkshire Police</td>\n",
       "      <td>-1.670108</td>\n",
       "      <td>53.553629</td>\n",
       "      <td>On or near Huddersfield Road</td>\n",
       "      <td>E01007426</td>\n",
       "      <td>Barnsley 027D</td>\n",
       "      <td>Robbery</td>\n",
       "      <td>Investigation complete; no suspect identified</td>\n",
       "      <td>NaN</td>\n",
       "    </tr>\n",
       "    <tr>\n",
       "      <th>2</th>\n",
       "      <td>2</td>\n",
       "      <td>8c69cefea36edafe5fa3f992ccc31d3cfd0c9af9a81429...</td>\n",
       "      <td>2020-01</td>\n",
       "      <td>West Yorkshire Police</td>\n",
       "      <td>West Yorkshire Police</td>\n",
       "      <td>-1.879031</td>\n",
       "      <td>53.943807</td>\n",
       "      <td>On or near Cross End Fold</td>\n",
       "      <td>E01010646</td>\n",
       "      <td>Bradford 001A</td>\n",
       "      <td>Bicycle theft</td>\n",
       "      <td>Investigation complete; no suspect identified</td>\n",
       "      <td>NaN</td>\n",
       "    </tr>\n",
       "    <tr>\n",
       "      <th>3</th>\n",
       "      <td>3</td>\n",
       "      <td>7236a8fb307214df61ca7a9b93bd309c0524f9bee58d89...</td>\n",
       "      <td>2020-01</td>\n",
       "      <td>West Yorkshire Police</td>\n",
       "      <td>West Yorkshire Police</td>\n",
       "      <td>-1.882746</td>\n",
       "      <td>53.933807</td>\n",
       "      <td>On or near Cocking Lane</td>\n",
       "      <td>E01010646</td>\n",
       "      <td>Bradford 001A</td>\n",
       "      <td>Burglary</td>\n",
       "      <td>Investigation complete; no suspect identified</td>\n",
       "      <td>NaN</td>\n",
       "    </tr>\n",
       "    <tr>\n",
       "      <th>4</th>\n",
       "      <td>4</td>\n",
       "      <td>92803cebdfde14ad870899c45c6bee398331f33a053bf1...</td>\n",
       "      <td>2020-01</td>\n",
       "      <td>West Yorkshire Police</td>\n",
       "      <td>West Yorkshire Police</td>\n",
       "      <td>-1.881467</td>\n",
       "      <td>53.944510</td>\n",
       "      <td>On or near Kilners Croft</td>\n",
       "      <td>E01010646</td>\n",
       "      <td>Bradford 001A</td>\n",
       "      <td>Criminal damage and arson</td>\n",
       "      <td>Investigation complete; no suspect identified</td>\n",
       "      <td>NaN</td>\n",
       "    </tr>\n",
       "  </tbody>\n",
       "</table>\n",
       "</div>"
      ],
      "text/plain": [
       "   Unnamed: 0                                           Crime ID    Month  \\\n",
       "0           0  c7000c41002f19263d4adec66b911f1c3f5e7eeb1302a3...  2020-01   \n",
       "1           1  b8bc1b6cf423a9431734982fffb11f803cf82140702cc7...  2020-01   \n",
       "2           2  8c69cefea36edafe5fa3f992ccc31d3cfd0c9af9a81429...  2020-01   \n",
       "3           3  7236a8fb307214df61ca7a9b93bd309c0524f9bee58d89...  2020-01   \n",
       "4           4  92803cebdfde14ad870899c45c6bee398331f33a053bf1...  2020-01   \n",
       "\n",
       "             Reported by           Falls within  Longitude   Latitude  \\\n",
       "0  West Yorkshire Police  West Yorkshire Police  -1.570572  53.607792   \n",
       "1  West Yorkshire Police  West Yorkshire Police  -1.670108  53.553629   \n",
       "2  West Yorkshire Police  West Yorkshire Police  -1.879031  53.943807   \n",
       "3  West Yorkshire Police  West Yorkshire Police  -1.882746  53.933807   \n",
       "4  West Yorkshire Police  West Yorkshire Police  -1.881467  53.944510   \n",
       "\n",
       "                       Location  LSOA code      LSOA name  \\\n",
       "0    On or near Park/Open Space  E01007418  Barnsley 016A   \n",
       "1  On or near Huddersfield Road  E01007426  Barnsley 027D   \n",
       "2     On or near Cross End Fold  E01010646  Bradford 001A   \n",
       "3       On or near Cocking Lane  E01010646  Bradford 001A   \n",
       "4      On or near Kilners Croft  E01010646  Bradford 001A   \n",
       "\n",
       "                  Crime type                          Last outcome category  \\\n",
       "0                Other theft                      Status update unavailable   \n",
       "1                    Robbery  Investigation complete; no suspect identified   \n",
       "2              Bicycle theft  Investigation complete; no suspect identified   \n",
       "3                   Burglary  Investigation complete; no suspect identified   \n",
       "4  Criminal damage and arson  Investigation complete; no suspect identified   \n",
       "\n",
       "   Context  \n",
       "0      NaN  \n",
       "1      NaN  \n",
       "2      NaN  \n",
       "3      NaN  \n",
       "4      NaN  "
      ]
     },
     "execution_count": 174,
     "metadata": {},
     "output_type": "execute_result"
    }
   ],
   "source": [
    "merged_df.head()"
   ]
  },
  {
   "cell_type": "code",
   "execution_count": 177,
   "id": "d7c7073b",
   "metadata": {},
   "outputs": [
    {
     "data": {
      "text/plain": [
       "(19300718, 13)"
      ]
     },
     "execution_count": 177,
     "metadata": {},
     "output_type": "execute_result"
    }
   ],
   "source": [
    "merged_df.shape"
   ]
  },
  {
   "cell_type": "code",
   "execution_count": 216,
   "id": "66dd783a",
   "metadata": {},
   "outputs": [],
   "source": [
    "L = merged_df.iloc[:5000000][merged_df.iloc[:5000000].duplicated(subset='Crime ID')]"
   ]
  },
  {
   "cell_type": "code",
   "execution_count": 221,
   "id": "2a4948b9",
   "metadata": {},
   "outputs": [
    {
     "data": {
      "text/plain": [
       "Status update unavailable                              22887\n",
       "Investigation complete; no suspect identified           7841\n",
       "Court result unavailable                                1966\n",
       "Under investigation                                     1963\n",
       "Unable to prosecute suspect                             1125\n",
       "Awaiting court outcome                                   484\n",
       "Local resolution                                         302\n",
       "Offender given a caution                                 286\n",
       "Formal action is not in the public interest               51\n",
       "Offender given community sentence                         42\n",
       "Further investigation is not in the public interest       35\n",
       "Offender given penalty notice                             32\n",
       "Action to be taken by another organisation                28\n",
       "Offender sent to prison                                   23\n",
       "Defendant found not guilty                                22\n",
       "Court case unable to proceed                              17\n",
       "Offender fined                                            15\n",
       "Offender given conditional discharge                      14\n",
       "Offender given suspended prison sentence                  12\n",
       "Defendant sent to Crown Court                              7\n",
       "Further action is not in the public interest               7\n",
       "Offender deprived of property                              5\n",
       "Offender given a drugs possession warning                  4\n",
       "Offender ordered to pay compensation                       4\n",
       "Suspect charged as part of another case                    2\n",
       "Offender otherwise dealt with                              1\n",
       "Name: Last outcome category, dtype: int64"
      ]
     },
     "execution_count": 221,
     "metadata": {},
     "output_type": "execute_result"
    }
   ],
   "source": [
    "L['Last outcome category'].value_counts()"
   ]
  },
  {
   "cell_type": "code",
   "execution_count": 217,
   "id": "19b4fcad",
   "metadata": {},
   "outputs": [],
   "source": [
    "b = L[L['Crime type']=='Drugs']['Crime ID'].iloc[0]"
   ]
  },
  {
   "cell_type": "code",
   "execution_count": 218,
   "id": "f5f49acc",
   "metadata": {},
   "outputs": [
    {
     "data": {
      "text/plain": [
       "'d6d2235d9565990671e05a26cba42fa23c553b39ee477ab71563e0244aabdb1e'"
      ]
     },
     "execution_count": 218,
     "metadata": {},
     "output_type": "execute_result"
    }
   ],
   "source": [
    "b"
   ]
  },
  {
   "cell_type": "code",
   "execution_count": 219,
   "id": "e53532e1",
   "metadata": {},
   "outputs": [],
   "source": [
    "a = merged_df.iloc[100]['Crime ID']"
   ]
  },
  {
   "cell_type": "code",
   "execution_count": 220,
   "id": "bb4168d1",
   "metadata": {},
   "outputs": [
    {
     "data": {
      "text/html": [
       "<div>\n",
       "<style scoped>\n",
       "    .dataframe tbody tr th:only-of-type {\n",
       "        vertical-align: middle;\n",
       "    }\n",
       "\n",
       "    .dataframe tbody tr th {\n",
       "        vertical-align: top;\n",
       "    }\n",
       "\n",
       "    .dataframe thead th {\n",
       "        text-align: right;\n",
       "    }\n",
       "</style>\n",
       "<table border=\"1\" class=\"dataframe\">\n",
       "  <thead>\n",
       "    <tr style=\"text-align: right;\">\n",
       "      <th></th>\n",
       "      <th>Unnamed: 0</th>\n",
       "      <th>Crime ID</th>\n",
       "      <th>Month</th>\n",
       "      <th>Reported by</th>\n",
       "      <th>Falls within</th>\n",
       "      <th>Longitude</th>\n",
       "      <th>Latitude</th>\n",
       "      <th>Location</th>\n",
       "      <th>LSOA code</th>\n",
       "      <th>LSOA name</th>\n",
       "      <th>Crime type</th>\n",
       "      <th>Last outcome category</th>\n",
       "      <th>Context</th>\n",
       "    </tr>\n",
       "  </thead>\n",
       "  <tbody>\n",
       "    <tr>\n",
       "      <th>71280</th>\n",
       "      <td>71280</td>\n",
       "      <td>d6d2235d9565990671e05a26cba42fa23c553b39ee477a...</td>\n",
       "      <td>2020-01</td>\n",
       "      <td>North Yorkshire Police</td>\n",
       "      <td>North Yorkshire Police</td>\n",
       "      <td>-1.080932</td>\n",
       "      <td>53.957808</td>\n",
       "      <td>On or near Coppergate</td>\n",
       "      <td>E01033070</td>\n",
       "      <td>York 013I</td>\n",
       "      <td>Drugs</td>\n",
       "      <td>Unable to prosecute suspect</td>\n",
       "      <td>NaN</td>\n",
       "    </tr>\n",
       "    <tr>\n",
       "      <th>71281</th>\n",
       "      <td>71281</td>\n",
       "      <td>d6d2235d9565990671e05a26cba42fa23c553b39ee477a...</td>\n",
       "      <td>2020-01</td>\n",
       "      <td>North Yorkshire Police</td>\n",
       "      <td>North Yorkshire Police</td>\n",
       "      <td>-1.080932</td>\n",
       "      <td>53.957808</td>\n",
       "      <td>On or near Coppergate</td>\n",
       "      <td>E01033070</td>\n",
       "      <td>York 013I</td>\n",
       "      <td>Drugs</td>\n",
       "      <td>Status update unavailable</td>\n",
       "      <td>NaN</td>\n",
       "    </tr>\n",
       "  </tbody>\n",
       "</table>\n",
       "</div>"
      ],
      "text/plain": [
       "       Unnamed: 0                                           Crime ID    Month  \\\n",
       "71280       71280  d6d2235d9565990671e05a26cba42fa23c553b39ee477a...  2020-01   \n",
       "71281       71281  d6d2235d9565990671e05a26cba42fa23c553b39ee477a...  2020-01   \n",
       "\n",
       "                  Reported by            Falls within  Longitude   Latitude  \\\n",
       "71280  North Yorkshire Police  North Yorkshire Police  -1.080932  53.957808   \n",
       "71281  North Yorkshire Police  North Yorkshire Police  -1.080932  53.957808   \n",
       "\n",
       "                    Location  LSOA code  LSOA name Crime type  \\\n",
       "71280  On or near Coppergate  E01033070  York 013I      Drugs   \n",
       "71281  On or near Coppergate  E01033070  York 013I      Drugs   \n",
       "\n",
       "             Last outcome category  Context  \n",
       "71280  Unable to prosecute suspect      NaN  \n",
       "71281    Status update unavailable      NaN  "
      ]
     },
     "execution_count": 220,
     "metadata": {},
     "output_type": "execute_result"
    }
   ],
   "source": [
    "merged_df[merged_df['Crime ID']==b]"
   ]
  },
  {
   "cell_type": "code",
   "execution_count": 178,
   "id": "3ef5f75d",
   "metadata": {},
   "outputs": [],
   "source": [
    "merged_df2 = merged_df.drop(columns ='Month').drop_duplicates().shape"
   ]
  },
  {
   "cell_type": "code",
   "execution_count": 179,
   "id": "158c7b7b",
   "metadata": {},
   "outputs": [
    {
     "data": {
      "text/plain": [
       "(19300718, 12)"
      ]
     },
     "execution_count": 179,
     "metadata": {},
     "output_type": "execute_result"
    }
   ],
   "source": [
    "merged_df2"
   ]
  },
  {
   "cell_type": "code",
   "execution_count": 225,
   "id": "fb085974",
   "metadata": {},
   "outputs": [],
   "source": [
    "merged_df['Longitude']=merged_df['Longitude'].apply(lambda x: str(x))\n",
    "merged_df['Latitude']=merged_df['Latitude'].apply(lambda x: str(x))"
   ]
  },
  {
   "cell_type": "code",
   "execution_count": 236,
   "id": "af2c2295",
   "metadata": {},
   "outputs": [
    {
     "data": {
      "text/plain": [
       "861756"
      ]
     },
     "execution_count": 236,
     "metadata": {},
     "output_type": "execute_result"
    }
   ],
   "source": [
    "merged_df['LSOA code'].isna().sum()"
   ]
  },
  {
   "cell_type": "code",
   "execution_count": 237,
   "id": "6574a6f8",
   "metadata": {},
   "outputs": [
    {
     "data": {
      "text/plain": [
       "0"
      ]
     },
     "execution_count": 237,
     "metadata": {},
     "output_type": "execute_result"
    }
   ],
   "source": [
    "merged_df['Crime type'].isna().sum()"
   ]
  },
  {
   "cell_type": "code",
   "execution_count": 263,
   "id": "ee72526e",
   "metadata": {},
   "outputs": [],
   "source": [
    "crime_types = (merged_df['Crime type'].value_counts()).to_dict()"
   ]
  },
  {
   "cell_type": "code",
   "execution_count": 264,
   "id": "448ffba7",
   "metadata": {},
   "outputs": [
    {
     "data": {
      "text/plain": [
       "{'Violence and sexual offences': 0,\n",
       " 'Anti-social behaviour': 1,\n",
       " 'Criminal damage and arson': 2,\n",
       " 'Other theft': 3,\n",
       " 'Public order': 4,\n",
       " 'Vehicle crime': 5,\n",
       " 'Burglary': 6,\n",
       " 'Shoplifting': 7,\n",
       " 'Drugs': 8,\n",
       " 'Other crime': 9,\n",
       " 'Theft from the person': 10,\n",
       " 'Bicycle theft': 11,\n",
       " 'Robbery': 12,\n",
       " 'Possession of weapons': 13}"
      ]
     },
     "execution_count": 264,
     "metadata": {},
     "output_type": "execute_result"
    }
   ],
   "source": [
    "i=0\n",
    "for k in crime_types.keys():\n",
    "    crime_types[k] = i\n",
    "    i+=1\n",
    "crime_types"
   ]
  },
  {
   "cell_type": "code",
   "execution_count": 268,
   "id": "77302592",
   "metadata": {},
   "outputs": [
    {
     "data": {
      "text/plain": [
       "Violence and sexual offences     0\n",
       "Anti-social behaviour            1\n",
       "Criminal damage and arson        2\n",
       "Other theft                      3\n",
       "Public order                     4\n",
       "Vehicle crime                    5\n",
       "Burglary                         6\n",
       "Shoplifting                      7\n",
       "Drugs                            8\n",
       "Other crime                      9\n",
       "Theft from the person           10\n",
       "Bicycle theft                   11\n",
       "Robbery                         12\n",
       "Possession of weapons           13\n",
       "dtype: int64"
      ]
     },
     "execution_count": 268,
     "metadata": {},
     "output_type": "execute_result"
    }
   ],
   "source": [
    "crime_types_encode = pd.Series(crime_types)\n",
    "crime_types_encode"
   ]
  },
  {
   "cell_type": "code",
   "execution_count": 253,
   "id": "8d8bf433",
   "metadata": {},
   "outputs": [
    {
     "data": {
      "text/plain": [
       "{'Investigation complete; no suspect identified': 5408135,\n",
       " 'Unable to prosecute suspect': 4275155,\n",
       " 'Status update unavailable': 1997591,\n",
       " 'Court result unavailable': 696309,\n",
       " 'Under investigation': 541696,\n",
       " 'Local resolution': 320438,\n",
       " 'Awaiting court outcome': 181913,\n",
       " 'Offender given a caution': 165297,\n",
       " 'Further investigation is not in the public interest': 151122,\n",
       " 'Action to be taken by another organisation': 138642,\n",
       " 'Formal action is not in the public interest': 99018,\n",
       " 'Offender given a drugs possession warning': 46928,\n",
       " 'Offender sent to prison': 36506,\n",
       " 'Offender given penalty notice': 33380,\n",
       " 'Offender given community sentence': 33316,\n",
       " 'Further action is not in the public interest': 23768,\n",
       " 'Offender fined': 18716,\n",
       " 'Defendant found not guilty': 16788,\n",
       " 'Offender given suspended prison sentence': 12554,\n",
       " 'Court case unable to proceed': 11722,\n",
       " 'Offender given conditional discharge': 11620,\n",
       " 'Suspect charged as part of another case': 10700,\n",
       " 'Offender otherwise dealt with': 3989,\n",
       " 'Offender ordered to pay compensation': 3463,\n",
       " 'Defendant sent to Crown Court': 1492,\n",
       " 'Offender deprived of property': 1386,\n",
       " 'Offender given absolute discharge': 290}"
      ]
     },
     "execution_count": 253,
     "metadata": {},
     "output_type": "execute_result"
    }
   ],
   "source": [
    "outcome_categories = (merged_df['Last outcome category'].value_counts()).to_dict()\n",
    "outcome_categories"
   ]
  },
  {
   "cell_type": "code",
   "execution_count": 244,
   "id": "c611bdc4",
   "metadata": {},
   "outputs": [
    {
     "data": {
      "text/plain": [
       "27"
      ]
     },
     "execution_count": 244,
     "metadata": {},
     "output_type": "execute_result"
    }
   ],
   "source": [
    "len(outcome_categories)"
   ]
  },
  {
   "cell_type": "code",
   "execution_count": 254,
   "id": "a27e8e8c",
   "metadata": {},
   "outputs": [
    {
     "data": {
      "text/plain": [
       "{'Investigation complete; no suspect identified': 0,\n",
       " 'Unable to prosecute suspect': 1,\n",
       " 'Status update unavailable': 2,\n",
       " 'Court result unavailable': 3,\n",
       " 'Under investigation': 4,\n",
       " 'Local resolution': 5,\n",
       " 'Awaiting court outcome': 6,\n",
       " 'Offender given a caution': 7,\n",
       " 'Further investigation is not in the public interest': 8,\n",
       " 'Action to be taken by another organisation': 9,\n",
       " 'Formal action is not in the public interest': 10,\n",
       " 'Offender given a drugs possession warning': 11,\n",
       " 'Offender sent to prison': 12,\n",
       " 'Offender given penalty notice': 13,\n",
       " 'Offender given community sentence': 14,\n",
       " 'Further action is not in the public interest': 15,\n",
       " 'Offender fined': 16,\n",
       " 'Defendant found not guilty': 17,\n",
       " 'Offender given suspended prison sentence': 18,\n",
       " 'Court case unable to proceed': 19,\n",
       " 'Offender given conditional discharge': 20,\n",
       " 'Suspect charged as part of another case': 21,\n",
       " 'Offender otherwise dealt with': 22,\n",
       " 'Offender ordered to pay compensation': 23,\n",
       " 'Defendant sent to Crown Court': 24,\n",
       " 'Offender deprived of property': 25,\n",
       " 'Offender given absolute discharge': 26}"
      ]
     },
     "execution_count": 254,
     "metadata": {},
     "output_type": "execute_result"
    }
   ],
   "source": [
    "i=0\n",
    "for k in outcome_categories.keys():\n",
    "    outcome_categories[k] = i\n",
    "    i+=1\n",
    "outcome_categories"
   ]
  },
  {
   "cell_type": "code",
   "execution_count": 258,
   "id": "944f7aed",
   "metadata": {},
   "outputs": [],
   "source": [
    "import pickle\n",
    "filename='../raw_data/outcome_categories.pkl'\n",
    "outfile=open(filename,'wb')\n",
    "pickle.dump(outcome_categories,outfile)"
   ]
  },
  {
   "cell_type": "code",
   "execution_count": 259,
   "id": "08da1023",
   "metadata": {},
   "outputs": [],
   "source": [
    "outfile.close()"
   ]
  },
  {
   "cell_type": "code",
   "execution_count": 261,
   "id": "315a9078",
   "metadata": {},
   "outputs": [
    {
     "ename": "ValueError",
     "evalue": "If using all scalar values, you must pass an index",
     "output_type": "error",
     "traceback": [
      "\u001b[0;31m---------------------------------------------------------------------------\u001b[0m",
      "\u001b[0;31mValueError\u001b[0m                                Traceback (most recent call last)",
      "\u001b[0;32m<ipython-input-261-db530dbe5b1c>\u001b[0m in \u001b[0;36m<module>\u001b[0;34m\u001b[0m\n\u001b[0;32m----> 1\u001b[0;31m \u001b[0moutcomes_encoding_df\u001b[0m \u001b[0;34m=\u001b[0m \u001b[0mpd\u001b[0m\u001b[0;34m.\u001b[0m\u001b[0mDataFrame\u001b[0m\u001b[0;34m.\u001b[0m\u001b[0mfrom_dict\u001b[0m\u001b[0;34m(\u001b[0m\u001b[0moutcome_categories\u001b[0m\u001b[0;34m)\u001b[0m\u001b[0;34m\u001b[0m\u001b[0;34m\u001b[0m\u001b[0m\n\u001b[0m\u001b[1;32m      2\u001b[0m \u001b[0moutcomes_encoding_df\u001b[0m\u001b[0;34m\u001b[0m\u001b[0;34m\u001b[0m\u001b[0m\n",
      "\u001b[0;32m~/.pyenv/versions/3.8.6/envs/lewagon/lib/python3.8/site-packages/pandas/core/frame.py\u001b[0m in \u001b[0;36mfrom_dict\u001b[0;34m(cls, data, orient, dtype, columns)\u001b[0m\n\u001b[1;32m   1371\u001b[0m             \u001b[0;32mraise\u001b[0m \u001b[0mValueError\u001b[0m\u001b[0;34m(\u001b[0m\u001b[0;34m\"only recognize index or columns for orient\"\u001b[0m\u001b[0;34m)\u001b[0m\u001b[0;34m\u001b[0m\u001b[0;34m\u001b[0m\u001b[0m\n\u001b[1;32m   1372\u001b[0m \u001b[0;34m\u001b[0m\u001b[0m\n\u001b[0;32m-> 1373\u001b[0;31m         \u001b[0;32mreturn\u001b[0m \u001b[0mcls\u001b[0m\u001b[0;34m(\u001b[0m\u001b[0mdata\u001b[0m\u001b[0;34m,\u001b[0m \u001b[0mindex\u001b[0m\u001b[0;34m=\u001b[0m\u001b[0mindex\u001b[0m\u001b[0;34m,\u001b[0m \u001b[0mcolumns\u001b[0m\u001b[0;34m=\u001b[0m\u001b[0mcolumns\u001b[0m\u001b[0;34m,\u001b[0m \u001b[0mdtype\u001b[0m\u001b[0;34m=\u001b[0m\u001b[0mdtype\u001b[0m\u001b[0;34m)\u001b[0m\u001b[0;34m\u001b[0m\u001b[0;34m\u001b[0m\u001b[0m\n\u001b[0m\u001b[1;32m   1374\u001b[0m \u001b[0;34m\u001b[0m\u001b[0m\n\u001b[1;32m   1375\u001b[0m     def to_numpy(\n",
      "\u001b[0;32m~/.pyenv/versions/3.8.6/envs/lewagon/lib/python3.8/site-packages/pandas/core/frame.py\u001b[0m in \u001b[0;36m__init__\u001b[0;34m(self, data, index, columns, dtype, copy)\u001b[0m\n\u001b[1;32m    527\u001b[0m \u001b[0;34m\u001b[0m\u001b[0m\n\u001b[1;32m    528\u001b[0m         \u001b[0;32melif\u001b[0m \u001b[0misinstance\u001b[0m\u001b[0;34m(\u001b[0m\u001b[0mdata\u001b[0m\u001b[0;34m,\u001b[0m \u001b[0mdict\u001b[0m\u001b[0;34m)\u001b[0m\u001b[0;34m:\u001b[0m\u001b[0;34m\u001b[0m\u001b[0;34m\u001b[0m\u001b[0m\n\u001b[0;32m--> 529\u001b[0;31m             \u001b[0mmgr\u001b[0m \u001b[0;34m=\u001b[0m \u001b[0minit_dict\u001b[0m\u001b[0;34m(\u001b[0m\u001b[0mdata\u001b[0m\u001b[0;34m,\u001b[0m \u001b[0mindex\u001b[0m\u001b[0;34m,\u001b[0m \u001b[0mcolumns\u001b[0m\u001b[0;34m,\u001b[0m \u001b[0mdtype\u001b[0m\u001b[0;34m=\u001b[0m\u001b[0mdtype\u001b[0m\u001b[0;34m)\u001b[0m\u001b[0;34m\u001b[0m\u001b[0;34m\u001b[0m\u001b[0m\n\u001b[0m\u001b[1;32m    530\u001b[0m         \u001b[0;32melif\u001b[0m \u001b[0misinstance\u001b[0m\u001b[0;34m(\u001b[0m\u001b[0mdata\u001b[0m\u001b[0;34m,\u001b[0m \u001b[0mma\u001b[0m\u001b[0;34m.\u001b[0m\u001b[0mMaskedArray\u001b[0m\u001b[0;34m)\u001b[0m\u001b[0;34m:\u001b[0m\u001b[0;34m\u001b[0m\u001b[0;34m\u001b[0m\u001b[0m\n\u001b[1;32m    531\u001b[0m             \u001b[0;32mimport\u001b[0m \u001b[0mnumpy\u001b[0m\u001b[0;34m.\u001b[0m\u001b[0mma\u001b[0m\u001b[0;34m.\u001b[0m\u001b[0mmrecords\u001b[0m \u001b[0;32mas\u001b[0m \u001b[0mmrecords\u001b[0m\u001b[0;34m\u001b[0m\u001b[0;34m\u001b[0m\u001b[0m\n",
      "\u001b[0;32m~/.pyenv/versions/3.8.6/envs/lewagon/lib/python3.8/site-packages/pandas/core/internals/construction.py\u001b[0m in \u001b[0;36minit_dict\u001b[0;34m(data, index, columns, dtype)\u001b[0m\n\u001b[1;32m    285\u001b[0m             \u001b[0marr\u001b[0m \u001b[0;32mif\u001b[0m \u001b[0;32mnot\u001b[0m \u001b[0mis_datetime64tz_dtype\u001b[0m\u001b[0;34m(\u001b[0m\u001b[0marr\u001b[0m\u001b[0;34m)\u001b[0m \u001b[0;32melse\u001b[0m \u001b[0marr\u001b[0m\u001b[0;34m.\u001b[0m\u001b[0mcopy\u001b[0m\u001b[0;34m(\u001b[0m\u001b[0;34m)\u001b[0m \u001b[0;32mfor\u001b[0m \u001b[0marr\u001b[0m \u001b[0;32min\u001b[0m \u001b[0marrays\u001b[0m\u001b[0;34m\u001b[0m\u001b[0;34m\u001b[0m\u001b[0m\n\u001b[1;32m    286\u001b[0m         ]\n\u001b[0;32m--> 287\u001b[0;31m     \u001b[0;32mreturn\u001b[0m \u001b[0marrays_to_mgr\u001b[0m\u001b[0;34m(\u001b[0m\u001b[0marrays\u001b[0m\u001b[0;34m,\u001b[0m \u001b[0mdata_names\u001b[0m\u001b[0;34m,\u001b[0m \u001b[0mindex\u001b[0m\u001b[0;34m,\u001b[0m \u001b[0mcolumns\u001b[0m\u001b[0;34m,\u001b[0m \u001b[0mdtype\u001b[0m\u001b[0;34m=\u001b[0m\u001b[0mdtype\u001b[0m\u001b[0;34m)\u001b[0m\u001b[0;34m\u001b[0m\u001b[0;34m\u001b[0m\u001b[0m\n\u001b[0m\u001b[1;32m    288\u001b[0m \u001b[0;34m\u001b[0m\u001b[0m\n\u001b[1;32m    289\u001b[0m \u001b[0;34m\u001b[0m\u001b[0m\n",
      "\u001b[0;32m~/.pyenv/versions/3.8.6/envs/lewagon/lib/python3.8/site-packages/pandas/core/internals/construction.py\u001b[0m in \u001b[0;36marrays_to_mgr\u001b[0;34m(arrays, arr_names, index, columns, dtype, verify_integrity)\u001b[0m\n\u001b[1;32m     78\u001b[0m         \u001b[0;31m# figure out the index, if necessary\u001b[0m\u001b[0;34m\u001b[0m\u001b[0;34m\u001b[0m\u001b[0;34m\u001b[0m\u001b[0m\n\u001b[1;32m     79\u001b[0m         \u001b[0;32mif\u001b[0m \u001b[0mindex\u001b[0m \u001b[0;32mis\u001b[0m \u001b[0;32mNone\u001b[0m\u001b[0;34m:\u001b[0m\u001b[0;34m\u001b[0m\u001b[0;34m\u001b[0m\u001b[0m\n\u001b[0;32m---> 80\u001b[0;31m             \u001b[0mindex\u001b[0m \u001b[0;34m=\u001b[0m \u001b[0mextract_index\u001b[0m\u001b[0;34m(\u001b[0m\u001b[0marrays\u001b[0m\u001b[0;34m)\u001b[0m\u001b[0;34m\u001b[0m\u001b[0;34m\u001b[0m\u001b[0m\n\u001b[0m\u001b[1;32m     81\u001b[0m         \u001b[0;32melse\u001b[0m\u001b[0;34m:\u001b[0m\u001b[0;34m\u001b[0m\u001b[0;34m\u001b[0m\u001b[0m\n\u001b[1;32m     82\u001b[0m             \u001b[0mindex\u001b[0m \u001b[0;34m=\u001b[0m \u001b[0mensure_index\u001b[0m\u001b[0;34m(\u001b[0m\u001b[0mindex\u001b[0m\u001b[0;34m)\u001b[0m\u001b[0;34m\u001b[0m\u001b[0;34m\u001b[0m\u001b[0m\n",
      "\u001b[0;32m~/.pyenv/versions/3.8.6/envs/lewagon/lib/python3.8/site-packages/pandas/core/internals/construction.py\u001b[0m in \u001b[0;36mextract_index\u001b[0;34m(data)\u001b[0m\n\u001b[1;32m    389\u001b[0m \u001b[0;34m\u001b[0m\u001b[0m\n\u001b[1;32m    390\u001b[0m         \u001b[0;32mif\u001b[0m \u001b[0;32mnot\u001b[0m \u001b[0mindexes\u001b[0m \u001b[0;32mand\u001b[0m \u001b[0;32mnot\u001b[0m \u001b[0mraw_lengths\u001b[0m\u001b[0;34m:\u001b[0m\u001b[0;34m\u001b[0m\u001b[0;34m\u001b[0m\u001b[0m\n\u001b[0;32m--> 391\u001b[0;31m             \u001b[0;32mraise\u001b[0m \u001b[0mValueError\u001b[0m\u001b[0;34m(\u001b[0m\u001b[0;34m\"If using all scalar values, you must pass an index\"\u001b[0m\u001b[0;34m)\u001b[0m\u001b[0;34m\u001b[0m\u001b[0;34m\u001b[0m\u001b[0m\n\u001b[0m\u001b[1;32m    392\u001b[0m \u001b[0;34m\u001b[0m\u001b[0m\n\u001b[1;32m    393\u001b[0m         \u001b[0;32mif\u001b[0m \u001b[0mhave_series\u001b[0m\u001b[0;34m:\u001b[0m\u001b[0;34m\u001b[0m\u001b[0;34m\u001b[0m\u001b[0m\n",
      "\u001b[0;31mValueError\u001b[0m: If using all scalar values, you must pass an index"
     ]
    }
   ],
   "source": [
    "outcomes_encoding_df = pd.DataFrame.from_dict(outcome_categories)\n",
    "outcomes_encoding_df"
   ]
  },
  {
   "cell_type": "code",
   "execution_count": null,
   "id": "bd435e20",
   "metadata": {},
   "outputs": [],
   "source": [
    "dict_outcomes = pd.read_pkl"
   ]
  },
  {
   "cell_type": "code",
   "execution_count": 232,
   "id": "b4c5f71b",
   "metadata": {},
   "outputs": [],
   "source": [
    "del type"
   ]
  },
  {
   "cell_type": "code",
   "execution_count": 226,
   "id": "565e205f",
   "metadata": {},
   "outputs": [
    {
     "ename": "TypeError",
     "evalue": "can only concatenate str (not \"float\") to str",
     "output_type": "error",
     "traceback": [
      "\u001b[0;31m---------------------------------------------------------------------------\u001b[0m",
      "\u001b[0;31mTypeError\u001b[0m                                 Traceback (most recent call last)",
      "\u001b[0;32m<ipython-input-226-902ea1a010c7>\u001b[0m in \u001b[0;36m<module>\u001b[0;34m\u001b[0m\n\u001b[0;32m----> 1\u001b[0;31m \u001b[0mmerged_df\u001b[0m\u001b[0;34m[\u001b[0m\u001b[0;34m'other_id'\u001b[0m\u001b[0;34m]\u001b[0m\u001b[0;34m=\u001b[0m\u001b[0mmerged_df\u001b[0m\u001b[0;34m.\u001b[0m\u001b[0mapply\u001b[0m\u001b[0;34m(\u001b[0m\u001b[0;32mlambda\u001b[0m \u001b[0mx\u001b[0m\u001b[0;34m:\u001b[0m \u001b[0mx\u001b[0m\u001b[0;34m[\u001b[0m\u001b[0;34m'Longitude'\u001b[0m\u001b[0;34m]\u001b[0m\u001b[0;34m+\u001b[0m\u001b[0mx\u001b[0m\u001b[0;34m[\u001b[0m\u001b[0;34m'Latitude'\u001b[0m\u001b[0;34m]\u001b[0m\u001b[0;34m+\u001b[0m\u001b[0mx\u001b[0m\u001b[0;34m[\u001b[0m\u001b[0;34m'LSOA code'\u001b[0m\u001b[0;34m]\u001b[0m\u001b[0;34m+\u001b[0m\u001b[0mx\u001b[0m\u001b[0;34m[\u001b[0m\u001b[0;34m'Crime type'\u001b[0m\u001b[0;34m]\u001b[0m\u001b[0;34m,\u001b[0m \u001b[0maxis\u001b[0m\u001b[0;34m=\u001b[0m\u001b[0;36m1\u001b[0m\u001b[0;34m)\u001b[0m\u001b[0;34m\u001b[0m\u001b[0;34m\u001b[0m\u001b[0m\n\u001b[0m",
      "\u001b[0;32m~/.pyenv/versions/3.8.6/envs/lewagon/lib/python3.8/site-packages/pandas/core/frame.py\u001b[0m in \u001b[0;36mapply\u001b[0;34m(self, func, axis, raw, result_type, args, **kwds)\u001b[0m\n\u001b[1;32m   7766\u001b[0m             \u001b[0mkwds\u001b[0m\u001b[0;34m=\u001b[0m\u001b[0mkwds\u001b[0m\u001b[0;34m,\u001b[0m\u001b[0;34m\u001b[0m\u001b[0;34m\u001b[0m\u001b[0m\n\u001b[1;32m   7767\u001b[0m         )\n\u001b[0;32m-> 7768\u001b[0;31m         \u001b[0;32mreturn\u001b[0m \u001b[0mop\u001b[0m\u001b[0;34m.\u001b[0m\u001b[0mget_result\u001b[0m\u001b[0;34m(\u001b[0m\u001b[0;34m)\u001b[0m\u001b[0;34m\u001b[0m\u001b[0;34m\u001b[0m\u001b[0m\n\u001b[0m\u001b[1;32m   7769\u001b[0m \u001b[0;34m\u001b[0m\u001b[0m\n\u001b[1;32m   7770\u001b[0m     \u001b[0;32mdef\u001b[0m \u001b[0mapplymap\u001b[0m\u001b[0;34m(\u001b[0m\u001b[0mself\u001b[0m\u001b[0;34m,\u001b[0m \u001b[0mfunc\u001b[0m\u001b[0;34m,\u001b[0m \u001b[0mna_action\u001b[0m\u001b[0;34m:\u001b[0m \u001b[0mOptional\u001b[0m\u001b[0;34m[\u001b[0m\u001b[0mstr\u001b[0m\u001b[0;34m]\u001b[0m \u001b[0;34m=\u001b[0m \u001b[0;32mNone\u001b[0m\u001b[0;34m)\u001b[0m \u001b[0;34m->\u001b[0m \u001b[0mDataFrame\u001b[0m\u001b[0;34m:\u001b[0m\u001b[0;34m\u001b[0m\u001b[0;34m\u001b[0m\u001b[0m\n",
      "\u001b[0;32m~/.pyenv/versions/3.8.6/envs/lewagon/lib/python3.8/site-packages/pandas/core/apply.py\u001b[0m in \u001b[0;36mget_result\u001b[0;34m(self)\u001b[0m\n\u001b[1;32m    183\u001b[0m             \u001b[0;32mreturn\u001b[0m \u001b[0mself\u001b[0m\u001b[0;34m.\u001b[0m\u001b[0mapply_raw\u001b[0m\u001b[0;34m(\u001b[0m\u001b[0;34m)\u001b[0m\u001b[0;34m\u001b[0m\u001b[0;34m\u001b[0m\u001b[0m\n\u001b[1;32m    184\u001b[0m \u001b[0;34m\u001b[0m\u001b[0m\n\u001b[0;32m--> 185\u001b[0;31m         \u001b[0;32mreturn\u001b[0m \u001b[0mself\u001b[0m\u001b[0;34m.\u001b[0m\u001b[0mapply_standard\u001b[0m\u001b[0;34m(\u001b[0m\u001b[0;34m)\u001b[0m\u001b[0;34m\u001b[0m\u001b[0;34m\u001b[0m\u001b[0m\n\u001b[0m\u001b[1;32m    186\u001b[0m \u001b[0;34m\u001b[0m\u001b[0m\n\u001b[1;32m    187\u001b[0m     \u001b[0;32mdef\u001b[0m \u001b[0mapply_empty_result\u001b[0m\u001b[0;34m(\u001b[0m\u001b[0mself\u001b[0m\u001b[0;34m)\u001b[0m\u001b[0;34m:\u001b[0m\u001b[0;34m\u001b[0m\u001b[0;34m\u001b[0m\u001b[0m\n",
      "\u001b[0;32m~/.pyenv/versions/3.8.6/envs/lewagon/lib/python3.8/site-packages/pandas/core/apply.py\u001b[0m in \u001b[0;36mapply_standard\u001b[0;34m(self)\u001b[0m\n\u001b[1;32m    274\u001b[0m \u001b[0;34m\u001b[0m\u001b[0m\n\u001b[1;32m    275\u001b[0m     \u001b[0;32mdef\u001b[0m \u001b[0mapply_standard\u001b[0m\u001b[0;34m(\u001b[0m\u001b[0mself\u001b[0m\u001b[0;34m)\u001b[0m\u001b[0;34m:\u001b[0m\u001b[0;34m\u001b[0m\u001b[0;34m\u001b[0m\u001b[0m\n\u001b[0;32m--> 276\u001b[0;31m         \u001b[0mresults\u001b[0m\u001b[0;34m,\u001b[0m \u001b[0mres_index\u001b[0m \u001b[0;34m=\u001b[0m \u001b[0mself\u001b[0m\u001b[0;34m.\u001b[0m\u001b[0mapply_series_generator\u001b[0m\u001b[0;34m(\u001b[0m\u001b[0;34m)\u001b[0m\u001b[0;34m\u001b[0m\u001b[0;34m\u001b[0m\u001b[0m\n\u001b[0m\u001b[1;32m    277\u001b[0m \u001b[0;34m\u001b[0m\u001b[0m\n\u001b[1;32m    278\u001b[0m         \u001b[0;31m# wrap results\u001b[0m\u001b[0;34m\u001b[0m\u001b[0;34m\u001b[0m\u001b[0;34m\u001b[0m\u001b[0m\n",
      "\u001b[0;32m~/.pyenv/versions/3.8.6/envs/lewagon/lib/python3.8/site-packages/pandas/core/apply.py\u001b[0m in \u001b[0;36mapply_series_generator\u001b[0;34m(self)\u001b[0m\n\u001b[1;32m    288\u001b[0m             \u001b[0;32mfor\u001b[0m \u001b[0mi\u001b[0m\u001b[0;34m,\u001b[0m \u001b[0mv\u001b[0m \u001b[0;32min\u001b[0m \u001b[0menumerate\u001b[0m\u001b[0;34m(\u001b[0m\u001b[0mseries_gen\u001b[0m\u001b[0;34m)\u001b[0m\u001b[0;34m:\u001b[0m\u001b[0;34m\u001b[0m\u001b[0;34m\u001b[0m\u001b[0m\n\u001b[1;32m    289\u001b[0m                 \u001b[0;31m# ignore SettingWithCopy here in case the user mutates\u001b[0m\u001b[0;34m\u001b[0m\u001b[0;34m\u001b[0m\u001b[0;34m\u001b[0m\u001b[0m\n\u001b[0;32m--> 290\u001b[0;31m                 \u001b[0mresults\u001b[0m\u001b[0;34m[\u001b[0m\u001b[0mi\u001b[0m\u001b[0;34m]\u001b[0m \u001b[0;34m=\u001b[0m \u001b[0mself\u001b[0m\u001b[0;34m.\u001b[0m\u001b[0mf\u001b[0m\u001b[0;34m(\u001b[0m\u001b[0mv\u001b[0m\u001b[0;34m)\u001b[0m\u001b[0;34m\u001b[0m\u001b[0;34m\u001b[0m\u001b[0m\n\u001b[0m\u001b[1;32m    291\u001b[0m                 \u001b[0;32mif\u001b[0m \u001b[0misinstance\u001b[0m\u001b[0;34m(\u001b[0m\u001b[0mresults\u001b[0m\u001b[0;34m[\u001b[0m\u001b[0mi\u001b[0m\u001b[0;34m]\u001b[0m\u001b[0;34m,\u001b[0m \u001b[0mABCSeries\u001b[0m\u001b[0;34m)\u001b[0m\u001b[0;34m:\u001b[0m\u001b[0;34m\u001b[0m\u001b[0;34m\u001b[0m\u001b[0m\n\u001b[1;32m    292\u001b[0m                     \u001b[0;31m# If we have a view on v, we need to make a copy because\u001b[0m\u001b[0;34m\u001b[0m\u001b[0;34m\u001b[0m\u001b[0;34m\u001b[0m\u001b[0m\n",
      "\u001b[0;32m<ipython-input-226-902ea1a010c7>\u001b[0m in \u001b[0;36m<lambda>\u001b[0;34m(x)\u001b[0m\n\u001b[0;32m----> 1\u001b[0;31m \u001b[0mmerged_df\u001b[0m\u001b[0;34m[\u001b[0m\u001b[0;34m'other_id'\u001b[0m\u001b[0;34m]\u001b[0m\u001b[0;34m=\u001b[0m\u001b[0mmerged_df\u001b[0m\u001b[0;34m.\u001b[0m\u001b[0mapply\u001b[0m\u001b[0;34m(\u001b[0m\u001b[0;32mlambda\u001b[0m \u001b[0mx\u001b[0m\u001b[0;34m:\u001b[0m \u001b[0mx\u001b[0m\u001b[0;34m[\u001b[0m\u001b[0;34m'Longitude'\u001b[0m\u001b[0;34m]\u001b[0m\u001b[0;34m+\u001b[0m\u001b[0mx\u001b[0m\u001b[0;34m[\u001b[0m\u001b[0;34m'Latitude'\u001b[0m\u001b[0;34m]\u001b[0m\u001b[0;34m+\u001b[0m\u001b[0mx\u001b[0m\u001b[0;34m[\u001b[0m\u001b[0;34m'LSOA code'\u001b[0m\u001b[0;34m]\u001b[0m\u001b[0;34m+\u001b[0m\u001b[0mx\u001b[0m\u001b[0;34m[\u001b[0m\u001b[0;34m'Crime type'\u001b[0m\u001b[0;34m]\u001b[0m\u001b[0;34m,\u001b[0m \u001b[0maxis\u001b[0m\u001b[0;34m=\u001b[0m\u001b[0;36m1\u001b[0m\u001b[0;34m)\u001b[0m\u001b[0;34m\u001b[0m\u001b[0;34m\u001b[0m\u001b[0m\n\u001b[0m",
      "\u001b[0;31mTypeError\u001b[0m: can only concatenate str (not \"float\") to str"
     ]
    }
   ],
   "source": [
    "merged_df['other_id']=merged_df.apply(lambda x: x['Longitude']+x['Latitude']+x['LSOA code']+x['Crime type'], axis=1)"
   ]
  },
  {
   "cell_type": "code",
   "execution_count": 265,
   "id": "a36d665d",
   "metadata": {},
   "outputs": [],
   "source": [
    "merged_df = merged_df.drop(columns = 'Reported by')"
   ]
  },
  {
   "cell_type": "code",
   "execution_count": 266,
   "id": "156db247",
   "metadata": {},
   "outputs": [],
   "source": [
    "merged_df = merged_df.drop(columns = 'Location')"
   ]
  },
  {
   "cell_type": "code",
   "execution_count": 269,
   "id": "f38e3686",
   "metadata": {},
   "outputs": [
    {
     "data": {
      "text/plain": [
       "Unnamed: 0                 int64\n",
       "Crime ID                  object\n",
       "Month                     object\n",
       "Falls within              object\n",
       "Longitude                 object\n",
       "Latitude                  object\n",
       "LSOA code                 object\n",
       "LSOA name                 object\n",
       "Crime type                object\n",
       "Last outcome category     object\n",
       "Context                  float64\n",
       "dtype: object"
      ]
     },
     "execution_count": 269,
     "metadata": {},
     "output_type": "execute_result"
    }
   ],
   "source": [
    "merged_df.dtypes"
   ]
  },
  {
   "cell_type": "code",
   "execution_count": 271,
   "id": "d9d268a5",
   "metadata": {},
   "outputs": [
    {
     "name": "stdout",
     "output_type": "stream",
     "text": [
      "<class 'pandas.core.frame.DataFrame'>\n",
      "RangeIndex: 19300718 entries, 0 to 19300717\n",
      "Data columns (total 11 columns):\n",
      " #   Column                 Dtype  \n",
      "---  ------                 -----  \n",
      " 0   Unnamed: 0             int64  \n",
      " 1   Crime ID               object \n",
      " 2   Month                  object \n",
      " 3   Falls within           object \n",
      " 4   Longitude              object \n",
      " 5   Latitude               object \n",
      " 6   LSOA code              object \n",
      " 7   LSOA name              object \n",
      " 8   Crime type             object \n",
      " 9   Last outcome category  object \n",
      " 10  Context                float64\n",
      "dtypes: float64(1), int64(1), object(9)\n",
      "memory usage: 1.6+ GB\n"
     ]
    }
   ],
   "source": [
    "merged_df.info()"
   ]
  },
  {
   "cell_type": "code",
   "execution_count": 274,
   "id": "f07804e4",
   "metadata": {},
   "outputs": [
    {
     "name": "stdout",
     "output_type": "stream",
     "text": [
      "<class 'pandas.core.frame.DataFrame'>\n",
      "RangeIndex: 19300718 entries, 0 to 19300717\n",
      "Data columns (total 11 columns):\n",
      " #   Column                 Dtype \n",
      "---  ------                 ----- \n",
      " 0   Unnamed: 0             Int64 \n",
      " 1   Crime ID               string\n",
      " 2   Month                  string\n",
      " 3   Falls within           string\n",
      " 4   Longitude              string\n",
      " 5   Latitude               string\n",
      " 6   LSOA code              string\n",
      " 7   LSOA name              string\n",
      " 8   Crime type             string\n",
      " 9   Last outcome category  string\n",
      " 10  Context                Int64 \n",
      "dtypes: Int64(2), string(9)\n",
      "memory usage: 1.6 GB\n"
     ]
    }
   ],
   "source": [
    "merged_df.convert_dtypes().info()"
   ]
  },
  {
   "cell_type": "code",
   "execution_count": 275,
   "id": "65738959",
   "metadata": {},
   "outputs": [],
   "source": [
    "reduced_df = merged_df.iloc[:250000]"
   ]
  },
  {
   "cell_type": "code",
   "execution_count": 276,
   "id": "926b6b65",
   "metadata": {},
   "outputs": [
    {
     "name": "stdout",
     "output_type": "stream",
     "text": [
      "<class 'pandas.core.frame.DataFrame'>\n",
      "RangeIndex: 250000 entries, 0 to 249999\n",
      "Data columns (total 11 columns):\n",
      " #   Column                 Non-Null Count   Dtype  \n",
      "---  ------                 --------------   -----  \n",
      " 0   Unnamed: 0             250000 non-null  int64  \n",
      " 1   Crime ID               206123 non-null  object \n",
      " 2   Month                  250000 non-null  object \n",
      " 3   Falls within           250000 non-null  object \n",
      " 4   Longitude              250000 non-null  object \n",
      " 5   Latitude               250000 non-null  object \n",
      " 6   LSOA code              247155 non-null  object \n",
      " 7   LSOA name              247155 non-null  object \n",
      " 8   Crime type             250000 non-null  object \n",
      " 9   Last outcome category  206123 non-null  object \n",
      " 10  Context                0 non-null       float64\n",
      "dtypes: float64(1), int64(1), object(9)\n",
      "memory usage: 21.0+ MB\n"
     ]
    }
   ],
   "source": [
    "reduced_df.info()"
   ]
  },
  {
   "cell_type": "code",
   "execution_count": 279,
   "id": "ee957dbc",
   "metadata": {},
   "outputs": [
    {
     "data": {
      "text/plain": [
       "{'Crime ID': 'string',\n",
       " 'Month': 'datetime64',\n",
       " 'Falls within': 'string',\n",
       " 'Longitude': 'float',\n",
       " 'Latitude': 'float',\n",
       " 'LSOA code': 'string',\n",
       " 'LSOA name': 'string',\n",
       " 'Crime type': 'category',\n",
       " 'Last outcome category': 'category',\n",
       " 'Context': 'float'}"
      ]
     },
     "execution_count": 279,
     "metadata": {},
     "output_type": "execute_result"
    }
   ],
   "source": [
    "dtype_change = {'Crime ID':'string','Month': 'datetime64','Falls within':'string','Longitude':'float','Latitude':'float','LSOA code':'string','LSOA name':'string','Crime type':'category','Last outcome category':'category','Context':'float'}\n",
    "dtype_change"
   ]
  },
  {
   "cell_type": "code",
   "execution_count": 292,
   "id": "2914284f",
   "metadata": {},
   "outputs": [
    {
     "data": {
      "text/plain": [
       "Unnamed: 0                        int64\n",
       "Crime ID                         string\n",
       "Month                    datetime64[ns]\n",
       "Falls within                     string\n",
       "Longitude                       float64\n",
       "Latitude                        float64\n",
       "LSOA code                        string\n",
       "LSOA name                        string\n",
       "Crime type                     category\n",
       "Last outcome category          category\n",
       "Context                         float64\n",
       "dtype: object"
      ]
     },
     "execution_count": 292,
     "metadata": {},
     "output_type": "execute_result"
    }
   ],
   "source": [
    "reduced_df.astype(dtype_change).dtypes"
   ]
  },
  {
   "cell_type": "code",
   "execution_count": 283,
   "id": "f94acbf4",
   "metadata": {},
   "outputs": [
    {
     "data": {
      "text/plain": [
       "pandas.core.frame.DataFrame"
      ]
     },
     "execution_count": 283,
     "metadata": {},
     "output_type": "execute_result"
    }
   ],
   "source": [
    "type(reduced_df)"
   ]
  },
  {
   "cell_type": "code",
   "execution_count": 293,
   "id": "08a02801",
   "metadata": {},
   "outputs": [],
   "source": [
    "reduced_df = reduced_df.astype(dtype_change)"
   ]
  },
  {
   "cell_type": "code",
   "execution_count": 294,
   "id": "be0bf6f1",
   "metadata": {},
   "outputs": [
    {
     "name": "stdout",
     "output_type": "stream",
     "text": [
      "<class 'pandas.core.frame.DataFrame'>\n",
      "RangeIndex: 250000 entries, 0 to 249999\n",
      "Data columns (total 11 columns):\n",
      " #   Column                 Non-Null Count   Dtype         \n",
      "---  ------                 --------------   -----         \n",
      " 0   Unnamed: 0             250000 non-null  int64         \n",
      " 1   Crime ID               206123 non-null  string        \n",
      " 2   Month                  250000 non-null  datetime64[ns]\n",
      " 3   Falls within           250000 non-null  string        \n",
      " 4   Longitude              247156 non-null  float64       \n",
      " 5   Latitude               247156 non-null  float64       \n",
      " 6   LSOA code              247155 non-null  string        \n",
      " 7   LSOA name              247155 non-null  string        \n",
      " 8   Crime type             250000 non-null  category      \n",
      " 9   Last outcome category  206123 non-null  category      \n",
      " 10  Context                0 non-null       float64       \n",
      "dtypes: category(2), datetime64[ns](1), float64(3), int64(1), string(4)\n",
      "memory usage: 17.6 MB\n"
     ]
    }
   ],
   "source": [
    "reduced_df.info()"
   ]
  },
  {
   "cell_type": "code",
   "execution_count": 295,
   "id": "834bc862",
   "metadata": {},
   "outputs": [
    {
     "data": {
      "text/html": [
       "<div>\n",
       "<style scoped>\n",
       "    .dataframe tbody tr th:only-of-type {\n",
       "        vertical-align: middle;\n",
       "    }\n",
       "\n",
       "    .dataframe tbody tr th {\n",
       "        vertical-align: top;\n",
       "    }\n",
       "\n",
       "    .dataframe thead th {\n",
       "        text-align: right;\n",
       "    }\n",
       "</style>\n",
       "<table border=\"1\" class=\"dataframe\">\n",
       "  <thead>\n",
       "    <tr style=\"text-align: right;\">\n",
       "      <th></th>\n",
       "      <th>Unnamed: 0</th>\n",
       "      <th>Crime ID</th>\n",
       "      <th>Month</th>\n",
       "      <th>Falls within</th>\n",
       "      <th>Longitude</th>\n",
       "      <th>Latitude</th>\n",
       "      <th>LSOA code</th>\n",
       "      <th>LSOA name</th>\n",
       "      <th>Crime type</th>\n",
       "      <th>Last outcome category</th>\n",
       "      <th>Context</th>\n",
       "    </tr>\n",
       "  </thead>\n",
       "  <tbody>\n",
       "    <tr>\n",
       "      <th>0</th>\n",
       "      <td>0</td>\n",
       "      <td>c7000c41002f19263d4adec66b911f1c3f5e7eeb1302a3...</td>\n",
       "      <td>2020-01-01</td>\n",
       "      <td>West Yorkshire Police</td>\n",
       "      <td>-1.570572</td>\n",
       "      <td>53.607792</td>\n",
       "      <td>E01007418</td>\n",
       "      <td>Barnsley 016A</td>\n",
       "      <td>Other theft</td>\n",
       "      <td>Status update unavailable</td>\n",
       "      <td>NaN</td>\n",
       "    </tr>\n",
       "    <tr>\n",
       "      <th>1</th>\n",
       "      <td>1</td>\n",
       "      <td>b8bc1b6cf423a9431734982fffb11f803cf82140702cc7...</td>\n",
       "      <td>2020-01-01</td>\n",
       "      <td>West Yorkshire Police</td>\n",
       "      <td>-1.670108</td>\n",
       "      <td>53.553629</td>\n",
       "      <td>E01007426</td>\n",
       "      <td>Barnsley 027D</td>\n",
       "      <td>Robbery</td>\n",
       "      <td>Investigation complete; no suspect identified</td>\n",
       "      <td>NaN</td>\n",
       "    </tr>\n",
       "    <tr>\n",
       "      <th>2</th>\n",
       "      <td>2</td>\n",
       "      <td>8c69cefea36edafe5fa3f992ccc31d3cfd0c9af9a81429...</td>\n",
       "      <td>2020-01-01</td>\n",
       "      <td>West Yorkshire Police</td>\n",
       "      <td>-1.879031</td>\n",
       "      <td>53.943807</td>\n",
       "      <td>E01010646</td>\n",
       "      <td>Bradford 001A</td>\n",
       "      <td>Bicycle theft</td>\n",
       "      <td>Investigation complete; no suspect identified</td>\n",
       "      <td>NaN</td>\n",
       "    </tr>\n",
       "    <tr>\n",
       "      <th>3</th>\n",
       "      <td>3</td>\n",
       "      <td>7236a8fb307214df61ca7a9b93bd309c0524f9bee58d89...</td>\n",
       "      <td>2020-01-01</td>\n",
       "      <td>West Yorkshire Police</td>\n",
       "      <td>-1.882746</td>\n",
       "      <td>53.933807</td>\n",
       "      <td>E01010646</td>\n",
       "      <td>Bradford 001A</td>\n",
       "      <td>Burglary</td>\n",
       "      <td>Investigation complete; no suspect identified</td>\n",
       "      <td>NaN</td>\n",
       "    </tr>\n",
       "    <tr>\n",
       "      <th>4</th>\n",
       "      <td>4</td>\n",
       "      <td>92803cebdfde14ad870899c45c6bee398331f33a053bf1...</td>\n",
       "      <td>2020-01-01</td>\n",
       "      <td>West Yorkshire Police</td>\n",
       "      <td>-1.881467</td>\n",
       "      <td>53.944510</td>\n",
       "      <td>E01010646</td>\n",
       "      <td>Bradford 001A</td>\n",
       "      <td>Criminal damage and arson</td>\n",
       "      <td>Investigation complete; no suspect identified</td>\n",
       "      <td>NaN</td>\n",
       "    </tr>\n",
       "  </tbody>\n",
       "</table>\n",
       "</div>"
      ],
      "text/plain": [
       "   Unnamed: 0                                           Crime ID      Month  \\\n",
       "0           0  c7000c41002f19263d4adec66b911f1c3f5e7eeb1302a3... 2020-01-01   \n",
       "1           1  b8bc1b6cf423a9431734982fffb11f803cf82140702cc7... 2020-01-01   \n",
       "2           2  8c69cefea36edafe5fa3f992ccc31d3cfd0c9af9a81429... 2020-01-01   \n",
       "3           3  7236a8fb307214df61ca7a9b93bd309c0524f9bee58d89... 2020-01-01   \n",
       "4           4  92803cebdfde14ad870899c45c6bee398331f33a053bf1... 2020-01-01   \n",
       "\n",
       "            Falls within  Longitude   Latitude  LSOA code      LSOA name  \\\n",
       "0  West Yorkshire Police  -1.570572  53.607792  E01007418  Barnsley 016A   \n",
       "1  West Yorkshire Police  -1.670108  53.553629  E01007426  Barnsley 027D   \n",
       "2  West Yorkshire Police  -1.879031  53.943807  E01010646  Bradford 001A   \n",
       "3  West Yorkshire Police  -1.882746  53.933807  E01010646  Bradford 001A   \n",
       "4  West Yorkshire Police  -1.881467  53.944510  E01010646  Bradford 001A   \n",
       "\n",
       "                  Crime type                          Last outcome category  \\\n",
       "0                Other theft                      Status update unavailable   \n",
       "1                    Robbery  Investigation complete; no suspect identified   \n",
       "2              Bicycle theft  Investigation complete; no suspect identified   \n",
       "3                   Burglary  Investigation complete; no suspect identified   \n",
       "4  Criminal damage and arson  Investigation complete; no suspect identified   \n",
       "\n",
       "   Context  \n",
       "0      NaN  \n",
       "1      NaN  \n",
       "2      NaN  \n",
       "3      NaN  \n",
       "4      NaN  "
      ]
     },
     "execution_count": 295,
     "metadata": {},
     "output_type": "execute_result"
    }
   ],
   "source": [
    "reduced_df.head()"
   ]
  },
  {
   "cell_type": "code",
   "execution_count": 297,
   "id": "7a2b34b8",
   "metadata": {},
   "outputs": [
    {
     "name": "stdout",
     "output_type": "stream",
     "text": [
      "<class 'pandas.core.frame.DataFrame'>\n",
      "RangeIndex: 250000 entries, 0 to 249999\n",
      "Data columns (total 10 columns):\n",
      " #   Column                 Non-Null Count   Dtype         \n",
      "---  ------                 --------------   -----         \n",
      " 0   Unnamed: 0             250000 non-null  int64         \n",
      " 1   Month                  250000 non-null  datetime64[ns]\n",
      " 2   Falls within           250000 non-null  string        \n",
      " 3   Longitude              247156 non-null  float64       \n",
      " 4   Latitude               247156 non-null  float64       \n",
      " 5   LSOA code              247155 non-null  string        \n",
      " 6   LSOA name              247155 non-null  string        \n",
      " 7   Crime type             250000 non-null  category      \n",
      " 8   Last outcome category  206123 non-null  category      \n",
      " 9   Context                0 non-null       float64       \n",
      "dtypes: category(2), datetime64[ns](1), float64(3), int64(1), string(3)\n",
      "memory usage: 15.7 MB\n"
     ]
    }
   ],
   "source": [
    "reduced_df"
   ]
  },
  {
   "cell_type": "code",
   "execution_count": 298,
   "id": "b010096a",
   "metadata": {},
   "outputs": [],
   "source": [
    "merged_df = merged_df.astype(dtype_change)"
   ]
  },
  {
   "cell_type": "code",
   "execution_count": 299,
   "id": "af338f80",
   "metadata": {},
   "outputs": [
    {
     "name": "stdout",
     "output_type": "stream",
     "text": [
      "<class 'pandas.core.frame.DataFrame'>\n",
      "RangeIndex: 19300718 entries, 0 to 19300717\n",
      "Data columns (total 11 columns):\n",
      " #   Column                 Dtype         \n",
      "---  ------                 -----         \n",
      " 0   Unnamed: 0             int64         \n",
      " 1   Crime ID               string        \n",
      " 2   Month                  datetime64[ns]\n",
      " 3   Falls within           string        \n",
      " 4   Longitude              float64       \n",
      " 5   Latitude               float64       \n",
      " 6   LSOA code              string        \n",
      " 7   LSOA name              string        \n",
      " 8   Crime type             category      \n",
      " 9   Last outcome category  category      \n",
      " 10  Context                float64       \n",
      "dtypes: category(2), datetime64[ns](1), float64(3), int64(1), string(4)\n",
      "memory usage: 1.3 GB\n"
     ]
    }
   ],
   "source": [
    "merged_df.info()"
   ]
  },
  {
   "cell_type": "code",
   "execution_count": 300,
   "id": "f2cc5714",
   "metadata": {},
   "outputs": [],
   "source": [
    "merged_df = merged_df.drop(columns = 'Unnamed: 0')"
   ]
  },
  {
   "cell_type": "code",
   "execution_count": 301,
   "id": "4ee31787",
   "metadata": {},
   "outputs": [
    {
     "name": "stdout",
     "output_type": "stream",
     "text": [
      "<class 'pandas.core.frame.DataFrame'>\n",
      "RangeIndex: 19300718 entries, 0 to 19300717\n",
      "Data columns (total 10 columns):\n",
      " #   Column                 Dtype         \n",
      "---  ------                 -----         \n",
      " 0   Crime ID               string        \n",
      " 1   Month                  datetime64[ns]\n",
      " 2   Falls within           string        \n",
      " 3   Longitude              float64       \n",
      " 4   Latitude               float64       \n",
      " 5   LSOA code              string        \n",
      " 6   LSOA name              string        \n",
      " 7   Crime type             category      \n",
      " 8   Last outcome category  category      \n",
      " 9   Context                float64       \n",
      "dtypes: category(2), datetime64[ns](1), float64(3), string(4)\n",
      "memory usage: 1.2 GB\n"
     ]
    }
   ],
   "source": [
    "merged_df.info()"
   ]
  },
  {
   "cell_type": "code",
   "execution_count": 302,
   "id": "0d2f7c9b",
   "metadata": {},
   "outputs": [],
   "source": [
    "merged_df.drop_duplicates(inplace = True)"
   ]
  },
  {
   "cell_type": "code",
   "execution_count": 303,
   "id": "b958d2b2",
   "metadata": {},
   "outputs": [
    {
     "name": "stdout",
     "output_type": "stream",
     "text": [
      "<class 'pandas.core.frame.DataFrame'>\n",
      "Int64Index: 17526680 entries, 0 to 19300717\n",
      "Data columns (total 10 columns):\n",
      " #   Column                 Dtype         \n",
      "---  ------                 -----         \n",
      " 0   Crime ID               string        \n",
      " 1   Month                  datetime64[ns]\n",
      " 2   Falls within           string        \n",
      " 3   Longitude              float64       \n",
      " 4   Latitude               float64       \n",
      " 5   LSOA code              string        \n",
      " 6   LSOA name              string        \n",
      " 7   Crime type             category      \n",
      " 8   Last outcome category  category      \n",
      " 9   Context                float64       \n",
      "dtypes: category(2), datetime64[ns](1), float64(3), string(4)\n",
      "memory usage: 1.2 GB\n"
     ]
    }
   ],
   "source": [
    "merged_df.info()"
   ]
  },
  {
   "cell_type": "code",
   "execution_count": 304,
   "id": "b22291ad",
   "metadata": {},
   "outputs": [
    {
     "data": {
      "text/plain": [
       "3419188"
      ]
     },
     "execution_count": 304,
     "metadata": {},
     "output_type": "execute_result"
    }
   ],
   "source": [
    "len(merged_df['Crime ID'])-len(merged_df['Crime ID'].drop_duplicates())"
   ]
  },
  {
   "cell_type": "code",
   "execution_count": 305,
   "id": "f6a70163",
   "metadata": {},
   "outputs": [],
   "source": [
    "merged_df = merged_df.sort_values(['Month', 'Falls within','LSOA name'], ascending = (True,True,True))"
   ]
  },
  {
   "cell_type": "code",
   "execution_count": 306,
   "id": "7593096c",
   "metadata": {},
   "outputs": [],
   "source": [
    "merged_df.to_csv(\"../raw_data/merged2.csv\")"
   ]
  },
  {
   "cell_type": "code",
   "execution_count": 307,
   "id": "d401ab5d",
   "metadata": {},
   "outputs": [
    {
     "data": {
      "text/html": [
       "<div>\n",
       "<style scoped>\n",
       "    .dataframe tbody tr th:only-of-type {\n",
       "        vertical-align: middle;\n",
       "    }\n",
       "\n",
       "    .dataframe tbody tr th {\n",
       "        vertical-align: top;\n",
       "    }\n",
       "\n",
       "    .dataframe thead th {\n",
       "        text-align: right;\n",
       "    }\n",
       "</style>\n",
       "<table border=\"1\" class=\"dataframe\">\n",
       "  <thead>\n",
       "    <tr style=\"text-align: right;\">\n",
       "      <th></th>\n",
       "      <th>Crime ID</th>\n",
       "      <th>Month</th>\n",
       "      <th>Falls within</th>\n",
       "      <th>Longitude</th>\n",
       "      <th>Latitude</th>\n",
       "      <th>LSOA code</th>\n",
       "      <th>LSOA name</th>\n",
       "      <th>Crime type</th>\n",
       "      <th>Last outcome category</th>\n",
       "      <th>Context</th>\n",
       "    </tr>\n",
       "  </thead>\n",
       "  <tbody>\n",
       "    <tr>\n",
       "      <th>9064997</th>\n",
       "      <td>&lt;NA&gt;</td>\n",
       "      <td>2018-06-01</td>\n",
       "      <td>Avon and Somerset Constabulary</td>\n",
       "      <td>-2.509930</td>\n",
       "      <td>51.410873</td>\n",
       "      <td>E01014399</td>\n",
       "      <td>Bath and North East Somerset 001A</td>\n",
       "      <td>Anti-social behaviour</td>\n",
       "      <td>NaN</td>\n",
       "      <td>NaN</td>\n",
       "    </tr>\n",
       "    <tr>\n",
       "      <th>9065003</th>\n",
       "      <td>d07e88b32ac6b7684c493f1a05a3949ed6859031db0262...</td>\n",
       "      <td>2018-06-01</td>\n",
       "      <td>Avon and Somerset Constabulary</td>\n",
       "      <td>-2.509930</td>\n",
       "      <td>51.410873</td>\n",
       "      <td>E01014399</td>\n",
       "      <td>Bath and North East Somerset 001A</td>\n",
       "      <td>Criminal damage and arson</td>\n",
       "      <td>Unable to prosecute suspect</td>\n",
       "      <td>NaN</td>\n",
       "    </tr>\n",
       "    <tr>\n",
       "      <th>9065004</th>\n",
       "      <td>a131b2d13dd749055ecd03f54ed7b3d69d3313dca1837e...</td>\n",
       "      <td>2018-06-01</td>\n",
       "      <td>Avon and Somerset Constabulary</td>\n",
       "      <td>-2.510162</td>\n",
       "      <td>51.410998</td>\n",
       "      <td>E01014399</td>\n",
       "      <td>Bath and North East Somerset 001A</td>\n",
       "      <td>Criminal damage and arson</td>\n",
       "      <td>Status update unavailable</td>\n",
       "      <td>NaN</td>\n",
       "    </tr>\n",
       "    <tr>\n",
       "      <th>9065005</th>\n",
       "      <td>d8287c64a02011675e6113ae0fb159cb45336308994248...</td>\n",
       "      <td>2018-06-01</td>\n",
       "      <td>Avon and Somerset Constabulary</td>\n",
       "      <td>-2.509930</td>\n",
       "      <td>51.410873</td>\n",
       "      <td>E01014399</td>\n",
       "      <td>Bath and North East Somerset 001A</td>\n",
       "      <td>Other theft</td>\n",
       "      <td>Status update unavailable</td>\n",
       "      <td>NaN</td>\n",
       "    </tr>\n",
       "    <tr>\n",
       "      <th>9065006</th>\n",
       "      <td>e8272c40e825b002f99b3ffe0b7f6929eb4c3502108bdb...</td>\n",
       "      <td>2018-06-01</td>\n",
       "      <td>Avon and Somerset Constabulary</td>\n",
       "      <td>-2.516919</td>\n",
       "      <td>51.423683</td>\n",
       "      <td>E01014399</td>\n",
       "      <td>Bath and North East Somerset 001A</td>\n",
       "      <td>Public order</td>\n",
       "      <td>Unable to prosecute suspect</td>\n",
       "      <td>NaN</td>\n",
       "    </tr>\n",
       "    <tr>\n",
       "      <th>...</th>\n",
       "      <td>...</td>\n",
       "      <td>...</td>\n",
       "      <td>...</td>\n",
       "      <td>...</td>\n",
       "      <td>...</td>\n",
       "      <td>...</td>\n",
       "      <td>...</td>\n",
       "      <td>...</td>\n",
       "      <td>...</td>\n",
       "      <td>...</td>\n",
       "    </tr>\n",
       "    <tr>\n",
       "      <th>16426889</th>\n",
       "      <td>253a1ded04be4ee0152148bb75ec1303d854c245d72706...</td>\n",
       "      <td>2021-05-01</td>\n",
       "      <td>Wiltshire Police</td>\n",
       "      <td>-1.759025</td>\n",
       "      <td>50.994654</td>\n",
       "      <td>E01031995</td>\n",
       "      <td>Wiltshire 062E</td>\n",
       "      <td>Other theft</td>\n",
       "      <td>Under investigation</td>\n",
       "      <td>NaN</td>\n",
       "    </tr>\n",
       "    <tr>\n",
       "      <th>16426890</th>\n",
       "      <td>f56cb6775dbf3ddb95474f8a58bdc0e9dc34052160600a...</td>\n",
       "      <td>2021-05-01</td>\n",
       "      <td>Wiltshire Police</td>\n",
       "      <td>-1.758262</td>\n",
       "      <td>50.993385</td>\n",
       "      <td>E01031995</td>\n",
       "      <td>Wiltshire 062E</td>\n",
       "      <td>Public order</td>\n",
       "      <td>Under investigation</td>\n",
       "      <td>NaN</td>\n",
       "    </tr>\n",
       "    <tr>\n",
       "      <th>16426891</th>\n",
       "      <td>6576b346d24af516dc6e62707bf4d274e30e29eeab44cc...</td>\n",
       "      <td>2021-05-01</td>\n",
       "      <td>Wiltshire Police</td>\n",
       "      <td>-1.739677</td>\n",
       "      <td>50.994244</td>\n",
       "      <td>E01031995</td>\n",
       "      <td>Wiltshire 062E</td>\n",
       "      <td>Vehicle crime</td>\n",
       "      <td>Investigation complete; no suspect identified</td>\n",
       "      <td>NaN</td>\n",
       "    </tr>\n",
       "    <tr>\n",
       "      <th>16426892</th>\n",
       "      <td>afc7751d9897f3f75ba20d5f86dd28bad965bc08ad5266...</td>\n",
       "      <td>2021-05-01</td>\n",
       "      <td>Wiltshire Police</td>\n",
       "      <td>-1.753306</td>\n",
       "      <td>50.995578</td>\n",
       "      <td>E01031995</td>\n",
       "      <td>Wiltshire 062E</td>\n",
       "      <td>Violence and sexual offences</td>\n",
       "      <td>Under investigation</td>\n",
       "      <td>NaN</td>\n",
       "    </tr>\n",
       "    <tr>\n",
       "      <th>16426893</th>\n",
       "      <td>5458656712ebdcb4f339ccc33b893e03fecb4d1bdd10ea...</td>\n",
       "      <td>2021-05-01</td>\n",
       "      <td>Wiltshire Police</td>\n",
       "      <td>-1.759025</td>\n",
       "      <td>50.994654</td>\n",
       "      <td>E01031995</td>\n",
       "      <td>Wiltshire 062E</td>\n",
       "      <td>Violence and sexual offences</td>\n",
       "      <td>Under investigation</td>\n",
       "      <td>NaN</td>\n",
       "    </tr>\n",
       "  </tbody>\n",
       "</table>\n",
       "<p>14107492 rows × 10 columns</p>\n",
       "</div>"
      ],
      "text/plain": [
       "                                                   Crime ID      Month  \\\n",
       "9064997                                                <NA> 2018-06-01   \n",
       "9065003   d07e88b32ac6b7684c493f1a05a3949ed6859031db0262... 2018-06-01   \n",
       "9065004   a131b2d13dd749055ecd03f54ed7b3d69d3313dca1837e... 2018-06-01   \n",
       "9065005   d8287c64a02011675e6113ae0fb159cb45336308994248... 2018-06-01   \n",
       "9065006   e8272c40e825b002f99b3ffe0b7f6929eb4c3502108bdb... 2018-06-01   \n",
       "...                                                     ...        ...   \n",
       "16426889  253a1ded04be4ee0152148bb75ec1303d854c245d72706... 2021-05-01   \n",
       "16426890  f56cb6775dbf3ddb95474f8a58bdc0e9dc34052160600a... 2021-05-01   \n",
       "16426891  6576b346d24af516dc6e62707bf4d274e30e29eeab44cc... 2021-05-01   \n",
       "16426892  afc7751d9897f3f75ba20d5f86dd28bad965bc08ad5266... 2021-05-01   \n",
       "16426893  5458656712ebdcb4f339ccc33b893e03fecb4d1bdd10ea... 2021-05-01   \n",
       "\n",
       "                            Falls within  Longitude   Latitude  LSOA code  \\\n",
       "9064997   Avon and Somerset Constabulary  -2.509930  51.410873  E01014399   \n",
       "9065003   Avon and Somerset Constabulary  -2.509930  51.410873  E01014399   \n",
       "9065004   Avon and Somerset Constabulary  -2.510162  51.410998  E01014399   \n",
       "9065005   Avon and Somerset Constabulary  -2.509930  51.410873  E01014399   \n",
       "9065006   Avon and Somerset Constabulary  -2.516919  51.423683  E01014399   \n",
       "...                                  ...        ...        ...        ...   \n",
       "16426889                Wiltshire Police  -1.759025  50.994654  E01031995   \n",
       "16426890                Wiltshire Police  -1.758262  50.993385  E01031995   \n",
       "16426891                Wiltshire Police  -1.739677  50.994244  E01031995   \n",
       "16426892                Wiltshire Police  -1.753306  50.995578  E01031995   \n",
       "16426893                Wiltshire Police  -1.759025  50.994654  E01031995   \n",
       "\n",
       "                                  LSOA name                    Crime type  \\\n",
       "9064997   Bath and North East Somerset 001A         Anti-social behaviour   \n",
       "9065003   Bath and North East Somerset 001A     Criminal damage and arson   \n",
       "9065004   Bath and North East Somerset 001A     Criminal damage and arson   \n",
       "9065005   Bath and North East Somerset 001A                   Other theft   \n",
       "9065006   Bath and North East Somerset 001A                  Public order   \n",
       "...                                     ...                           ...   \n",
       "16426889                     Wiltshire 062E                   Other theft   \n",
       "16426890                     Wiltshire 062E                  Public order   \n",
       "16426891                     Wiltshire 062E                 Vehicle crime   \n",
       "16426892                     Wiltshire 062E  Violence and sexual offences   \n",
       "16426893                     Wiltshire 062E  Violence and sexual offences   \n",
       "\n",
       "                                  Last outcome category  Context  \n",
       "9064997                                             NaN      NaN  \n",
       "9065003                     Unable to prosecute suspect      NaN  \n",
       "9065004                       Status update unavailable      NaN  \n",
       "9065005                       Status update unavailable      NaN  \n",
       "9065006                     Unable to prosecute suspect      NaN  \n",
       "...                                                 ...      ...  \n",
       "16426889                            Under investigation      NaN  \n",
       "16426890                            Under investigation      NaN  \n",
       "16426891  Investigation complete; no suspect identified      NaN  \n",
       "16426892                            Under investigation      NaN  \n",
       "16426893                            Under investigation      NaN  \n",
       "\n",
       "[14107492 rows x 10 columns]"
      ]
     },
     "execution_count": 307,
     "metadata": {},
     "output_type": "execute_result"
    }
   ],
   "source": [
    "merged_df.drop_duplicates('Crime ID', keep ='first')"
   ]
  },
  {
   "cell_type": "code",
   "execution_count": 308,
   "id": "33f5d5c1",
   "metadata": {},
   "outputs": [
    {
     "name": "stdout",
     "output_type": "stream",
     "text": [
      "<class 'pandas.core.frame.DataFrame'>\n",
      "Int64Index: 17526680 entries, 9064997 to 16426893\n",
      "Data columns (total 10 columns):\n",
      " #   Column                 Dtype         \n",
      "---  ------                 -----         \n",
      " 0   Crime ID               string        \n",
      " 1   Month                  datetime64[ns]\n",
      " 2   Falls within           string        \n",
      " 3   Longitude              float64       \n",
      " 4   Latitude               float64       \n",
      " 5   LSOA code              string        \n",
      " 6   LSOA name              string        \n",
      " 7   Crime type             category      \n",
      " 8   Last outcome category  category      \n",
      " 9   Context                float64       \n",
      "dtypes: category(2), datetime64[ns](1), float64(3), string(4)\n",
      "memory usage: 1.2 GB\n"
     ]
    }
   ],
   "source": [
    "merged_df.info()"
   ]
  },
  {
   "cell_type": "code",
   "execution_count": 309,
   "id": "8227b86b",
   "metadata": {},
   "outputs": [],
   "source": [
    "merged_df = merged_df.drop(columns = ['Crime ID','LSOA code','Last outcome category','Context'])"
   ]
  },
  {
   "cell_type": "code",
   "execution_count": 310,
   "id": "c27eac11",
   "metadata": {},
   "outputs": [
    {
     "name": "stdout",
     "output_type": "stream",
     "text": [
      "<class 'pandas.core.frame.DataFrame'>\n",
      "Int64Index: 17526680 entries, 9064997 to 16426893\n",
      "Data columns (total 6 columns):\n",
      " #   Column        Dtype         \n",
      "---  ------        -----         \n",
      " 0   Month         datetime64[ns]\n",
      " 1   Falls within  string        \n",
      " 2   Longitude     float64       \n",
      " 3   Latitude      float64       \n",
      " 4   LSOA name     string        \n",
      " 5   Crime type    category      \n",
      "dtypes: category(1), datetime64[ns](1), float64(2), string(2)\n",
      "memory usage: 819.0 MB\n"
     ]
    }
   ],
   "source": [
    "merged_df.info()"
   ]
  },
  {
   "cell_type": "code",
   "execution_count": 311,
   "id": "eb10dfa4",
   "metadata": {},
   "outputs": [],
   "source": [
    "merged_df.to_csv(\"../raw_data/mapplot_police_data.csv\")"
   ]
  },
  {
   "cell_type": "code",
   "execution_count": null,
   "id": "0deee5c5",
   "metadata": {},
   "outputs": [],
   "source": []
  }
 ],
 "metadata": {
  "kernelspec": {
   "display_name": "Python 3",
   "language": "python",
   "name": "python3"
  },
  "language_info": {
   "codemirror_mode": {
    "name": "ipython",
    "version": 3
   },
   "file_extension": ".py",
   "mimetype": "text/x-python",
   "name": "python",
   "nbconvert_exporter": "python",
   "pygments_lexer": "ipython3",
   "version": "3.8.6"
  },
  "toc": {
   "base_numbering": 1,
   "nav_menu": {},
   "number_sections": true,
   "sideBar": true,
   "skip_h1_title": false,
   "title_cell": "Table of Contents",
   "title_sidebar": "Contents",
   "toc_cell": false,
   "toc_position": {},
   "toc_section_display": true,
   "toc_window_display": false
  }
 },
 "nbformat": 4,
 "nbformat_minor": 5
}
