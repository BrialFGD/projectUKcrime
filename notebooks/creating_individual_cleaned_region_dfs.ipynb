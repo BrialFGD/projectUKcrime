{
 "cells": [
  {
   "cell_type": "markdown",
   "id": "3ca823a6",
   "metadata": {},
   "source": [
    "### Imports"
   ]
  },
  {
   "cell_type": "code",
   "execution_count": 1,
   "id": "d921f90a",
   "metadata": {},
   "outputs": [],
   "source": [
    "import pandas as pd\n",
    "import numpy as np\n",
    "import requests \n",
    "import pickle\n",
    "from os import listdir"
   ]
  },
  {
   "cell_type": "markdown",
   "id": "21983d55",
   "metadata": {},
   "source": [
    "### Full dataframe"
   ]
  },
  {
   "cell_type": "code",
   "execution_count": 10,
   "id": "358a6592",
   "metadata": {},
   "outputs": [],
   "source": [
    "complete_df = pd.read_csv('/Users/andrewsmith/Desktop/Crime_Data_project/data/complete_crime_data/cleaned_police_data_all_areas.csv')"
   ]
  },
  {
   "cell_type": "code",
   "execution_count": 11,
   "id": "7c999ce6",
   "metadata": {},
   "outputs": [],
   "source": [
    "police_force_area_list = complete_df[\"Falls within\"].unique().tolist()"
   ]
  },
  {
   "cell_type": "markdown",
   "id": "437143a5",
   "metadata": {},
   "source": [
    "### Function for obtaining individual area dataframe"
   ]
  },
  {
   "cell_type": "code",
   "execution_count": null,
   "id": "60d80f6c",
   "metadata": {},
   "outputs": [],
   "source": [
    "area_df = complete_df[complete_df[\"Falls within\"] == police_force_area_list[0]]"
   ]
  },
  {
   "cell_type": "code",
   "execution_count": null,
   "id": "a38e19aa",
   "metadata": {},
   "outputs": [],
   "source": [
    "def get_police_force_area_csv(police_force_area): \n",
    "    area_df = complete_df[complete_df[\"Falls within\"] == police_force_area]\n",
    "    police_force_area = police_force_area.replace(\" \",\"_\")\n",
    "    police_force_area = police_force_area.lower()\n",
    "    return area_df.to_csv(f\"/Users/andrewsmith/Desktop/Crime_Data_project/data/csv_individual_police_force_area_df/{police_force_area}_complete.csv\")"
   ]
  },
  {
   "cell_type": "markdown",
   "id": "9fb944ba",
   "metadata": {},
   "source": [
    "### methods for reducing file size and pickling"
   ]
  },
  {
   "cell_type": "code",
   "execution_count": 14,
   "id": "706f5f4c",
   "metadata": {},
   "outputs": [],
   "source": [
    "def pickle_file(police_force_area):\n",
    "    police_force_area = police_force_area.replace(\" \",\"_\")\n",
    "    police_force_area = police_force_area.lower()\n",
    "    area_df = pd.read_csv(f\"/Users/andrewsmith/Desktop/Crime_Data_project/data/csv_individual_police_force_area_df/{police_force_area}_complete.csv\")\n",
    "    area_df = area_df.drop(columns = ['Unnamed: 0','Unnamed: 0.1','Crime ID','Reported by','Location','Context','other_id'])\n",
    "    area_df[\"Crime type\"] = area_df[\"Crime type\"].astype('category')\n",
    "    filename = f\"/Users/andrewsmith/Desktop/Crime_Data_project/data/pickle_individual_police_force_area_df/{police_force_area}.pkl\"\n",
    "    outfile = open(filename,'wb')\n",
    "    pickle.dump(area_df,outfile)\n",
    "    outfile.close()"
   ]
  },
  {
   "cell_type": "code",
   "execution_count": 15,
   "id": "92bfa3d5",
   "metadata": {},
   "outputs": [],
   "source": [
    "for area in police_force_area_list: \n",
    "    pickle_file(area)"
   ]
  },
  {
   "cell_type": "markdown",
   "id": "edcd7b55",
   "metadata": {},
   "source": [
    "### Creating a pickle of police force area list"
   ]
  },
  {
   "cell_type": "code",
   "execution_count": 12,
   "id": "8be6bac6",
   "metadata": {},
   "outputs": [],
   "source": [
    "police_force_area_list = [police_force_area.replace(\" \",\"_\") for police_force_area in police_force_area_list]\n",
    "police_force_area_list = [police_force_area.lower() for police_force_area in police_force_area_list]"
   ]
  },
  {
   "cell_type": "code",
   "execution_count": 17,
   "id": "39f31a95",
   "metadata": {},
   "outputs": [],
   "source": [
    "filename = f\"/Users/andrewsmith/Desktop/Crime_Data_project/data/police_force_area_list.pkl\"\n",
    "outfile = open(filename,'wb')\n",
    "pickle.dump(police_force_area_list,outfile)\n",
    "outfile.close()"
   ]
  },
  {
   "cell_type": "code",
   "execution_count": null,
   "id": "984b7703",
   "metadata": {},
   "outputs": [],
   "source": []
  }
 ],
 "metadata": {
  "kernelspec": {
   "display_name": "Python 3",
   "language": "python",
   "name": "python3"
  },
  "language_info": {
   "codemirror_mode": {
    "name": "ipython",
    "version": 3
   },
   "file_extension": ".py",
   "mimetype": "text/x-python",
   "name": "python",
   "nbconvert_exporter": "python",
   "pygments_lexer": "ipython3",
   "version": "3.8.6"
  }
 },
 "nbformat": 4,
 "nbformat_minor": 5
}
